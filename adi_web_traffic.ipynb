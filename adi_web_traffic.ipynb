{
 "cells": [
  {
   "cell_type": "code",
   "metadata": {
    "tags": [],
    "deepnote_to_be_reexecuted": false,
    "source_hash": "ca007d0f",
    "execution_start": 1651513462876,
    "execution_millis": 5758,
    "cell_id": "572cc457-2324-4e5a-865c-de1fa3863807",
    "deepnote_cell_type": "code",
    "deepnote_cell_height": 608.25
   },
   "source": "#https://medium.com/analytics-vidhya/python-code-on-holt-winters-forecasting-3843808a9873\n!pip install statsmodels\n# dataframe opertations - pandas\nimport pandas as pd\n# plotting data - matplotlib\nfrom matplotlib import pyplot as plt\n# time series - statsmodels \n# Seasonality decomposition\nfrom statsmodels.tsa.seasonal import seasonal_decompose\nfrom statsmodels.tsa.seasonal import seasonal_decompose \n# holt winters \n# single exponential smoothing\nfrom statsmodels.tsa.holtwinters import SimpleExpSmoothing   \n# double and triple exponential smoothing\nfrom statsmodels.tsa.holtwinters import ExponentialSmoothing\nimport numpy as np",
   "outputs": [
    {
     "name": "stdout",
     "text": "Requirement already satisfied: statsmodels in /root/venv/lib/python3.7/site-packages (0.13.2)\nRequirement already satisfied: scipy>=1.3 in /shared-libs/python3.7/py/lib/python3.7/site-packages (from statsmodels) (1.7.3)\nRequirement already satisfied: numpy>=1.17 in /shared-libs/python3.7/py/lib/python3.7/site-packages (from statsmodels) (1.21.6)\nRequirement already satisfied: patsy>=0.5.2 in /root/venv/lib/python3.7/site-packages (from statsmodels) (0.5.2)\nRequirement already satisfied: packaging>=21.3 in /shared-libs/python3.7/py/lib/python3.7/site-packages (from statsmodels) (21.3)\nRequirement already satisfied: pandas>=0.25 in /shared-libs/python3.7/py/lib/python3.7/site-packages (from statsmodels) (1.2.5)\nRequirement already satisfied: six in /shared-libs/python3.7/py-core/lib/python3.7/site-packages (from patsy>=0.5.2->statsmodels) (1.16.0)\nRequirement already satisfied: pyparsing!=3.0.5,>=2.0.2 in /shared-libs/python3.7/py/lib/python3.7/site-packages (from packaging>=21.3->statsmodels) (3.0.8)\nRequirement already satisfied: python-dateutil>=2.7.3 in /shared-libs/python3.7/py-core/lib/python3.7/site-packages (from pandas>=0.25->statsmodels) (2.8.2)\nRequirement already satisfied: pytz>=2017.3 in /shared-libs/python3.7/py/lib/python3.7/site-packages (from pandas>=0.25->statsmodels) (2022.1)\n\u001b[33mWARNING: You are using pip version 20.1.1; however, version 22.0.4 is available.\nYou should consider upgrading via the '/root/venv/bin/python -m pip install --upgrade pip' command.\u001b[0m\n",
     "output_type": "stream"
    }
   ],
   "execution_count": null
  },
  {
   "cell_type": "code",
   "metadata": {
    "tags": [],
    "deepnote_to_be_reexecuted": false,
    "source_hash": "b2639def",
    "execution_start": 1651513468639,
    "execution_millis": 48,
    "cell_id": "00001-8c11022f-9b7b-46fc-8fbd-fda9f2161df0",
    "deepnote_cell_type": "code",
    "deepnote_cell_height": 744
   },
   "source": "aprn = pd.read_csv(\"/work/Download Data - STOCK_US_XNYS_APRN-3.csv\")\ntraffic = [439544, 431428, 438406, 489471, 469408, 449945, 454281,421894,446790,473967,483814,500158,491911]\ntraffic.reverse()\naprn['traffic'] = traffic\npaid_traffic = [123762, 182346, 129367, 169540, 75044, 75595, 101809, 149097, 103598, 216057, 127016, 122688, 121172]\npaid_traffic.reverse()\naprn['paid_traffic'] = paid_traffic\naprn[\"Volume_int\"] = aprn['Volume'].str.replace(\",\", \"\").astype(int)\naprn",
   "outputs": [
    {
     "output_type": "execute_result",
     "execution_count": 2,
     "data": {
      "application/vnd.deepnote.dataframe.v3+json": {
       "column_count": 9,
       "row_count": 13,
       "columns": [
        {
         "name": "Date",
         "dtype": "object",
         "stats": {
          "unique_count": 13,
          "nan_count": 0,
          "categories": [
           {
            "name": "04/2022",
            "count": 1
           },
           {
            "name": "03/2022",
            "count": 1
           },
           {
            "name": "11 others",
            "count": 11
           }
          ]
         }
        },
        {
         "name": "Open",
         "dtype": "float64",
         "stats": {
          "unique_count": 13,
          "nan_count": 0,
          "min": "4.09",
          "max": "11.15",
          "histogram": [
           {
            "bin_start": 4.09,
            "bin_end": 4.796,
            "count": 4
           },
           {
            "bin_start": 4.796,
            "bin_end": 5.502,
            "count": 2
           },
           {
            "bin_start": 5.502,
            "bin_end": 6.208,
            "count": 1
           },
           {
            "bin_start": 6.208,
            "bin_end": 6.914,
            "count": 2
           },
           {
            "bin_start": 6.914,
            "bin_end": 7.62,
            "count": 1
           },
           {
            "bin_start": 7.62,
            "bin_end": 8.326,
            "count": 1
           },
           {
            "bin_start": 8.326,
            "bin_end": 9.032,
            "count": 0
           },
           {
            "bin_start": 9.032,
            "bin_end": 9.738,
            "count": 1
           },
           {
            "bin_start": 9.738,
            "bin_end": 10.444,
            "count": 0
           },
           {
            "bin_start": 10.444,
            "bin_end": 11.15,
            "count": 1
           }
          ]
         }
        },
        {
         "name": "High",
         "dtype": "float64",
         "stats": {
          "unique_count": 13,
          "nan_count": 0,
          "min": "4.48",
          "max": "12.7599",
          "histogram": [
           {
            "bin_start": 4.48,
            "bin_end": 5.30799,
            "count": 3
           },
           {
            "bin_start": 5.30799,
            "bin_end": 6.13598,
            "count": 2
           },
           {
            "bin_start": 6.13598,
            "bin_end": 6.963970000000001,
            "count": 1
           },
           {
            "bin_start": 6.963970000000001,
            "bin_end": 7.79196,
            "count": 2
           },
           {
            "bin_start": 7.79196,
            "bin_end": 8.61995,
            "count": 1
           },
           {
            "bin_start": 8.61995,
            "bin_end": 9.447940000000001,
            "count": 2
           },
           {
            "bin_start": 9.447940000000001,
            "bin_end": 10.27593,
            "count": 0
           },
           {
            "bin_start": 10.27593,
            "bin_end": 11.10392,
            "count": 0
           },
           {
            "bin_start": 11.10392,
            "bin_end": 11.93191,
            "count": 1
           },
           {
            "bin_start": 11.93191,
            "bin_end": 12.7599,
            "count": 1
           }
          ]
         }
        },
        {
         "name": "Low",
         "dtype": "float64",
         "stats": {
          "unique_count": 13,
          "nan_count": 0,
          "min": "3.52",
          "max": "7.32",
          "histogram": [
           {
            "bin_start": 3.52,
            "bin_end": 3.9,
            "count": 4
           },
           {
            "bin_start": 3.9,
            "bin_end": 4.28,
            "count": 3
           },
           {
            "bin_start": 4.28,
            "bin_end": 4.66,
            "count": 0
           },
           {
            "bin_start": 4.66,
            "bin_end": 5.04,
            "count": 1
           },
           {
            "bin_start": 5.04,
            "bin_end": 5.42,
            "count": 1
           },
           {
            "bin_start": 5.42,
            "bin_end": 5.800000000000001,
            "count": 0
           },
           {
            "bin_start": 5.800000000000001,
            "bin_end": 6.18,
            "count": 2
           },
           {
            "bin_start": 6.18,
            "bin_end": 6.5600000000000005,
            "count": 1
           },
           {
            "bin_start": 6.5600000000000005,
            "bin_end": 6.9399999999999995,
            "count": 0
           },
           {
            "bin_start": 6.9399999999999995,
            "bin_end": 7.32,
            "count": 1
           }
          ]
         }
        },
        {
         "name": "Close",
         "dtype": "float64",
         "stats": {
          "unique_count": 13,
          "nan_count": 0,
          "min": "4.05",
          "max": "11.21",
          "histogram": [
           {
            "bin_start": 4.05,
            "bin_end": 4.766,
            "count": 5
           },
           {
            "bin_start": 4.766,
            "bin_end": 5.482,
            "count": 2
           },
           {
            "bin_start": 5.482,
            "bin_end": 6.198,
            "count": 1
           },
           {
            "bin_start": 6.198,
            "bin_end": 6.914,
            "count": 1
           },
           {
            "bin_start": 6.914,
            "bin_end": 7.630000000000001,
            "count": 1
           },
           {
            "bin_start": 7.630000000000001,
            "bin_end": 8.346,
            "count": 1
           },
           {
            "bin_start": 8.346,
            "bin_end": 9.062000000000001,
            "count": 0
           },
           {
            "bin_start": 9.062000000000001,
            "bin_end": 9.778,
            "count": 1
           },
           {
            "bin_start": 9.778,
            "bin_end": 10.494,
            "count": 0
           },
           {
            "bin_start": 10.494,
            "bin_end": 11.21,
            "count": 1
           }
          ]
         }
        },
        {
         "name": "Volume",
         "dtype": "object",
         "stats": {
          "unique_count": 13,
          "nan_count": 0,
          "categories": [
           {
            "name": "7,439,129",
            "count": 1
           },
           {
            "name": "16,416,578",
            "count": 1
           },
           {
            "name": "11 others",
            "count": 11
           }
          ]
         }
        },
        {
         "name": "traffic",
         "dtype": "int64",
         "stats": {
          "unique_count": 13,
          "nan_count": 0,
          "min": "421894",
          "max": "500158",
          "histogram": [
           {
            "bin_start": 421894,
            "bin_end": 429720.4,
            "count": 1
           },
           {
            "bin_start": 429720.4,
            "bin_end": 437546.8,
            "count": 1
           },
           {
            "bin_start": 437546.8,
            "bin_end": 445373.2,
            "count": 2
           },
           {
            "bin_start": 445373.2,
            "bin_end": 453199.6,
            "count": 2
           },
           {
            "bin_start": 453199.6,
            "bin_end": 461026,
            "count": 1
           },
           {
            "bin_start": 461026,
            "bin_end": 468852.4,
            "count": 0
           },
           {
            "bin_start": 468852.4,
            "bin_end": 476678.8,
            "count": 2
           },
           {
            "bin_start": 476678.8,
            "bin_end": 484505.2,
            "count": 1
           },
           {
            "bin_start": 484505.2,
            "bin_end": 492331.6,
            "count": 2
           },
           {
            "bin_start": 492331.6,
            "bin_end": 500158,
            "count": 1
           }
          ]
         }
        },
        {
         "name": "paid_traffic",
         "dtype": "int64",
         "stats": {
          "unique_count": 13,
          "nan_count": 0,
          "min": "75044",
          "max": "216057",
          "histogram": [
           {
            "bin_start": 75044,
            "bin_end": 89145.3,
            "count": 2
           },
           {
            "bin_start": 89145.3,
            "bin_end": 103246.6,
            "count": 1
           },
           {
            "bin_start": 103246.6,
            "bin_end": 117347.9,
            "count": 1
           },
           {
            "bin_start": 117347.9,
            "bin_end": 131449.2,
            "count": 5
           },
           {
            "bin_start": 131449.2,
            "bin_end": 145550.5,
            "count": 0
           },
           {
            "bin_start": 145550.5,
            "bin_end": 159651.8,
            "count": 1
           },
           {
            "bin_start": 159651.8,
            "bin_end": 173753.09999999998,
            "count": 1
           },
           {
            "bin_start": 173753.09999999998,
            "bin_end": 187854.4,
            "count": 1
           },
           {
            "bin_start": 187854.4,
            "bin_end": 201955.7,
            "count": 0
           },
           {
            "bin_start": 201955.7,
            "bin_end": 216057,
            "count": 1
           }
          ]
         }
        },
        {
         "name": "Volume_int",
         "dtype": "int64",
         "stats": {
          "unique_count": 13,
          "nan_count": 0,
          "min": "7439129",
          "max": "60141946",
          "histogram": [
           {
            "bin_start": 7439129,
            "bin_end": 12709410.7,
            "count": 3
           },
           {
            "bin_start": 12709410.7,
            "bin_end": 17979692.4,
            "count": 2
           },
           {
            "bin_start": 17979692.4,
            "bin_end": 23249974.1,
            "count": 2
           },
           {
            "bin_start": 23249974.1,
            "bin_end": 28520255.8,
            "count": 3
           },
           {
            "bin_start": 28520255.8,
            "bin_end": 33790537.5,
            "count": 2
           },
           {
            "bin_start": 33790537.5,
            "bin_end": 39060819.2,
            "count": 0
           },
           {
            "bin_start": 39060819.2,
            "bin_end": 44331100.9,
            "count": 0
           },
           {
            "bin_start": 44331100.9,
            "bin_end": 49601382.6,
            "count": 0
           },
           {
            "bin_start": 49601382.6,
            "bin_end": 54871664.300000004,
            "count": 0
           },
           {
            "bin_start": 54871664.300000004,
            "bin_end": 60141946,
            "count": 1
           }
          ]
         }
        },
        {
         "name": "_deepnote_index_column",
         "dtype": "int64"
        }
       ],
       "rows": [
        {
         "Date": "04/2022",
         "Open": 4.17,
         "High": 4.48,
         "Low": 3.68,
         "Close": 4.12,
         "Volume": "7,439,129",
         "traffic": 491911,
         "paid_traffic": 121172,
         "Volume_int": 7439129,
         "_deepnote_index_column": 0
        },
        {
         "Date": "03/2022",
         "Open": 5.25,
         "High": 5.65,
         "Low": 4.04,
         "Close": 4.05,
         "Volume": "16,416,578",
         "traffic": 500158,
         "paid_traffic": 122688,
         "Volume_int": 16416578,
         "_deepnote_index_column": 1
        },
        {
         "Date": "02/2022",
         "Open": 7.75,
         "High": 8.58,
         "Low": 4.82,
         "Close": 5.23,
         "Volume": "27,762,545",
         "traffic": 483814,
         "paid_traffic": 127016,
         "Volume_int": 27762545,
         "_deepnote_index_column": 2
        },
        {
         "Date": "01/2022",
         "Open": 6.78,
         "High": 9.21,
         "Low": 5.91,
         "Close": 7.73,
         "Volume": "31,716,637",
         "traffic": 473967,
         "paid_traffic": 216057,
         "Volume_int": 31716637,
         "_deepnote_index_column": 3
        },
        {
         "Date": "12/2021",
         "Open": 11.15,
         "High": 12.7599,
         "Low": 6.15,
         "Close": 6.73,
         "Volume": "27,296,755",
         "traffic": 446790,
         "paid_traffic": 103598,
         "Volume_int": 27296755,
         "_deepnote_index_column": 4
        },
        {
         "Date": "11/2021",
         "Open": 9.16,
         "High": 11.34,
         "Low": 7.32,
         "Close": 11.21,
         "Volume": "20,569,493",
         "traffic": 421894,
         "paid_traffic": 149097,
         "Volume_int": 20569493,
         "_deepnote_index_column": 5
        },
        {
         "Date": "10/2021",
         "Open": 7.2,
         "High": 9.36,
         "Low": 6.55,
         "Close": 9.15,
         "Volume": "30,863,778",
         "traffic": 454281,
         "paid_traffic": 101809,
         "Volume_int": 30863778,
         "_deepnote_index_column": 6
        },
        {
         "Date": "09/2021",
         "Open": 4.09,
         "High": 7.69,
         "Low": 3.52,
         "Close": 7.35,
         "Volume": "60,141,946",
         "traffic": 449945,
         "paid_traffic": 75595,
         "Volume_int": 60141946,
         "_deepnote_index_column": 7
        },
        {
         "Date": "08/2021",
         "Open": 4.28,
         "High": 4.8299,
         "Low": 3.66,
         "Close": 4.16,
         "Volume": "17,515,945",
         "traffic": 469408,
         "paid_traffic": 75044,
         "Volume_int": 17515945,
         "_deepnote_index_column": 8
        },
        {
         "Date": "07/2021",
         "Open": 4.3,
         "High": 4.63,
         "Low": 3.54,
         "Close": 4.4,
         "Volume": "19,971,308",
         "traffic": 489471,
         "paid_traffic": 169540,
         "Volume_int": 19971308,
         "_deepnote_index_column": 9
        }
       ]
      },
      "text/plain": "       Date   Open     High    Low  Close      Volume  traffic  paid_traffic  \\\n0   04/2022   4.17   4.4800  3.680   4.12   7,439,129   491911        121172   \n1   03/2022   5.25   5.6500  4.040   4.05  16,416,578   500158        122688   \n2   02/2022   7.75   8.5800  4.820   5.23  27,762,545   483814        127016   \n3   01/2022   6.78   9.2100  5.910   7.73  31,716,637   473967        216057   \n4   12/2021  11.15  12.7599  6.150   6.73  27,296,755   446790        103598   \n5   11/2021   9.16  11.3400  7.320  11.21  20,569,493   421894        149097   \n6   10/2021   7.20   9.3600  6.550   9.15  30,863,778   454281        101809   \n7   09/2021   4.09   7.6900  3.520   7.35  60,141,946   449945         75595   \n8   08/2021   4.28   4.8299  3.660   4.16  17,515,945   469408         75044   \n9   07/2021   4.30   4.6300  3.540   4.40  19,971,308   489471        169540   \n10  06/2021   5.00   6.7000  4.015   4.28  28,169,451   438406        129367   \n11  05/2021   5.96   6.0200  3.960   5.00  10,848,052   431428        182346   \n12  04/2021   6.35   7.2500  5.300   5.93  10,734,752   439544        123762   \n\n    Volume_int  \n0      7439129  \n1     16416578  \n2     27762545  \n3     31716637  \n4     27296755  \n5     20569493  \n6     30863778  \n7     60141946  \n8     17515945  \n9     19971308  \n10    28169451  \n11    10848052  \n12    10734752  ",
      "text/html": "<div>\n<style scoped>\n    .dataframe tbody tr th:only-of-type {\n        vertical-align: middle;\n    }\n\n    .dataframe tbody tr th {\n        vertical-align: top;\n    }\n\n    .dataframe thead th {\n        text-align: right;\n    }\n</style>\n<table border=\"1\" class=\"dataframe\">\n  <thead>\n    <tr style=\"text-align: right;\">\n      <th></th>\n      <th>Date</th>\n      <th>Open</th>\n      <th>High</th>\n      <th>Low</th>\n      <th>Close</th>\n      <th>Volume</th>\n      <th>traffic</th>\n      <th>paid_traffic</th>\n      <th>Volume_int</th>\n    </tr>\n  </thead>\n  <tbody>\n    <tr>\n      <th>0</th>\n      <td>04/2022</td>\n      <td>4.17</td>\n      <td>4.4800</td>\n      <td>3.680</td>\n      <td>4.12</td>\n      <td>7,439,129</td>\n      <td>491911</td>\n      <td>121172</td>\n      <td>7439129</td>\n    </tr>\n    <tr>\n      <th>1</th>\n      <td>03/2022</td>\n      <td>5.25</td>\n      <td>5.6500</td>\n      <td>4.040</td>\n      <td>4.05</td>\n      <td>16,416,578</td>\n      <td>500158</td>\n      <td>122688</td>\n      <td>16416578</td>\n    </tr>\n    <tr>\n      <th>2</th>\n      <td>02/2022</td>\n      <td>7.75</td>\n      <td>8.5800</td>\n      <td>4.820</td>\n      <td>5.23</td>\n      <td>27,762,545</td>\n      <td>483814</td>\n      <td>127016</td>\n      <td>27762545</td>\n    </tr>\n    <tr>\n      <th>3</th>\n      <td>01/2022</td>\n      <td>6.78</td>\n      <td>9.2100</td>\n      <td>5.910</td>\n      <td>7.73</td>\n      <td>31,716,637</td>\n      <td>473967</td>\n      <td>216057</td>\n      <td>31716637</td>\n    </tr>\n    <tr>\n      <th>4</th>\n      <td>12/2021</td>\n      <td>11.15</td>\n      <td>12.7599</td>\n      <td>6.150</td>\n      <td>6.73</td>\n      <td>27,296,755</td>\n      <td>446790</td>\n      <td>103598</td>\n      <td>27296755</td>\n    </tr>\n    <tr>\n      <th>5</th>\n      <td>11/2021</td>\n      <td>9.16</td>\n      <td>11.3400</td>\n      <td>7.320</td>\n      <td>11.21</td>\n      <td>20,569,493</td>\n      <td>421894</td>\n      <td>149097</td>\n      <td>20569493</td>\n    </tr>\n    <tr>\n      <th>6</th>\n      <td>10/2021</td>\n      <td>7.20</td>\n      <td>9.3600</td>\n      <td>6.550</td>\n      <td>9.15</td>\n      <td>30,863,778</td>\n      <td>454281</td>\n      <td>101809</td>\n      <td>30863778</td>\n    </tr>\n    <tr>\n      <th>7</th>\n      <td>09/2021</td>\n      <td>4.09</td>\n      <td>7.6900</td>\n      <td>3.520</td>\n      <td>7.35</td>\n      <td>60,141,946</td>\n      <td>449945</td>\n      <td>75595</td>\n      <td>60141946</td>\n    </tr>\n    <tr>\n      <th>8</th>\n      <td>08/2021</td>\n      <td>4.28</td>\n      <td>4.8299</td>\n      <td>3.660</td>\n      <td>4.16</td>\n      <td>17,515,945</td>\n      <td>469408</td>\n      <td>75044</td>\n      <td>17515945</td>\n    </tr>\n    <tr>\n      <th>9</th>\n      <td>07/2021</td>\n      <td>4.30</td>\n      <td>4.6300</td>\n      <td>3.540</td>\n      <td>4.40</td>\n      <td>19,971,308</td>\n      <td>489471</td>\n      <td>169540</td>\n      <td>19971308</td>\n    </tr>\n    <tr>\n      <th>10</th>\n      <td>06/2021</td>\n      <td>5.00</td>\n      <td>6.7000</td>\n      <td>4.015</td>\n      <td>4.28</td>\n      <td>28,169,451</td>\n      <td>438406</td>\n      <td>129367</td>\n      <td>28169451</td>\n    </tr>\n    <tr>\n      <th>11</th>\n      <td>05/2021</td>\n      <td>5.96</td>\n      <td>6.0200</td>\n      <td>3.960</td>\n      <td>5.00</td>\n      <td>10,848,052</td>\n      <td>431428</td>\n      <td>182346</td>\n      <td>10848052</td>\n    </tr>\n    <tr>\n      <th>12</th>\n      <td>04/2021</td>\n      <td>6.35</td>\n      <td>7.2500</td>\n      <td>5.300</td>\n      <td>5.93</td>\n      <td>10,734,752</td>\n      <td>439544</td>\n      <td>123762</td>\n      <td>10734752</td>\n    </tr>\n  </tbody>\n</table>\n</div>"
     },
     "metadata": {}
    }
   ],
   "execution_count": null
  },
  {
   "cell_type": "code",
   "metadata": {
    "tags": [],
    "deepnote_to_be_reexecuted": false,
    "source_hash": "1a4d139f",
    "execution_start": 1651513468689,
    "execution_millis": 320,
    "cell_id": "00002-44cf2b18-bf20-4377-b095-36aa4db3818d",
    "deepnote_cell_type": "code",
    "deepnote_cell_height": 461.1875,
    "deepnote_output_heights": [
     21.1875,
     276
    ]
   },
   "source": "apr = aprn.set_index('Date')\napr.index = pd.to_datetime(apr.index)\napr[['traffic']].plot()",
   "outputs": [
    {
     "output_type": "execute_result",
     "execution_count": 3,
     "data": {
      "text/plain": "<AxesSubplot:xlabel='Date'>"
     },
     "metadata": {}
    },
    {
     "data": {
      "text/plain": "<Figure size 432x288 with 1 Axes>",
      "image/png": "[encoded data removed]"
     },
     "metadata": {
      "needs_background": "light",
      "image/png": {
       "width": 402,
       "height": 274
      }
     },
     "output_type": "display_data"
    }
   ],
   "execution_count": null
  },
  {
   "cell_type": "code",
   "metadata": {
    "tags": [],
    "deepnote_to_be_reexecuted": false,
    "source_hash": "b623e53d",
    "execution_start": 1651513469008,
    "execution_millis": 4,
    "cell_id": "00003-765faa64-6234-49fa-9e1f-bcd56d0ca344",
    "deepnote_cell_type": "code",
    "deepnote_cell_height": 81
   },
   "source": "",
   "outputs": [],
   "execution_count": null
  },
  {
   "cell_type": "code",
   "metadata": {
    "tags": [],
    "deepnote_to_be_reexecuted": false,
    "source_hash": "83f8f216",
    "execution_start": 1651513469049,
    "execution_millis": 5,
    "cell_id": "00004-051336cf-c281-48d2-8d48-c1941c0acbc9",
    "deepnote_cell_type": "code",
    "deepnote_cell_height": 690
   },
   "source": "dates = ['01/15','02/15','03/15','04/15','05/15','06/15','07/15','08/15','09/15','10/15','11/15','12/15', '01/16','02/16','03/16','04/16','05/16', '06/16', '07/16', '08/16', '09/16', '10/16', '11/16', '12/16', '01/17', '02/17', '03/17', '04/17', '05/17', '06/17', '07/17', '08/17', '09/17', '10/17', '11/17', '12/17', '01/18', '02/18', '03/18', '04/18', '05/18','06/18','07/18','08/18','09/18','10/18','11/18','12/18','01/19','02/19','03/19','04/19','05/19','06/19','07/19','08/19','09/19','10/19','11/19','12/19', '01/20','02/20','03/20','04/20','05/20', '06/20', '07/20', '08/20', '09/20', '10/20', '11/20', '12/20', '01/21', '02/21', '03/21', '04/21', '05/21', '06/21', '07/21', '08/21', '09/21', '10/21', '11/21', '12/21', '01/22', '02/22', '03/22', '04/22']\ntraffics = [127077,127056,140762,171606,192150,205056,282106,286587,179467,291393,328283,449382,453683,464292,461738,738551,741434,749118,765850,763964,765121,769500,766245,925655,926447,913836,921090,938213,925346,929948,850356,918385,879926,860729,865999,868021,1236174,1267117,1172552,1148436,1146738,1132393,368076,1153919,1145270,1174026,1162032,1189736,1308995,1241749,1235213,1223525,1199659,635620,645115,625248,650484,638673,506211,532678,523482,550510,543114,455085,409300, 463314, 467943, 436575, 447100, 421514, 436075, 424890, 435653, 429859, 429081, 439544, 431428, 438406, 489471, 469408, 449945, 454281, 421894, 446790, 473967, 483814, 500158, 491911]\njegg = pd.DataFrame(data = {'dates': dates, 'traffic': traffics})\njegg['dates'] = jegg['dates'].str.replace(\"/\", \"/20\")\njegg['dates'] = pd.to_datetime(jegg['dates'])\njegg.set_index('dates')",
   "outputs": [
    {
     "output_type": "execute_result",
     "execution_count": 4,
     "data": {
      "application/vnd.deepnote.dataframe.v3+json": {
       "column_count": 1,
       "row_count": 88,
       "columns": [
        {
         "name": "traffic",
         "dtype": "int64",
         "stats": {
          "unique_count": 88,
          "nan_count": 0,
          "min": "127056",
          "max": "1308995",
          "histogram": [
           {
            "bin_start": 127056,
            "bin_end": 245249.9,
            "count": 7
           },
           {
            "bin_start": 245249.9,
            "bin_end": 363443.8,
            "count": 4
           },
           {
            "bin_start": 363443.8,
            "bin_end": 481637.69999999995,
            "count": 26
           },
           {
            "bin_start": 481637.69999999995,
            "bin_end": 599831.6,
            "count": 9
           },
           {
            "bin_start": 599831.6,
            "bin_end": 718025.5,
            "count": 5
           },
           {
            "bin_start": 718025.5,
            "bin_end": 836219.3999999999,
            "count": 8
           },
           {
            "bin_start": 836219.3999999999,
            "bin_end": 954413.2999999999,
            "count": 13
           },
           {
            "bin_start": 954413.2999999999,
            "bin_end": 1072607.2,
            "count": 0
           },
           {
            "bin_start": 1072607.2,
            "bin_end": 1190801.0999999999,
            "count": 9
           },
           {
            "bin_start": 1190801.0999999999,
            "bin_end": 1308995,
            "count": 7
           }
          ]
         }
        },
        {
         "name": "_deepnote_index_column",
         "dtype": "datetime64[ns]"
        }
       ],
       "rows": [
        {
         "traffic": 127077,
         "_deepnote_index_column": "2015-01-01T00:00:00.000000"
        },
        {
         "traffic": 127056,
         "_deepnote_index_column": "2015-02-01T00:00:00.000000"
        },
        {
         "traffic": 140762,
         "_deepnote_index_column": "2015-03-01T00:00:00.000000"
        },
        {
         "traffic": 171606,
         "_deepnote_index_column": "2015-04-01T00:00:00.000000"
        },
        {
         "traffic": 192150,
         "_deepnote_index_column": "2015-05-01T00:00:00.000000"
        },
        {
         "traffic": 205056,
         "_deepnote_index_column": "2015-06-01T00:00:00.000000"
        },
        {
         "traffic": 282106,
         "_deepnote_index_column": "2015-07-01T00:00:00.000000"
        },
        {
         "traffic": 286587,
         "_deepnote_index_column": "2015-08-01T00:00:00.000000"
        },
        {
         "traffic": 179467,
         "_deepnote_index_column": "2015-09-01T00:00:00.000000"
        },
        {
         "traffic": 291393,
         "_deepnote_index_column": "2015-10-01T00:00:00.000000"
        }
       ]
      },
      "text/plain": "            traffic\ndates              \n2015-01-01   127077\n2015-02-01   127056\n2015-03-01   140762\n2015-04-01   171606\n2015-05-01   192150\n...             ...\n2021-12-01   446790\n2022-01-01   473967\n2022-02-01   483814\n2022-03-01   500158\n2022-04-01   491911\n\n[88 rows x 1 columns]",
      "text/html": "<div>\n<style scoped>\n    .dataframe tbody tr th:only-of-type {\n        vertical-align: middle;\n    }\n\n    .dataframe tbody tr th {\n        vertical-align: top;\n    }\n\n    .dataframe thead th {\n        text-align: right;\n    }\n</style>\n<table border=\"1\" class=\"dataframe\">\n  <thead>\n    <tr style=\"text-align: right;\">\n      <th></th>\n      <th>traffic</th>\n    </tr>\n    <tr>\n      <th>dates</th>\n      <th></th>\n    </tr>\n  </thead>\n  <tbody>\n    <tr>\n      <th>2015-01-01</th>\n      <td>127077</td>\n    </tr>\n    <tr>\n      <th>2015-02-01</th>\n      <td>127056</td>\n    </tr>\n    <tr>\n      <th>2015-03-01</th>\n      <td>140762</td>\n    </tr>\n    <tr>\n      <th>2015-04-01</th>\n      <td>171606</td>\n    </tr>\n    <tr>\n      <th>2015-05-01</th>\n      <td>192150</td>\n    </tr>\n    <tr>\n      <th>...</th>\n      <td>...</td>\n    </tr>\n    <tr>\n      <th>2021-12-01</th>\n      <td>446790</td>\n    </tr>\n    <tr>\n      <th>2022-01-01</th>\n      <td>473967</td>\n    </tr>\n    <tr>\n      <th>2022-02-01</th>\n      <td>483814</td>\n    </tr>\n    <tr>\n      <th>2022-03-01</th>\n      <td>500158</td>\n    </tr>\n    <tr>\n      <th>2022-04-01</th>\n      <td>491911</td>\n    </tr>\n  </tbody>\n</table>\n<p>88 rows × 1 columns</p>\n</div>"
     },
     "metadata": {}
    }
   ],
   "execution_count": null
  },
  {
   "cell_type": "code",
   "metadata": {
    "tags": [],
    "deepnote_to_be_reexecuted": false,
    "source_hash": "e098ddb7",
    "execution_start": 1651513469050,
    "execution_millis": 625,
    "cell_id": "00005-06c66ffe-6a27-451a-853b-088a9344695e",
    "deepnote_cell_type": "code",
    "deepnote_cell_height": 397,
    "deepnote_output_heights": [
     282
    ]
   },
   "source": "decompose_result = seasonal_decompose(jegg['traffic'], model= 'multiplicative', period = 12)\ndecompose_result.plot();",
   "outputs": [
    {
     "data": {
      "text/plain": "<Figure size 432x288 with 4 Axes>",
      "image/png": "[encoded data removed]"
     },
     "metadata": {
      "needs_background": "light",
      "image/png": {
       "width": 424,
       "height": 280
      }
     },
     "output_type": "display_data"
    }
   ],
   "execution_count": null
  },
  {
   "cell_type": "code",
   "metadata": {
    "tags": [],
    "deepnote_to_be_reexecuted": false,
    "source_hash": "cbc2e258",
    "execution_start": 1651513469667,
    "execution_millis": 222,
    "cell_id": "00006-1609630f-59c6-4e1e-bfd1-31f6ca46447d",
    "deepnote_cell_type": "code",
    "deepnote_cell_height": 381,
    "deepnote_output_heights": [
     266
    ]
   },
   "source": "jegg['HWES1'] = SimpleExpSmoothing(jegg['traffic']).fit(smoothing_level=(1/24),optimized=False,use_brute=True).fittedvalues\njegg[['traffic', 'HWES1']].plot(title= 'Holt Winters Single Exponential Smoothing');",
   "outputs": [
    {
     "data": {
      "text/plain": "<Figure size 432x288 with 1 Axes>",
      "image/png": "[encoded data removed]"
     },
     "metadata": {
      "needs_background": "light",
      "image/png": {
       "width": 372,
       "height": 264
      }
     },
     "output_type": "display_data"
    }
   ],
   "execution_count": null
  },
  {
   "cell_type": "code",
   "metadata": {
    "tags": [],
    "deepnote_to_be_reexecuted": false,
    "source_hash": "d5cd2b59",
    "execution_start": 1651513469884,
    "execution_millis": 270,
    "cell_id": "00007-239bc3be-d976-4cea-b274-8735caad8e35",
    "deepnote_cell_type": "code",
    "deepnote_cell_height": 509.75,
    "deepnote_output_heights": [
     null,
     266
    ]
   },
   "source": "jegg['HWES2_ADD'] = ExponentialSmoothing(jegg['traffic'],trend= 'add').fit().fittedvalues\njegg['HWES2_MUL'] = ExponentialSmoothing(jegg['traffic'],trend= 'mul').fit().fittedvalues\njegg[['traffic','HWES2_ADD','HWES2_MUL']].plot(title= 'Holt Winters Double Exponential Smoothing: Additive and Multiplicative Trend');",
   "outputs": [
    {
     "name": "stderr",
     "text": "/root/venv/lib/python3.7/site-packages/statsmodels/tsa/holtwinters/model.py:917: ConvergenceWarning: Optimization failed to converge. Check mle_retvals.\n  ConvergenceWarning,\n/root/venv/lib/python3.7/site-packages/statsmodels/tsa/holtwinters/model.py:917: ConvergenceWarning: Optimization failed to converge. Check mle_retvals.\n  ConvergenceWarning,\n",
     "output_type": "stream"
    },
    {
     "data": {
      "text/plain": "<Figure size 432x288 with 1 Axes>",
      "image/png": "[encoded data removed]"
     },
     "metadata": {
      "needs_background": "light",
      "image/png": {
       "width": 483,
       "height": 264
      }
     },
     "output_type": "display_data"
    }
   ],
   "execution_count": null
  },
  {
   "cell_type": "code",
   "metadata": {
    "tags": [],
    "deepnote_to_be_reexecuted": false,
    "source_hash": "37b38e7d",
    "execution_start": 1651513470157,
    "execution_millis": 909,
    "cell_id": "00008-5dcdf0db-eea8-4a6a-b4eb-7688b158a5ba",
    "deepnote_cell_type": "code",
    "deepnote_cell_height": 509.75,
    "deepnote_output_heights": [
     null,
     266
    ]
   },
   "source": "jegg['HWES3_ADD'] = ExponentialSmoothing(jegg['traffic'],trend='add',seasonal='add',seasonal_periods=12).fit().fittedvalues\njegg['HWES3_MUL'] = ExponentialSmoothing(jegg['traffic'],trend='mul',seasonal='mul',seasonal_periods=12).fit().fittedvalues\njegg[['traffic','HWES3_ADD','HWES3_MUL']].plot(title='Holt Winters Triple Exponential Smoothing: Additive and Multiplicative Seasonality');",
   "outputs": [
    {
     "name": "stderr",
     "text": "/root/venv/lib/python3.7/site-packages/statsmodels/tsa/holtwinters/model.py:917: ConvergenceWarning: Optimization failed to converge. Check mle_retvals.\n  ConvergenceWarning,\n/root/venv/lib/python3.7/site-packages/statsmodels/tsa/holtwinters/model.py:917: ConvergenceWarning: Optimization failed to converge. Check mle_retvals.\n  ConvergenceWarning,\n",
     "output_type": "stream"
    },
    {
     "data": {
      "text/plain": "<Figure size 432x288 with 1 Axes>",
      "image/png": "[encoded data removed]"
     },
     "metadata": {
      "needs_background": "light",
      "image/png": {
       "width": 510,
       "height": 264
      }
     },
     "output_type": "display_data"
    }
   ],
   "execution_count": null
  },
  {
   "cell_type": "code",
   "metadata": {
    "tags": [],
    "deepnote_to_be_reexecuted": false,
    "source_hash": "99975a52",
    "execution_start": 1651513523357,
    "execution_millis": 4,
    "owner_user_id": "97043b88-9556-42d0-be8c-2441a0671844",
    "cell_id": "00009-57d0ad25-2ad2-425a-8cc8-1632e6d976a7",
    "deepnote_cell_type": "code",
    "deepnote_cell_height": 244.1875,
    "deepnote_output_heights": [
     21.1875
    ]
   },
   "source": "train = jegg[:60]\ntest = jegg[60:]\nfitted_model = ExponentialSmoothing(train[‘Thousands of Passengers’],trend=’mul’,seasonal=’mul’,seasonal_periods=12).fit()\ntest_predictions = fitted_model.forecast(24)\ntrain_airline[‘Thousands of Passengers’].plot(legend=True,label=’TRAIN’)\ntest_airline[‘Thousands of Passengers’].plot(legend=True,label=’TEST’,figsize=(6,4))\ntest_predictions.plot(legend=True,label=’PREDICTION’)\nplt.title(‘Train, Test and Predicted Test using Holt Winters’)",
   "outputs": [
    {
     "output_type": "execute_result",
     "execution_count": 9,
     "data": {
      "text/plain": "(88, 7)"
     },
     "metadata": {}
    }
   ],
   "execution_count": null
  },
  {
   "cell_type": "code",
   "metadata": {
    "tags": [],
    "cell_id": "00010-467e7859-9145-41e5-9e43-f6abd12ecf6f",
    "deepnote_cell_type": "code",
    "deepnote_cell_height": 66
   },
   "source": "",
   "execution_count": null,
   "outputs": []
  },
  {
   "cell_type": "markdown",
   "source": "<a style='text-decoration:none;line-height:16px;display:flex;color:#5B5B62;padding:10px;justify-content:end;' href='https://deepnote.com?utm_source=created-in-deepnote-cell&projectId=9e88faaf-ade4-4526-a9d5-3a022b266140' target=\"_blank\">\n<img alt='Created in deepnote.com' style='display:inline;max-height:16px;margin:0px;margin-right:7.5px;' src='data:image/svg+xml;base64,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' > </img>\nCreated in <span style='font-weight:600;margin-left:4px;'>Deepnote</span></a>",
   "metadata": {
    "tags": [],
    "created_in_deepnote_cell": true,
    "deepnote_cell_type": "markdown"
   }
  }
 ],
 "nbformat": 4,
 "nbformat_minor": 2,
 "metadata": {
  "orig_nbformat": 2,
  "deepnote": {
   "is_reactive": false
  },
  "deepnote_notebook_id": "7ba93f18-d4d4-4263-8477-2e592902ba19",
  "deepnote_execution_queue": []
 }
}