{
 "cells": [
  {
   "cell_type": "markdown",
   "source": "## Web scraping from instagram",
   "metadata": {
    "tags": [],
    "is_collapsed": false,
    "cell_id": "7b618895-b2fd-42e7-bc6c-7bcbc8a6be97",
    "deepnote_cell_type": "text-cell-h2"
   }
  },
  {
   "cell_type": "markdown",
   "source": "Attempt to generate demand metrics from likes/comments/views from instagram metrics.",
   "metadata": {
    "tags": [],
    "is_collapsed": false,
    "cell_id": "00001-3bc56c98-b5ad-4627-bf89-08015a716694",
    "deepnote_cell_type": "text-cell-p"
   }
  },
  {
   "cell_type": "markdown",
   "source": "Initial thoughts =&gt; metrics in terms of least to most rare: views (v) (if applicable) &lt; likes (l) &lt; comments (c)",
   "metadata": {
    "tags": [],
    "is_collapsed": false,
    "cell_id": "00002-8ccfe23f-c832-40a1-8c61-a3b73f65ccba",
    "deepnote_cell_type": "text-cell-p"
   }
  },
  {
   "cell_type": "markdown",
   "source": "Maybe can have some kind of weighted mean equation relating all of them (0.1v + 0.3l + 0.6c = engagement)",
   "metadata": {
    "tags": [],
    "is_collapsed": false,
    "cell_id": "00003-0795a967-8592-4c24-8e4d-00116252a5d3",
    "deepnote_cell_type": "text-cell-p"
   }
  },
  {
   "cell_type": "markdown",
   "source": "## Ok let's start",
   "metadata": {
    "tags": [],
    "is_collapsed": false,
    "cell_id": "00004-3f675854-5a5f-42c8-8538-ea49a3fcd1f5",
    "deepnote_cell_type": "text-cell-h2"
   }
  },
  {
   "cell_type": "markdown",
   "source": "### 1) Getting data from instagram",
   "metadata": {
    "tags": [],
    "is_collapsed": false,
    "cell_id": "00005-a3dcdad3-74ec-435c-ae4a-a1d9c3149ee7",
    "deepnote_cell_type": "text-cell-h3"
   }
  },
  {
   "cell_type": "markdown",
   "source": "Fortunately, there's a service that already web scrapes instagram pages for you (https://console.apify.com/actors#/store). Only have to type in the page you want. Decided to start first with \"freshly\" =&gt; data dumped in Freshly.json",
   "metadata": {
    "tags": [],
    "is_collapsed": false,
    "cell_id": "00006-68e690e5-fc88-496c-bad2-5c18c57d09f3",
    "owner_user_id": "796b076c-cfa6-402e-8810-32a546b1ace1",
    "deepnote_cell_type": "text-cell-p"
   }
  },
  {
   "cell_type": "markdown",
   "source": "### 2) Exploring data",
   "metadata": {
    "tags": [],
    "is_collapsed": false,
    "cell_id": "00007-1fc04bc2-e790-455e-93de-6b786151de8f",
    "deepnote_cell_type": "text-cell-h3"
   }
  },
  {
   "cell_type": "code",
   "metadata": {
    "tags": [],
    "deepnote_to_be_reexecuted": false,
    "source_hash": "815b296c",
    "execution_start": 1651441490379,
    "execution_millis": 136,
    "cell_id": "00008-da9df0cb-bcd9-4dd0-8daf-ec06ed22c9f0",
    "deepnote_cell_type": "code",
    "deepnote_cell_height": 285
   },
   "source": "import pandas as pd\n\ndf = pd.read_json(\"Freshly.json\")\ndf.head()",
   "execution_count": null,
   "outputs": [
    {
     "output_type": "execute_result",
     "execution_count": 2,
     "data": {
      "application/vnd.deepnote.dataframe.v3+json": {
       "column_count": 26,
       "row_count": 1,
       "columns": [
        {
         "name": "id",
         "dtype": "int64",
         "stats": {
          "unique_count": 1,
          "nan_count": 0,
          "min": "1478278542",
          "max": "1478278542",
          "histogram": [
           {
            "bin_start": 1478278541.5,
            "bin_end": 1478278541.6,
            "count": 0
           },
           {
            "bin_start": 1478278541.6,
            "bin_end": 1478278541.7,
            "count": 0
           },
           {
            "bin_start": 1478278541.7,
            "bin_end": 1478278541.8,
            "count": 0
           },
           {
            "bin_start": 1478278541.8,
            "bin_end": 1478278541.9,
            "count": 0
           },
           {
            "bin_start": 1478278541.9,
            "bin_end": 1478278542,
            "count": 0
           },
           {
            "bin_start": 1478278542,
            "bin_end": 1478278542.1,
            "count": 1
           },
           {
            "bin_start": 1478278542.1,
            "bin_end": 1478278542.2,
            "count": 0
           },
           {
            "bin_start": 1478278542.2,
            "bin_end": 1478278542.3,
            "count": 0
           },
           {
            "bin_start": 1478278542.3,
            "bin_end": 1478278542.4,
            "count": 0
           },
           {
            "bin_start": 1478278542.4,
            "bin_end": 1478278542.5,
            "count": 0
           }
          ]
         }
        },
        {
         "name": "username",
         "dtype": "object",
         "stats": {
          "unique_count": 1,
          "nan_count": 0,
          "categories": [
           {
            "name": "freshly",
            "count": 1
           }
          ]
         }
        },
        {
         "name": "fullName",
         "dtype": "object",
         "stats": {
          "unique_count": 1,
          "nan_count": 0,
          "categories": [
           {
            "name": "Freshly",
            "count": 1
           }
          ]
         }
        },
        {
         "name": "biography",
         "dtype": "object",
         "stats": {
          "unique_count": 1,
          "nan_count": 0,
          "categories": [
           {
            "name": "We do the cooking, you do you. 🍽\nFresh prepared meals ready in minutes.",
            "count": 1
           }
          ]
         }
        },
        {
         "name": "externalUrl",
         "dtype": "object",
         "stats": {
          "unique_count": 1,
          "nan_count": 0,
          "categories": [
           {
            "name": "https://getfresh.ly/linkinbio",
            "count": 1
           }
          ]
         }
        },
        {
         "name": "externalUrlShimmed",
         "dtype": "object",
         "stats": {
          "unique_count": 1,
          "nan_count": 0,
          "categories": [
           {
            "name": "https://l.instagram.com/?u=https%3A%2F%2Fgetfresh.ly%2Flinkinbio&e=ATOgEXLnNxq-hJonA0_PtSftFngqM-QKzN39Dij8RUvtUio0ITTz8YpIoeFWxg7bOj9HDxjA9fR27Aka&s=1",
            "count": 1
           }
          ]
         }
        },
        {
         "name": "followersCount",
         "dtype": "int64",
         "stats": {
          "unique_count": 1,
          "nan_count": 0,
          "min": "326237",
          "max": "326237",
          "histogram": [
           {
            "bin_start": 326236.5,
            "bin_end": 326236.6,
            "count": 0
           },
           {
            "bin_start": 326236.6,
            "bin_end": 326236.7,
            "count": 0
           },
           {
            "bin_start": 326236.7,
            "bin_end": 326236.8,
            "count": 0
           },
           {
            "bin_start": 326236.8,
            "bin_end": 326236.9,
            "count": 0
           },
           {
            "bin_start": 326236.9,
            "bin_end": 326237,
            "count": 0
           },
           {
            "bin_start": 326237,
            "bin_end": 326237.1,
            "count": 1
           },
           {
            "bin_start": 326237.1,
            "bin_end": 326237.2,
            "count": 0
           },
           {
            "bin_start": 326237.2,
            "bin_end": 326237.3,
            "count": 0
           },
           {
            "bin_start": 326237.3,
            "bin_end": 326237.4,
            "count": 0
           },
           {
            "bin_start": 326237.4,
            "bin_end": 326237.5,
            "count": 0
           }
          ]
         }
        },
        {
         "name": "followsCount",
         "dtype": "int64",
         "stats": {
          "unique_count": 1,
          "nan_count": 0,
          "min": "15",
          "max": "15",
          "histogram": [
           {
            "bin_start": 14.5,
            "bin_end": 14.6,
            "count": 0
           },
           {
            "bin_start": 14.6,
            "bin_end": 14.7,
            "count": 0
           },
           {
            "bin_start": 14.7,
            "bin_end": 14.8,
            "count": 0
           },
           {
            "bin_start": 14.8,
            "bin_end": 14.9,
            "count": 0
           },
           {
            "bin_start": 14.9,
            "bin_end": 15,
            "count": 0
           },
           {
            "bin_start": 15,
            "bin_end": 15.1,
            "count": 1
           },
           {
            "bin_start": 15.1,
            "bin_end": 15.2,
            "count": 0
           },
           {
            "bin_start": 15.2,
            "bin_end": 15.3,
            "count": 0
           },
           {
            "bin_start": 15.3,
            "bin_end": 15.4,
            "count": 0
           },
           {
            "bin_start": 15.4,
            "bin_end": 15.5,
            "count": 0
           }
          ]
         }
        },
        {
         "name": "hasChannel",
         "dtype": "bool",
         "stats": {
          "unique_count": 1,
          "nan_count": 0,
          "categories": [
           {
            "name": "False",
            "count": 1
           }
          ]
         }
        },
        {
         "name": "highlightReelCount",
         "dtype": "int64",
         "stats": {
          "unique_count": 1,
          "nan_count": 0,
          "min": "3",
          "max": "3",
          "histogram": [
           {
            "bin_start": 2.5,
            "bin_end": 2.6,
            "count": 0
           },
           {
            "bin_start": 2.6,
            "bin_end": 2.7,
            "count": 0
           },
           {
            "bin_start": 2.7,
            "bin_end": 2.8,
            "count": 0
           },
           {
            "bin_start": 2.8,
            "bin_end": 2.9,
            "count": 0
           },
           {
            "bin_start": 2.9,
            "bin_end": 3,
            "count": 0
           },
           {
            "bin_start": 3,
            "bin_end": 3.1,
            "count": 1
           },
           {
            "bin_start": 3.1,
            "bin_end": 3.2,
            "count": 0
           },
           {
            "bin_start": 3.2,
            "bin_end": 3.3,
            "count": 0
           },
           {
            "bin_start": 3.3,
            "bin_end": 3.4,
            "count": 0
           },
           {
            "bin_start": 3.4,
            "bin_end": 3.5,
            "count": 0
           }
          ]
         }
        },
        {
         "name": "isBusinessAccount",
         "dtype": "bool",
         "stats": {
          "unique_count": 1,
          "nan_count": 0,
          "categories": [
           {
            "name": "True",
            "count": 1
           }
          ]
         }
        },
        {
         "name": "joinedRecently",
         "dtype": "bool",
         "stats": {
          "unique_count": 1,
          "nan_count": 0,
          "categories": [
           {
            "name": "False",
            "count": 1
           }
          ]
         }
        },
        {
         "name": "businessCategoryName",
         "dtype": "object",
         "stats": {
          "unique_count": 1,
          "nan_count": 0,
          "categories": [
           {
            "name": "Restaurants",
            "count": 1
           }
          ]
         }
        },
        {
         "name": "private",
         "dtype": "bool",
         "stats": {
          "unique_count": 1,
          "nan_count": 0,
          "categories": [
           {
            "name": "False",
            "count": 1
           }
          ]
         }
        },
        {
         "name": "verified",
         "dtype": "bool",
         "stats": {
          "unique_count": 1,
          "nan_count": 0,
          "categories": [
           {
            "name": "True",
            "count": 1
           }
          ]
         }
        },
        {
         "name": "profilePicUrl",
         "dtype": "object",
         "stats": {
          "unique_count": 1,
          "nan_count": 0,
          "categories": [
           {
            "name": "https://instagram.fmmx1-1.fna.fbcdn.net/v/t51.2885-19/210581067_1422743514778340_6366109231485027222_n.jpg?stp=dst-jpg_s150x150&_nc_ht=instagram.fmmx1-1.fna.fbcdn.net&_nc_cat=1&_nc_ohc=cym3RomlZ1YAX-fQG2b&edm=ABfd0MgBAAAA&ccb=7-4&oh=00_AT_vpEcFgEnRddw9zl9Z2x6VCrRrawJaKRyrBdETkSDYVw&oe=624D7E7D&_nc_sid=7bff83",
            "count": 1
           }
          ]
         }
        },
        {
         "name": "profilePicUrlHD",
         "dtype": "object",
         "stats": {
          "unique_count": 1,
          "nan_count": 0,
          "categories": [
           {
            "name": "https://instagram.fmmx1-1.fna.fbcdn.net/v/t51.2885-19/210581067_1422743514778340_6366109231485027222_n.jpg?stp=dst-jpg_s320x320&_nc_ht=instagram.fmmx1-1.fna.fbcdn.net&_nc_cat=1&_nc_ohc=cym3RomlZ1YAX-fQG2b&edm=ABfd0MgBAAAA&ccb=7-4&oh=00_AT9HMez6uDcYBMNsXcGNahmnwBLi5qzFCaWfQoNICEfayw&oe=624D7E7D&_nc_sid=7bff83",
            "count": 1
           }
          ]
         }
        },
        {
         "name": "facebookPage",
         "dtype": "float64",
         "stats": {
          "unique_count": 0,
          "nan_count": 1,
          "min": null,
          "max": null,
          "histogram": [
           {
            "bin_start": 0,
            "bin_end": 0.1,
            "count": 0
           },
           {
            "bin_start": 0.1,
            "bin_end": 0.2,
            "count": 0
           },
           {
            "bin_start": 0.2,
            "bin_end": 0.30000000000000004,
            "count": 0
           },
           {
            "bin_start": 0.30000000000000004,
            "bin_end": 0.4,
            "count": 0
           },
           {
            "bin_start": 0.4,
            "bin_end": 0.5,
            "count": 0
           },
           {
            "bin_start": 0.5,
            "bin_end": 0.6000000000000001,
            "count": 0
           },
           {
            "bin_start": 0.6000000000000001,
            "bin_end": 0.7000000000000001,
            "count": 0
           },
           {
            "bin_start": 0.7000000000000001,
            "bin_end": 0.8,
            "count": 0
           },
           {
            "bin_start": 0.8,
            "bin_end": 0.9,
            "count": 0
           },
           {
            "bin_start": 0.9,
            "bin_end": 1,
            "count": 0
           }
          ]
         }
        },
        {
         "name": "igtvVideoCount",
         "dtype": "int64",
         "stats": {
          "unique_count": 1,
          "nan_count": 0,
          "min": "7",
          "max": "7",
          "histogram": [
           {
            "bin_start": 6.5,
            "bin_end": 6.6,
            "count": 0
           },
           {
            "bin_start": 6.6,
            "bin_end": 6.7,
            "count": 0
           },
           {
            "bin_start": 6.7,
            "bin_end": 6.8,
            "count": 0
           },
           {
            "bin_start": 6.8,
            "bin_end": 6.9,
            "count": 0
           },
           {
            "bin_start": 6.9,
            "bin_end": 7,
            "count": 0
           },
           {
            "bin_start": 7,
            "bin_end": 7.1,
            "count": 1
           },
           {
            "bin_start": 7.1,
            "bin_end": 7.2,
            "count": 0
           },
           {
            "bin_start": 7.2,
            "bin_end": 7.3,
            "count": 0
           },
           {
            "bin_start": 7.3,
            "bin_end": 7.4,
            "count": 0
           },
           {
            "bin_start": 7.4,
            "bin_end": 7.5,
            "count": 0
           }
          ]
         }
        },
        {
         "name": "relatedProfiles",
         "dtype": "object",
         "stats": {
          "unique_count": 1,
          "nan_count": 0,
          "categories": [
           {
            "name": "[]",
            "count": 1
           }
          ]
         }
        },
        {
         "name": "latestIgtvVideos",
         "dtype": "object",
         "stats": {
          "unique_count": 1,
          "nan_count": 0,
          "categories": [
           {
            "name": "[{'type': 'Video', 'shortCode': 'CXbUzdzlsVl', 'title': '', 'caption': '“I’m a master trainer, not a master chef…I leave that to @freshly”—celeb personal trainer and our friend @kirastokesfit put together her meal schedule packed with her fave Freshly meals. Want to fuel up like Kira?', 'commentsCount': 5, 'commentsDisabled': False, 'dimensionsHeight': 800, 'dimensionsWidth': 640, 'displayUrl': 'https://instagram.fmmx1-1.fna.fbcdn.net/v/t51.2885-15/266368970_250642603830272_8022123395948343014_n.jpg?stp=dst-jpg_e35&_nc_ht=instagram.fmmx1-1.fna.fbcdn.net&_nc_cat=108&_nc_ohc=OdeiOhkOXwQAX9tdC6g&edm=ABfd0MgBAAAA&ccb=7-4&oh=00_AT8PeDI0rc_4OEoOEyuGwmimjwW0KOjyzMoDXOSL9uLrbg&oe=6248B157&_nc_sid=7bff83', 'likesCount': 77, 'videoDuration': 62.9, 'videoViewCount': 3473}, {'type': 'Video', 'shortCode': 'CXTntGqBSpr', 'title': '', 'caption': 'Chef @kristenlkish has cooked up her ultimate comfort meal. Slow-Cooked Red Wine Beef Brisket is on our menu (for a super limited time)!', 'commentsCount': 4, 'commentsDisabled': False, 'dimensionsHeight': 1088, 'dimensionsWidth': 612, 'displayUrl': 'https://instagram.fmmx1-1.fna.fbcdn.net/v/t51.2885-15/265187001_6680213685353848_4510810938184742035_n.jpg?stp=dst-jpg_e15&_nc_ht=instagram.fmmx1-1.fna.fbcdn.net&_nc_cat=104&_nc_ohc=TKABzFDYTXoAX9fSMmL&edm=ABfd0MgBAAAA&ccb=7-4&oh=00_AT-oVER22d588vR2aDMm3NmdN68icbzu6TXOOZxftKppnQ&oe=6248D4C7&_nc_sid=7bff83', 'likesCount': 63, 'videoDuration': 95.633, 'videoViewCount': 3139}, {'type': 'Video', 'shortCode': 'CSxXfIQr59x', 'title': \"'Southern Ode'\", 'caption': \"Presenting 'Southern Ode' with chef @hseanbrock. Growing up on a two-acre farm with a storybook Appalachian grandmother, Sean quickly learned the rhythms of the garden. Chores were in the field and the basement was piled high with preserves. In his dish for Freshly, those same traditions of foraging, planting, and preserving live on in a signature touch of sassafras—a native plant that Sean grew up digging in the mountains. Made from the dried and ground leaves of the sassafras tree, it adds a piquant touch—somewhere between earthy citrus and anise—to a trio of roasted late-summer mushrooms.\", 'commentsCount': 9, 'commentsDisabled': False, 'dimensionsHeight': 1920, 'dimensionsWidth': 1080, 'displayUrl': 'https://instagram.fmmx1-1.fna.fbcdn.net/v/t51.2885-15/239232938_1265990527152767_2743698071968436836_n.jpg?stp=dst-jpg_e15_fr_p1080x1080&_nc_ht=instagram.fmmx1-1.fna.fbcdn.net&_nc_cat=111&_nc_ohc=3IHcdSbihmQAX_0kjn8&edm=ABfd0MgBAAAA&ccb=7-4&oh=00_AT-jt25zKQrAyHGf2FL5vqzpofEFOg318FB_jdfFY-1KgQ&oe=6248CC54&_nc_sid=7bff83', 'likesCount': 131, 'videoDuration': 100.6, 'videoViewCount': 5269}, {'type': 'Video', 'shortCode': 'CSP4WcltitJ', 'title': \"Freshly's #FridgeFriday with @chefkwameonwuachi\", 'caption': \"Kicking off our new series, Freshly's #fridgefriday, with the one and only @chefkwameonwuachi! We got an exclusive tour of his fridge and what he likes to keep on hand. \\n\\n(P.S. his meal will be only be available for a limited time, so add it to your next order if you haven't already.)\", 'commentsCount': 23, 'commentsDisabled': False, 'dimensionsHeight': 1920, 'dimensionsWidth': 1080, 'displayUrl': 'https://instagram.fmmx1-1.fna.fbcdn.net/v/t51.2885-15/232100393_508552053545092_1767730748613294698_n.jpg?stp=dst-jpg_e15_fr_p1080x1080&_nc_ht=instagram.fmmx1-1.fna.fbcdn.net&_nc_cat=104&_nc_ohc=on448UsRt9AAX812pzS&edm=ABfd0MgBAAAA&ccb=7-4&oh=00_AT8tQhyYLszAdnUl-wTpIGd_DFwCe4y7WHsobGkvHv94aQ&oe=6248D83C&_nc_sid=7bff83', 'likesCount': 146, 'videoDuration': 61.5, 'videoViewCount': 5786}, {'type': 'Video', 'shortCode': 'CQjvvZdnWOb', 'title': \"Freshly's Steak & Eggs Breakfast Sandwich\", 'caption': 'Oh this? This is your sign to order the grilled, Flat Iron Steaks from our Proteins & Sides. 😏 Drop your suggestions for other easy recipe ideas below. ⬇', 'commentsCount': 8, 'commentsDisabled': False, 'dimensionsHeight': 1920, 'dimensionsWidth': 1080, 'displayUrl': 'https://instagram.fmmx1-1.fna.fbcdn.net/v/t51.2885-15/206742936_157644543091212_5422443814336002760_n.jpg?stp=dst-jpg_e15_fr_p1080x1080&_nc_ht=instagram.fmmx1-1.fna.fbcdn.net&_nc_cat=100&_nc_ohc=u9KJ6wJ7-3oAX8N0spt&edm=ABfd0MgBAAAA&ccb=7-4&oh=00_AT_GdoNG6yKOiKX8G8IyZWlihkyYOgBwf4bDCVxoIvsYyQ&oe=6248D4BC&_nc_sid=7bff83', 'likesCount': 256, 'videoDuration': 61.633, 'videoViewCount': 15235}, {'type': 'Video', 'shortCode': 'CP9EAGItxQ7', 'title': \"'American Symphony'\", 'caption': '‘American Symphony’\\n\\nPresenting ‘American Symphony’ with @ChefKwameOnwuachi. Raised in the Bronx, with roots in Nigeria, Trinidad, and Jamaica, Kwame Onwuachi has lived many lives—subway candy hawker, self-funded caterer, groundbreaking restaurateur, James Beard Award-winner—all before the age of thirty. Opening in his home turf, we dive into his rich culinary roots and his signature meal, Escovitch Steak—a bold, Jamaican-inspired dish developed exclusively for Freshly.', 'commentsCount': 1, 'commentsDisabled': False, 'dimensionsHeight': 1920, 'dimensionsWidth': 1080, 'displayUrl': 'https://instagram.fmmx1-1.fna.fbcdn.net/v/t51.2885-15/199304161_512936566788220_6416235165262808782_n.jpg?stp=dst-jpg_e15_fr_p1080x1080&_nc_ht=instagram.fmmx1-1.fna.fbcdn.net&_nc_cat=104&_nc_ohc=G2-OECpAIwYAX9piNXa&edm=ABfd0MgBAAAA&ccb=7-4&oh=00_AT_eLUMhO0vrM307Y3lS-fxNFimw16k3T9B8TY2GB4I9PQ&oe=62486737&_nc_sid=7bff83', 'likesCount': 169, 'videoDuration': 98.8, 'videoViewCount': 5460}, {'type': 'Video', 'shortCode': 'CNLZQ0HrvR6', 'title': '‘Birth Luck’', 'caption': \"We're proud to present ‘Birth Luck’ with Chef @JetTila. Born into the ‘first family’ of Thai food in Los Angeles, Jet Tila’s culinary rise was practically written in the stars. Mind you, his path wasn’t exactly linear. Detours included textbook teenage rebellion and dreams of joining the police force, but when push came to shove in his late 20s, he couldn’t deny the richness of his Thai-Chinese upbringings—his birth luck.\", 'commentsCount': 7, 'commentsDisabled': False, 'dimensionsHeight': 1920, 'dimensionsWidth': 1080, 'displayUrl': 'https://instagram.fmmx1-1.fna.fbcdn.net/v/t51.2885-15/167528596_132990838831220_4308732727536863536_n.jpg?stp=dst-jpg_e15_fr_p1080x1080&_nc_ht=instagram.fmmx1-1.fna.fbcdn.net&_nc_cat=108&_nc_ohc=kVhNgTSsRSIAX_89Fi1&edm=ABfd0MgBAAAA&ccb=7-4&oh=00_AT8Wc796NuRjf2_afLxz46ivoRGy3W0w2z3YQbOjv6oh-Q&oe=6248A8F9&_nc_sid=7bff83', 'likesCount': 119, 'videoDuration': 108.566, 'videoViewCount': 4813}]",
            "count": 1
           }
          ]
         }
        },
        {
         "name": "postsCount",
         "dtype": "int64",
         "stats": {
          "unique_count": 1,
          "nan_count": 0,
          "min": "1703",
          "max": "1703",
          "histogram": [
           {
            "bin_start": 1702.5,
            "bin_end": 1702.6,
            "count": 0
           },
           {
            "bin_start": 1702.6,
            "bin_end": 1702.7,
            "count": 0
           },
           {
            "bin_start": 1702.7,
            "bin_end": 1702.8,
            "count": 0
           },
           {
            "bin_start": 1702.8,
            "bin_end": 1702.9,
            "count": 0
           },
           {
            "bin_start": 1702.9,
            "bin_end": 1703,
            "count": 0
           },
           {
            "bin_start": 1703,
            "bin_end": 1703.1,
            "count": 1
           },
           {
            "bin_start": 1703.1,
            "bin_end": 1703.2,
            "count": 0
           },
           {
            "bin_start": 1703.2,
            "bin_end": 1703.3,
            "count": 0
           },
           {
            "bin_start": 1703.3,
            "bin_end": 1703.4,
            "count": 0
           },
           {
            "bin_start": 1703.4,
            "bin_end": 1703.5,
            "count": 0
           }
          ]
         }
        },
        {
         "name": "latestPosts",
         "dtype": "object",
         "stats": {
          "unique_count": 1,
          "nan_count": 0,
          "categories": [
           {
            "name": "[{'id': '2806227003505907101', 'type': 'Sidecar', 'shortCode': 'CbxuJd3FBWd', 'caption': 'Bring out the confetti, a new meal just dropped!\\n\\n🎊 Super savory and sweet katsu sauce\\n🎊 Veggie packed basmati rice\\n🎊 28g of protein to keep you full\\n\\nThis perfectly baked panko crusted pork will be your new go-to comfort food!', 'hashtags': [], 'mentions': [], 'url': 'https://www.instagram.com/p/CbxuJd3FBWd/', 'commentsCount': 2, 'firstComment': '', 'latestComments': [], 'dimensionsHeight': 1080, 'dimensionsWidth': 1080, 'displayUrl': 'https://instagram.fmmx1-1.fna.fbcdn.net/v/t51.2885-15/277550469_1176016839893820_2939772455828097383_n.jpg?stp=dst-jpg_e35_s1080x1080&_nc_ht=instagram.fmmx1-1.fna.fbcdn.net&_nc_cat=100&_nc_ohc=bXsf8-dEiFcAX-C9Yc0&edm=ABfd0MgBAAAA&ccb=7-4&oh=00_AT8hGTHsffzeOLN9LeAacu5dcu-YMl0zFSjsT0ens6GWMA&oe=624C3FD4&_nc_sid=7bff83', 'images': ['https://instagram.fmmx1-1.fna.fbcdn.net/v/t51.2885-15/277550469_1176016839893820_2939772455828097383_n.jpg?stp=dst-jpg_e35_s1080x1080&_nc_ht=instagram.fmmx1-1.fna.fbcdn.net&_nc_cat=100&_nc_ohc=bXsf8-dEiFcAX-C9Yc0&edm=ABfd0MgBAAAA&ccb=7-4&oh=00_AT8hGTHsffzeOLN9LeAacu5dcu-YMl0zFSjsT0ens6GWMA&oe=624C3FD4&_nc_sid=7bff83', 'https://instagram.fmmx1-1.fna.fbcdn.net/v/t51.2885-15/277596429_135796435678328_8104310365598160706_n.jpg?stp=dst-jpg_e35_s1080x1080&_nc_ht=instagram.fmmx1-1.fna.fbcdn.net&_nc_cat=108&_nc_ohc=ygM_XU5Ie28AX9fcMgw&edm=ABfd0MgBAAAA&ccb=7-4&oh=00_AT_q_MUFD0eRqA16TDU-4z7ZaEkTMKkOzpm8xcIyyhQcLw&oe=624D7D0A&_nc_sid=7bff83', 'https://instagram.fmmx1-1.fna.fbcdn.net/v/t51.2885-15/277552725_1848191882046043_8386684138083097417_n.jpg?stp=dst-jpg_e35_s1080x1080&_nc_ht=instagram.fmmx1-1.fna.fbcdn.net&_nc_cat=107&_nc_ohc=ISo6pJ-0tjAAX9m1tJd&edm=ABfd0MgBAAAA&ccb=7-4&oh=00_AT-XggSvfSUV2TxCriDkW03nxWorP7Enm0PNTDu7s9vocw&oe=624C77D8&_nc_sid=7bff83', 'https://instagram.fmmx1-1.fna.fbcdn.net/v/t51.2885-15/277700197_116992714126404_8233046701678407597_n.jpg?stp=dst-jpg_e35_s1080x1080&_nc_ht=instagram.fmmx1-1.fna.fbcdn.net&_nc_cat=100&_nc_ohc=rCrh7RaQ0qAAX882IwF&edm=ABfd0MgBAAAA&ccb=7-4&oh=00_AT8EJfDY5n5VRSVhQOfktvjz5_8nqGl-zaDS9YpDmGSgBw&oe=624CB0E1&_nc_sid=7bff83'], 'alt': \"Photo by Freshly on March 31, 2022. May be an image of food and text that says 'Japanese-Style Pork Katsu with Katsu Sauce & Confetti Rice'.\", 'likesCount': 34, 'timestamp': '2022-03-31T17:39:09.000Z', 'childPosts': [{'id': '2806226999999496942', 'type': 'Image', 'shortCode': 'CbxuJamFILu', 'caption': '', 'hashtags': [], 'mentions': [], 'url': 'https://www.instagram.com/p/CbxuJamFILu/', 'commentsCount': 0, 'firstComment': '', 'latestComments': [], 'dimensionsHeight': 1080, 'dimensionsWidth': 1080, 'displayUrl': 'https://instagram.fmmx1-1.fna.fbcdn.net/v/t51.2885-15/277550469_1176016839893820_2939772455828097383_n.jpg?stp=dst-jpg_e35_s1080x1080&_nc_ht=instagram.fmmx1-1.fna.fbcdn.net&_nc_cat=100&_nc_ohc=bXsf8-dEiFcAX-C9Yc0&edm=ABfd0MgBAAAA&ccb=7-4&oh=00_AT8hGTHsffzeOLN9LeAacu5dcu-YMl0zFSjsT0ens6GWMA&oe=624C3FD4&_nc_sid=7bff83', 'images': [], 'alt': \"Photo by Freshly on March 31, 2022. May be an image of food and text that says 'Japanese-Style Pork Katsu with Katsu Sauce & Confetti Rice'.\", 'likesCount': None, 'timestamp': None, 'childPosts': [], 'locationName': None, 'locationId': None, 'ownerFullName': None, 'ownerUsername': 'freshly', 'ownerId': '1478278542'}, {'id': '2806227000016270213', 'type': 'Image', 'shortCode': 'CbxuJanFHOF', 'caption': '', 'hashtags': [], 'mentions': [], 'url': 'https://www.instagram.com/p/CbxuJanFHOF/', 'commentsCount': 0, 'firstComment': '', 'latestComments': [], 'dimensionsHeight': 1080, 'dimensionsWidth': 1080, 'displayUrl': 'https://instagram.fmmx1-1.fna.fbcdn.net/v/t51.2885-15/277596429_135796435678328_8104310365598160706_n.jpg?stp=dst-jpg_e35_s1080x1080&_nc_ht=instagram.fmmx1-1.fna.fbcdn.net&_nc_cat=108&_nc_ohc=ygM_XU5Ie28AX9fcMgw&edm=ABfd0MgBAAAA&ccb=7-4&oh=00_AT_q_MUFD0eRqA16TDU-4z7ZaEkTMKkOzpm8xcIyyhQcLw&oe=624D7D0A&_nc_sid=7bff83', 'images': [], 'alt': 'Photo by Freshly on March 31, 2022. May be an image of food and text.', 'likesCount': None, 'timestamp': None, 'childPosts': [], 'locationName': None, 'locationId': None, 'ownerFullName': None, 'ownerUsername': 'freshly', 'ownerId': '1478278542'}, {'id': '2806227000024779767', 'type': 'Image', 'shortCode': 'CbxuJanlkv3', 'caption': '', 'hashtags': [], 'mentions': [], 'url': 'https://www.instagram.com/p/CbxuJanlkv3/', 'commentsCount': 0, 'firstComment': '', 'latestComments': [], 'dimensionsHeight': 1080, 'dimensionsWidth': 1080, 'displayUrl': 'https://instagram.fmmx1-1.fna.fbcdn.net/v/t51.2885-15/277552725_1848191882046043_8386684138083097417_n.jpg?stp=dst-jpg_e35_s1080x1080&_nc_ht=instagram.fmmx1-1.fna.fbcdn.net&_nc_cat=107&_nc_ohc=ISo6pJ-0tjAAX9m1tJd&edm=ABfd0MgBAAAA&ccb=7-4&oh=00_AT-XggSvfSUV2TxCriDkW03nxWorP7Enm0PNTDu7s9vocw&oe=624C77D8&_nc_sid=7bff83', 'images': [], 'alt': \"Photo by Freshly on March 31, 2022. May be an image of text that says 'Baked panko- crusted pork Savory sweet katsu sauce Sesame-studded basmati rice'.\", 'likesCount': None, 'timestamp': None, 'childPosts': [], 'locationName': None, 'locationId': None, 'ownerFullName': None, 'ownerUsername': 'freshly', 'ownerId': '1478278542'}, {'id': '2806227000108679503', 'type': 'Image', 'shortCode': 'CbxuJasloFP', 'caption': '', 'hashtags': [], 'mentions': [], 'url': 'https://www.instagram.com/p/CbxuJasloFP/', 'commentsCount': 0, 'firstComment': '', 'latestComments': [], 'dimensionsHeight': 1080, 'dimensionsWidth': 1080, 'displayUrl': 'https://instagram.fmmx1-1.fna.fbcdn.net/v/t51.2885-15/277700197_116992714126404_8233046701678407597_n.jpg?stp=dst-jpg_e35_s1080x1080&_nc_ht=instagram.fmmx1-1.fna.fbcdn.net&_nc_cat=100&_nc_ohc=rCrh7RaQ0qAAX882IwF&edm=ABfd0MgBAAAA&ccb=7-4&oh=00_AT8EJfDY5n5VRSVhQOfktvjz5_8nqGl-zaDS9YpDmGSgBw&oe=624CB0E1&_nc_sid=7bff83', 'images': [], 'alt': \"Photo by Freshly on March 31, 2022. May be an image of drink and text that says 'The Perfect Pairing Drink: A velvety Pinot Noir or mango sparkling water Dessert: Fruit cobbler'.\", 'likesCount': None, 'timestamp': None, 'childPosts': [], 'locationName': None, 'locationId': None, 'ownerFullName': None, 'ownerUsername': 'freshly', 'ownerId': '1478278542'}], 'locationName': None, 'locationId': None, 'ownerFullName': None, 'ownerUsername': 'freshly', 'ownerId': '1478278542'}, {'id': '2805483219601579742', 'type': 'Video', 'shortCode': 'CbvFB_Hq97e', 'caption': 'Spring Produce Guide 🛒', 'hashtags': [], 'mentions': [], 'url': 'https://www.instagram.com/p/CbvFB_Hq97e/', 'commentsCount': 1, 'firstComment': '', 'latestComments': [], 'dimensionsHeight': 1920, 'dimensionsWidth': 1080, 'displayUrl': 'https://instagram.fmmx1-1.fna.fbcdn.net/v/t51.2885-15/277452248_947765979237244_8748339227002893892_n.jpg?stp=dst-jpg_e35_p1080x1080_sh0.08&_nc_ht=instagram.fmmx1-1.fna.fbcdn.net&_nc_cat=104&_nc_ohc=0LVqIjVAwXYAX-7a2Lm&edm=ABfd0MgBAAAA&ccb=7-4&oh=00_AT-OQPLR6-WnL1P2gscFMqlW87ZD2O9ANCX3vc_VoNuFBQ&oe=6248B1F4&_nc_sid=7bff83', 'images': [], 'videoUrl': 'https://instagram.fmmx1-1.fna.fbcdn.net/v/t50.2886-16/277697890_3358720404355356_346425622049357873_n.mp4?_nc_ht=instagram.fmmx1-1.fna.fbcdn.net&_nc_cat=100&_nc_ohc=q35s2zGot_AAX-g1E5p&edm=ABfd0MgBAAAA&ccb=7-4&oe=6248BFCF&oh=00_AT_mgq_omir38HZHAle9t_3DTWm-yEGs7LEGfRZluC78Cw&_nc_sid=7bff83', 'alt': None, 'likesCount': 23, 'videoViewCount': 971, 'timestamp': '2022-03-30T17:01:45.000Z', 'childPosts': [], 'locationName': None, 'locationId': None, 'ownerFullName': None, 'ownerUsername': 'freshly', 'ownerId': '1478278542', 'productType': 'clips'}, {'id': '2805433332194829923', 'type': 'Sidecar', 'shortCode': 'Cbu5sB2g2Zj', 'caption': \"The list is in! Based on our customer ratings, here are this month's favorite meals! Did your go-to meal make it in the top 5?\\n\\n🏆  Chicken & Spring Pea Risotto\\n🔅  BBQ Bison Burger\\n🔅  Sausage Baked Penne\\n🔅  Hearty Chipotle-Chicken Stew\\n🔅  Bistro French Onion Chicken\\n\\nLink in bio to browse our menu and newest additions!\", 'hashtags': [], 'mentions': [], 'url': 'https://www.instagram.com/p/Cbu5sB2g2Zj/', 'commentsCount': 6, 'firstComment': '', 'latestComments': [], 'dimensionsHeight': 718, 'dimensionsWidth': 1080, 'displayUrl': 'https://instagram.fmmx1-1.fna.fbcdn.net/v/t51.2885-15/277619037_286036666884880_3835160978861956980_n.jpg?stp=dst-jpg_e35_s1080x1080&_nc_ht=instagram.fmmx1-1.fna.fbcdn.net&_nc_cat=104&_nc_ohc=Vey0mYivNj0AX_HtJzO&edm=ABfd0MgBAAAA&ccb=7-4&oh=00_AT9fdeHrffOXJ1bU_QUsEFIMaCrffyEQvrIVWi3dntLO7g&oe=624C87B3&_nc_sid=7bff83', 'images': ['https://instagram.fmmx1-1.fna.fbcdn.net/v/t51.2885-15/277619037_286036666884880_3835160978861956980_n.jpg?stp=dst-jpg_e35_s1080x1080&_nc_ht=instagram.fmmx1-1.fna.fbcdn.net&_nc_cat=104&_nc_ohc=Vey0mYivNj0AX_HtJzO&edm=ABfd0MgBAAAA&ccb=7-4&oh=00_AT9fdeHrffOXJ1bU_QUsEFIMaCrffyEQvrIVWi3dntLO7g&oe=624C87B3&_nc_sid=7bff83', 'https://instagram.fmmx1-1.fna.fbcdn.net/v/t51.2885-15/277476830_1600802230291475_4261041305001350464_n.jpg?stp=dst-jpg_e35_s1080x1080&_nc_ht=instagram.fmmx1-1.fna.fbcdn.net&_nc_cat=111&_nc_ohc=o2-ChLbxm1QAX_B-DzE&edm=ABfd0MgBAAAA&ccb=7-4&oh=00_AT_a_Ou5InVTYLhbBM_9sUSbFBOciqbNN_tO2TqFKtlkUA&oe=624C960B&_nc_sid=7bff83', 'https://instagram.fmmx1-1.fna.fbcdn.net/v/t51.2885-15/277474131_116729960964197_1753397551822868533_n.jpg?stp=dst-jpg_e35_s1080x1080&_nc_ht=instagram.fmmx1-1.fna.fbcdn.net&_nc_cat=105&_nc_ohc=1NBSKOVmmlEAX8BtXmc&edm=ABfd0MgBAAAA&ccb=7-4&oh=00_AT8a5jg0ZWn7M8s-JEs9zTpAd00zeWxUh9Msp7ACMcjlRw&oe=624DCB19&_nc_sid=7bff83', 'https://instagram.fmmx1-1.fna.fbcdn.net/v/t51.2885-15/277615938_135529799007579_6071148533801849046_n.jpg?stp=dst-jpg_e35_s1080x1080&_nc_ht=instagram.fmmx1-1.fna.fbcdn.net&_nc_cat=103&_nc_ohc=yaln54-8IywAX-MFExf&edm=ABfd0MgBAAAA&ccb=7-4&oh=00_AT-BHLXMjs9yaWbglY1wvADDMM1yyFp43VwhEtjpEwIDiA&oe=624D17E2&_nc_sid=7bff83', 'https://instagram.fmmx1-1.fna.fbcdn.net/v/t51.2885-15/277546641_347832180472439_8320917277891613824_n.jpg?stp=dst-jpg_e35_s1080x1080&_nc_ht=instagram.fmmx1-1.fna.fbcdn.net&_nc_cat=111&_nc_ohc=LpIAu12FUT0AX-R685i&edm=ABfd0MgBAAAA&ccb=7-4&oh=00_AT_q1PHj1C0ejhbZimNoPI35xfqtr5irx_1dSQ8EXUwqgQ&oe=624CB626&_nc_sid=7bff83'], 'alt': 'Photo by Freshly on March 30, 2022. May be an image of food.', 'likesCount': 44, 'timestamp': '2022-03-30T15:22:16.000Z', 'childPosts': [{'id': '2805433327069412471', 'type': 'Image', 'shortCode': 'Cbu5r9FA7x3', 'caption': '', 'hashtags': [], 'mentions': [], 'url': 'https://www.instagram.com/p/Cbu5r9FA7x3/', 'commentsCount': 0, 'firstComment': '', 'latestComments': [], 'dimensionsHeight': 718, 'dimensionsWidth': 1080, 'displayUrl': 'https://instagram.fmmx1-1.fna.fbcdn.net/v/t51.2885-15/277619037_286036666884880_3835160978861956980_n.jpg?stp=dst-jpg_e35_s1080x1080&_nc_ht=instagram.fmmx1-1.fna.fbcdn.net&_nc_cat=104&_nc_ohc=Vey0mYivNj0AX_HtJzO&edm=ABfd0MgBAAAA&ccb=7-4&oh=00_AT9fdeHrffOXJ1bU_QUsEFIMaCrffyEQvrIVWi3dntLO7g&oe=624C87B3&_nc_sid=7bff83', 'images': [], 'alt': 'Photo by Freshly on March 30, 2022. May be an image of food.', 'likesCount': None, 'timestamp': None, 'childPosts': [], 'locationName': None, 'locationId': None, 'ownerFullName': None, 'ownerUsername': 'freshly', 'ownerId': '1478278542'}, {'id': '2805433327136414138', 'type': 'Image', 'shortCode': 'Cbu5r9JAhm6', 'caption': '', 'hashtags': [], 'mentions': [], 'url': 'https://www.instagram.com/p/Cbu5r9JAhm6/', 'commentsCount': 0, 'firstComment': '', 'latestComments': [], 'dimensionsHeight': 718, 'dimensionsWidth': 1080, 'displayUrl': 'https://instagram.fmmx1-1.fna.fbcdn.net/v/t51.2885-15/277476830_1600802230291475_4261041305001350464_n.jpg?stp=dst-jpg_e35_s1080x1080&_nc_ht=instagram.fmmx1-1.fna.fbcdn.net&_nc_cat=111&_nc_ohc=o2-ChLbxm1QAX_B-DzE&edm=ABfd0MgBAAAA&ccb=7-4&oh=00_AT_a_Ou5InVTYLhbBM_9sUSbFBOciqbNN_tO2TqFKtlkUA&oe=624C960B&_nc_sid=7bff83', 'images': [], 'alt': 'Photo by Freshly on March 30, 2022. May be an image of food and indoor.', 'likesCount': None, 'timestamp': None, 'childPosts': [], 'locationName': None, 'locationId': None, 'ownerFullName': None, 'ownerUsername': 'freshly', 'ownerId': '1478278542'}, {'id': '2805433327379636632', 'type': 'Image', 'shortCode': 'Cbu5r9XgWGY', 'caption': '', 'hashtags': [], 'mentions': [], 'url': 'https://www.instagram.com/p/Cbu5r9XgWGY/', 'commentsCount': 0, 'firstComment': '', 'latestComments': [], 'dimensionsHeight': 720, 'dimensionsWidth': 1080, 'displayUrl': 'https://instagram.fmmx1-1.fna.fbcdn.net/v/t51.2885-15/277474131_116729960964197_1753397551822868533_n.jpg?stp=dst-jpg_e35_s1080x1080&_nc_ht=instagram.fmmx1-1.fna.fbcdn.net&_nc_cat=105&_nc_ohc=1NBSKOVmmlEAX8BtXmc&edm=ABfd0MgBAAAA&ccb=7-4&oh=00_AT8a5jg0ZWn7M8s-JEs9zTpAd00zeWxUh9Msp7ACMcjlRw&oe=624DCB19&_nc_sid=7bff83', 'images': [], 'alt': 'Photo by Freshly on March 30, 2022. May be an image of food and indoor.', 'likesCount': None, 'timestamp': None, 'childPosts': [], 'locationName': None, 'locationId': None, 'ownerFullName': None, 'ownerUsername': 'freshly', 'ownerId': '1478278542'}, {'id': '2805433327052641337', 'type': 'Image', 'shortCode': 'Cbu5r9EA9Q5', 'caption': '', 'hashtags': [], 'mentions': [], 'url': 'https://www.instagram.com/p/Cbu5r9EA9Q5/', 'commentsCount': 0, 'firstComment': '', 'latestComments': [], 'dimensionsHeight': 718, 'dimensionsWidth': 1080, 'displayUrl': 'https://instagram.fmmx1-1.fna.fbcdn.net/v/t51.2885-15/277615938_135529799007579_6071148533801849046_n.jpg?stp=dst-jpg_e35_s1080x1080&_nc_ht=instagram.fmmx1-1.fna.fbcdn.net&_nc_cat=103&_nc_ohc=yaln54-8IywAX-MFExf&edm=ABfd0MgBAAAA&ccb=7-4&oh=00_AT-BHLXMjs9yaWbglY1wvADDMM1yyFp43VwhEtjpEwIDiA&oe=624D17E2&_nc_sid=7bff83', 'images': [], 'alt': 'Photo by Freshly on March 30, 2022. May be an image of food and indoor.', 'likesCount': None, 'timestamp': None, 'childPosts': [], 'locationName': None, 'locationId': None, 'ownerFullName': None, 'ownerUsername': 'freshly', 'ownerId': '1478278542'}, {'id': '2805433327144908130', 'type': 'Image', 'shortCode': 'Cbu5r9Jg7Vi', 'caption': '', 'hashtags': [], 'mentions': [], 'url': 'https://www.instagram.com/p/Cbu5r9Jg7Vi/', 'commentsCount': 0, 'firstComment': '', 'latestComments': [], 'dimensionsHeight': 718, 'dimensionsWidth': 1080, 'displayUrl': 'https://instagram.fmmx1-1.fna.fbcdn.net/v/t51.2885-15/277546641_347832180472439_8320917277891613824_n.jpg?stp=dst-jpg_e35_s1080x1080&_nc_ht=instagram.fmmx1-1.fna.fbcdn.net&_nc_cat=111&_nc_ohc=LpIAu12FUT0AX-R685i&edm=ABfd0MgBAAAA&ccb=7-4&oh=00_AT_q1PHj1C0ejhbZimNoPI35xfqtr5irx_1dSQ8EXUwqgQ&oe=624CB626&_nc_sid=7bff83', 'images': [], 'alt': 'Photo by Freshly on March 30, 2022. May be an image of food.', 'likesCount': None, 'timestamp': None, 'childPosts': [], 'locationName': None, 'locationId': None, 'ownerFullName': None, 'ownerUsername': 'freshly', 'ownerId': '1478278542'}], 'locationName': None, 'locationId': None, 'ownerFullName': None, 'ownerUsername': 'freshly', 'ownerId': '1478278542'}, {'id': '2804772895831984874', 'type': 'Image', 'shortCode': 'CbsjhajtYrq', 'caption': '\"Freshly completely eliminates the hassle of cooking for lunch with convenient meals. They are chef-cooked meals delivered straight to our door that arrive fresh, not frozen.\"\\n\\n📸: @cameronandtia', 'hashtags': [], 'mentions': ['cameronandtia'], 'url': 'https://www.instagram.com/p/CbsjhajtYrq/', 'commentsCount': 0, 'firstComment': '', 'latestComments': [], 'dimensionsHeight': 1350, 'dimensionsWidth': 1080, 'displayUrl': 'https://instagram.fmmx1-1.fna.fbcdn.net/v/t51.2885-15/277573349_389893962627671_1604158333599353786_n.jpg?stp=dst-jpg_e35_p1080x1080&_nc_ht=instagram.fmmx1-1.fna.fbcdn.net&_nc_cat=111&_nc_ohc=WiRy7fXtvZoAX8Rl2vI&edm=ABfd0MgBAAAA&ccb=7-4&oh=00_AT81fvonCUIPW2sMxQ4QAonk7ToRt8ByHRa2gLAOVyjlfQ&oe=624D2FE4&_nc_sid=7bff83', 'images': [], 'alt': \"Photo by Freshly on March 29, 2022. May be an image of 1 person, food, indoor and text that says 'Carb Swap Cauli- Cauli-Sausage Bake - a Homestyle Chicken G 2 Citrus-Kissed Kissed OrangeChicken Orange Chicken む Tlwer Rutabaga Rutabaga_Alla Alla Vodka Sausage Baked BakedPenne Penne Cheeses Oven-Baked Oven- Baked Chicken Florenting'.\", 'likesCount': 103, 'timestamp': '2022-03-29T17:30:08.000Z', 'childPosts': [], 'locationName': None, 'locationId': None, 'ownerFullName': None, 'ownerUsername': 'freshly', 'ownerId': '1478278542'}, {'id': '2803989551876644350', 'type': 'Image', 'shortCode': 'CbpxaQpg53-', 'caption': 'Are you in a work from home rut? 🏠 💻 Start trying to implement these tips next week! \\n\\n1️⃣ Make time for lunch away from your desk\\n2️⃣ Get up and stretch and hydrate\\n3️⃣ Clean up and organize your workspace at the end of the week\\n4️⃣ Work & life balance is so important! Set a time to \"clock out\" and close your computer\\n\\n#freshly #wfh #homeoffice #selfcare #tips', 'hashtags': ['freshly', 'wfh', 'homeoffice', 'selfcare', 'tips'], 'mentions': [], 'url': 'https://www.instagram.com/p/CbpxaQpg53-/', 'commentsCount': 12, 'firstComment': '', 'latestComments': [], 'dimensionsHeight': 1350, 'dimensionsWidth': 1080, 'displayUrl': 'https://instagram.fmmx1-1.fna.fbcdn.net/v/t51.2885-15/277405046_1128974854622860_6095093485756139277_n.jpg?stp=dst-jpg_e35_p1080x1080&_nc_ht=instagram.fmmx1-1.fna.fbcdn.net&_nc_cat=104&_nc_ohc=MvR1tRFwLi8AX_PS6St&edm=ABfd0MgBAAAA&ccb=7-4&oh=00_AT-Zst--RF1N6ywinz52-PREsyoIwq2RChC8CInTonIfBg&oe=624C6AA4&_nc_sid=7bff83', 'images': [], 'alt': 'Photo by Freshly on March 28, 2022. May be an image of food and indoor.', 'likesCount': 51, 'timestamp': '2022-03-28T15:33:44.000Z', 'childPosts': [], 'locationName': None, 'locationId': None, 'ownerFullName': None, 'ownerUsername': 'freshly', 'ownerId': '1478278542'}, {'id': '2802523190057320595', 'type': 'Image', 'shortCode': 'Cbkj_4yKUCT', 'caption': \"Spinach is the mealtime super hero you didn't know you needed. Or maybe you're one of the few (looking @ you Popeye) that's always had a deep love for spinach and all its vitamins.\\n\\n🍃 Support bone health (calcium & vitamin K)\\n🍃 Lower blood pressure (potassium)\\n🍃 Lead to healthier skin and hair (vitamin A)\\n🍃 Protect your eyesight (vitamin C)\\n🍃 Fight free radicals (chlorophyll)\\n🍃 Help with energy levels (fiber and iron)\\n\\n#freshly #nationalspinachday #spinach\", 'hashtags': ['freshly', 'nationalspinachday', 'spinach'], 'mentions': [], 'url': 'https://www.instagram.com/p/Cbkj_4yKUCT/', 'commentsCount': 0, 'firstComment': '', 'latestComments': [], 'dimensionsHeight': 1080, 'dimensionsWidth': 1080, 'displayUrl': 'https://instagram.fmmx1-1.fna.fbcdn.net/v/t51.2885-15/277289266_340179681403837_4843703769006953944_n.jpg?stp=dst-jpg_e35&_nc_ht=instagram.fmmx1-1.fna.fbcdn.net&_nc_cat=101&_nc_ohc=rnIomYFTTewAX-UGvLM&edm=ABfd0MgBAAAA&ccb=7-4&oh=00_AT-OucuUgd0XeCa-GIQWLJbtSQr-Y1uFPpIwlLPoljNxow&oe=624CC965&_nc_sid=7bff83', 'images': [], 'alt': \"Photo by Freshly on March 26, 2022. May be an image of text that says 'N A V L S B R Î T o c S A U R B N K H P N E N D A T I I O N z L A R L N F P X Y D J E A L E T H S P R c V F R z B Y E H N I E R'.\", 'likesCount': 26, 'timestamp': '2022-03-26T15:00:25.000Z', 'childPosts': [], 'locationName': None, 'locationId': None, 'ownerFullName': None, 'ownerUsername': 'freshly', 'ownerId': '1478278542'}, {'id': '2801254234745980695', 'type': 'Sidecar', 'shortCode': 'CbgDeKDl8cX', 'caption': '🗣️Calling all cheese heads! Our Cheesy Vegetable Gratin is for you!\\n\\n 🧀  Veggie packed with all your favs including broccoli, cauliflower, Parisian carrots, and onions\\n 🧀  Drizzled with creamy cheese sauce \\n 🧀  Less than 500 calories\\n\\nTo finish it off, the dish is sprinkled with *extra* shredded cheddar and toasted almonds.', 'hashtags': [], 'mentions': [], 'url': 'https://www.instagram.com/p/CbgDeKDl8cX/', 'commentsCount': 7, 'firstComment': '', 'latestComments': [], 'dimensionsHeight': 1080, 'dimensionsWidth': 1080, 'displayUrl': 'https://instagram.fmmx1-1.fna.fbcdn.net/v/t51.2885-15/277151048_1345043752637254_2212061328652584229_n.jpg?stp=dst-jpg_e35_s1080x1080&_nc_ht=instagram.fmmx1-1.fna.fbcdn.net&_nc_cat=110&_nc_ohc=vVKXC3RKcbQAX9LxaHv&edm=ABfd0MgBAAAA&ccb=7-4&oh=00_AT-joETJCIhmVa-pa4BuBG08tMK6naF11SwTEouxh0aIow&oe=624D967E&_nc_sid=7bff83', 'images': ['https://instagram.fmmx1-1.fna.fbcdn.net/v/t51.2885-15/277151048_1345043752637254_2212061328652584229_n.jpg?stp=dst-jpg_e35_s1080x1080&_nc_ht=instagram.fmmx1-1.fna.fbcdn.net&_nc_cat=110&_nc_ohc=vVKXC3RKcbQAX9LxaHv&edm=ABfd0MgBAAAA&ccb=7-4&oh=00_AT-joETJCIhmVa-pa4BuBG08tMK6naF11SwTEouxh0aIow&oe=624D967E&_nc_sid=7bff83', 'https://instagram.fmmx1-1.fna.fbcdn.net/v/t51.2885-15/276271549_677571016812710_7665254521385186398_n.jpg?stp=dst-jpg_e35_s1080x1080&_nc_ht=instagram.fmmx1-1.fna.fbcdn.net&_nc_cat=102&_nc_ohc=ZFXf8eIzK3AAX-9kr5I&edm=ABfd0MgBAAAA&ccb=7-4&oh=00_AT9-X9KSIhiocUfjbIyJ28y9jnAwy-wxHJNe-_nr7SXveg&oe=624D6BB9&_nc_sid=7bff83', 'https://instagram.fmmx1-1.fna.fbcdn.net/v/t51.2885-15/277217213_492972639198563_8496384490752737113_n.jpg?stp=dst-jpg_e35_s1080x1080&_nc_ht=instagram.fmmx1-1.fna.fbcdn.net&_nc_cat=111&_nc_ohc=8gGffmBvm5IAX8pZ_eD&edm=ABfd0MgBAAAA&ccb=7-4&oh=00_AT_FRBu-EJ_v1n5z1-mjTkZ4n9x6JJegmTJ3cwHB0oM6jw&oe=624D7EF0&_nc_sid=7bff83', 'https://instagram.fmmx1-1.fna.fbcdn.net/v/t51.2885-15/277113968_1360516917746113_2696763131279438724_n.jpg?stp=dst-jpg_e35_s1080x1080&_nc_ht=instagram.fmmx1-1.fna.fbcdn.net&_nc_cat=101&_nc_ohc=UPAoXGBMC88AX_CbIFY&edm=ABfd0MgBAAAA&ccb=7-4&oh=00_AT-WxnVXr0VhG2dfmU5uQbL1FOWzEEGAE5M7mbVr6J_hpQ&oe=624CAB8D&_nc_sid=7bff83'], 'alt': \"Photo by Freshly on March 24, 2022. May be an image of food and text that says 'Cheesy Vegetable Gratin with Toasted Almonds & Oats'.\", 'likesCount': 68, 'timestamp': '2022-03-24T20:59:08.000Z', 'childPosts': [{'id': '2801254231323346185', 'type': 'Image', 'shortCode': 'CbgDeG3loUJ', 'caption': '', 'hashtags': [], 'mentions': [], 'url': 'https://www.instagram.com/p/CbgDeG3loUJ/', 'commentsCount': 0, 'firstComment': '', 'latestComments': [], 'dimensionsHeight': 1080, 'dimensionsWidth': 1080, 'displayUrl': 'https://instagram.fmmx1-1.fna.fbcdn.net/v/t51.2885-15/277151048_1345043752637254_2212061328652584229_n.jpg?stp=dst-jpg_e35_s1080x1080&_nc_ht=instagram.fmmx1-1.fna.fbcdn.net&_nc_cat=110&_nc_ohc=vVKXC3RKcbQAX9LxaHv&edm=ABfd0MgBAAAA&ccb=7-4&oh=00_AT-joETJCIhmVa-pa4BuBG08tMK6naF11SwTEouxh0aIow&oe=624D967E&_nc_sid=7bff83', 'images': [], 'alt': \"Photo by Freshly on March 24, 2022. May be an image of food and text that says 'Cheesy Vegetable Gratin with Toasted Almonds & Oats'.\", 'likesCount': None, 'timestamp': None, 'childPosts': [], 'locationName': None, 'locationId': None, 'ownerFullName': None, 'ownerUsername': 'freshly', 'ownerId': '1478278542'}, {'id': '2801254231323323666', 'type': 'Image', 'shortCode': 'CbgDeG3li0S', 'caption': '', 'hashtags': [], 'mentions': [], 'url': 'https://www.instagram.com/p/CbgDeG3li0S/', 'commentsCount': 0, 'firstComment': '', 'latestComments': [], 'dimensionsHeight': 1080, 'dimensionsWidth': 1080, 'displayUrl': 'https://instagram.fmmx1-1.fna.fbcdn.net/v/t51.2885-15/276271549_677571016812710_7665254521385186398_n.jpg?stp=dst-jpg_e35_s1080x1080&_nc_ht=instagram.fmmx1-1.fna.fbcdn.net&_nc_cat=102&_nc_ohc=ZFXf8eIzK3AAX-9kr5I&edm=ABfd0MgBAAAA&ccb=7-4&oh=00_AT9-X9KSIhiocUfjbIyJ28y9jnAwy-wxHJNe-_nr7SXveg&oe=624D6BB9&_nc_sid=7bff83', 'images': [], 'alt': \"Photo by Freshly on March 24, 2022. May be an image of food and text that says 'This vegetarian gratin is packed with nutritious and veggie-licious goodness.'.\", 'likesCount': None, 'timestamp': None, 'childPosts': [], 'locationName': None, 'locationId': None, 'ownerFullName': None, 'ownerUsername': 'freshly', 'ownerId': '1478278542'}, {'id': '2801254231323417256', 'type': 'Image', 'shortCode': 'CbgDeG3l5qo', 'caption': '', 'hashtags': [], 'mentions': [], 'url': 'https://www.instagram.com/p/CbgDeG3l5qo/', 'commentsCount': 0, 'firstComment': '', 'latestComments': [], 'dimensionsHeight': 1080, 'dimensionsWidth': 1080, 'displayUrl': 'https://instagram.fmmx1-1.fna.fbcdn.net/v/t51.2885-15/277217213_492972639198563_8496384490752737113_n.jpg?stp=dst-jpg_e35_s1080x1080&_nc_ht=instagram.fmmx1-1.fna.fbcdn.net&_nc_cat=111&_nc_ohc=8gGffmBvm5IAX8pZ_eD&edm=ABfd0MgBAAAA&ccb=7-4&oh=00_AT_FRBu-EJ_v1n5z1-mjTkZ4n9x6JJegmTJ3cwHB0oM6jw&oe=624D7EF0&_nc_sid=7bff83', 'images': [], 'alt': \"Photo by Freshly on March 24, 2022. May be an image of text that says '420 Calories 15g of protein 6 Varieties of veg'.\", 'likesCount': None, 'timestamp': None, 'childPosts': [], 'locationName': None, 'locationId': None, 'ownerFullName': None, 'ownerUsername': 'freshly', 'ownerId': '1478278542'}, {'id': '2801254231440791728', 'type': 'Image', 'shortCode': 'CbgDeG-lpiw', 'caption': '', 'hashtags': [], 'mentions': [], 'url': 'https://www.instagram.com/p/CbgDeG-lpiw/', 'commentsCount': 0, 'firstComment': '', 'latestComments': [], 'dimensionsHeight': 1080, 'dimensionsWidth': 1080, 'displayUrl': 'https://instagram.fmmx1-1.fna.fbcdn.net/v/t51.2885-15/277113968_1360516917746113_2696763131279438724_n.jpg?stp=dst-jpg_e35_s1080x1080&_nc_ht=instagram.fmmx1-1.fna.fbcdn.net&_nc_cat=101&_nc_ohc=UPAoXGBMC88AX_CbIFY&edm=ABfd0MgBAAAA&ccb=7-4&oh=00_AT-WxnVXr0VhG2dfmU5uQbL1FOWzEEGAE5M7mbVr6J_hpQ&oe=624CAB8D&_nc_sid=7bff83', 'images': [], 'alt': \"Photo by Freshly on March 24, 2022. May be an image of text that says 'The Perfect Pairing Drink: A refreshing glass of chardonnay or citrusy seltzer Dessert: Creamy crème brûlée'.\", 'likesCount': None, 'timestamp': None, 'childPosts': [], 'locationName': None, 'locationId': None, 'ownerFullName': None, 'ownerUsername': 'freshly', 'ownerId': '1478278542'}], 'locationName': None, 'locationId': None, 'ownerFullName': None, 'ownerUsername': 'freshly', 'ownerId': '1478278542'}, {'id': '2800535237717046106', 'type': 'Video', 'shortCode': 'Cbdf_X5FrNa', 'caption': 'BRB falling more and more in love with complex carbs.', 'hashtags': [], 'mentions': [], 'url': 'https://www.instagram.com/p/Cbdf_X5FrNa/', 'commentsCount': 3, 'firstComment': '', 'latestComments': [], 'dimensionsHeight': 1918, 'dimensionsWidth': 1080, 'displayUrl': 'https://instagram.fmmx1-1.fna.fbcdn.net/v/t51.2885-15/277082007_5080650208645319_6634100861491288320_n.jpg?stp=dst-jpg_e15&_nc_ht=instagram.fmmx1-1.fna.fbcdn.net&_nc_cat=111&_nc_ohc=ymFVfkZ2laMAX-FPxiT&edm=ABfd0MgBAAAA&ccb=7-4&oh=00_AT9fggibz6h2oM8KrlsxoTXfMouSOE-xikOIfGRPuzfjjw&oe=6248B7DB&_nc_sid=7bff83', 'images': [], 'videoUrl': 'https://instagram.fmmx1-1.fna.fbcdn.net/v/t50.2886-16/277010637_819932535593825_2761207551657127999_n.mp4?_nc_ht=instagram.fmmx1-1.fna.fbcdn.net&_nc_cat=105&_nc_ohc=_xu3y6CFZlIAX-fszWR&edm=ABfd0MgBAAAA&ccb=7-4&oe=6248D80D&oh=00_AT9AfcGgaORg6AZLmeJ6S17lW2c0NEFWAlAsUNjmZnod9g&_nc_sid=7bff83', 'alt': None, 'likesCount': 45, 'videoViewCount': 3098, 'timestamp': '2022-03-23T21:10:46.000Z', 'childPosts': [], 'locationName': None, 'locationId': None, 'ownerFullName': None, 'ownerUsername': 'freshly', 'ownerId': '1478278542', 'productType': 'clips'}, {'id': '2797630831138189719', 'type': 'Image', 'shortCode': 'CbTLmserDGX', 'caption': \"Things you should know if you LOVE potatoes:\\n\\n🥔  They're 80% water\\n🥔  They're grown in all 50 states\\n🥔  They were first vegetable to be grown in space back in 1995\\n#freshly #nationalnutritionmonth #potatoes\", 'hashtags': ['freshly', 'nationalnutritionmonth', 'potatoes'], 'mentions': [], 'url': 'https://www.instagram.com/p/CbTLmserDGX/', 'commentsCount': 12, 'firstComment': '', 'latestComments': [], 'dimensionsHeight': 1080, 'dimensionsWidth': 1080, 'displayUrl': 'https://instagram.fmmx1-1.fna.fbcdn.net/v/t51.2885-15/276983978_723876462353568_3532370863723668774_n.jpg?stp=dst-jpg_e35&_nc_ht=instagram.fmmx1-1.fna.fbcdn.net&_nc_cat=100&_nc_ohc=-vxW9XQc3D8AX_KPcP9&edm=ABfd0MgBAAAA&ccb=7-4&oh=00_AT-ffornwjExQoPiKMe6tt2H1H738lPqFnuzQlyqnTf8Rg&oe=624CB025&_nc_sid=7bff83', 'images': [], 'alt': \"Photo by Freshly on March 19, 2022. May be an image of text that says 'MOST COMMONLY CONSUMED VEGETABLES IN THEU.S. Fresh 60 Canned Frozen Dehydrated Potato Chips 40 20 Potatoes Potatoes Tomatoes Onions Carrots ettuce Corn Head Sweet Lettuce Leaf Romaine Û Decembe'.\", 'likesCount': 93, 'timestamp': '2022-03-19T21:00:08.000Z', 'childPosts': [], 'locationName': None, 'locationId': None, 'ownerFullName': None, 'ownerUsername': 'freshly', 'ownerId': '1478278542'}, {'id': '2796035540259013740', 'type': 'Sidecar', 'shortCode': 'CbNg4KEgYRs', 'caption': \"For those nights where you're feelin' fancy in your jammies, try our Flame-Seared Top Blade Steak!\\n\\n🥩  Premium cut seared steak\\n💪  41 grams of protein\\n🥬  Fan-favorite green pea risotto \\n\\nGrab your favorite glass of vino and light some candles for a lavish evening with your next Freshly delivery.\", 'hashtags': [], 'mentions': [], 'url': 'https://www.instagram.com/p/CbNg4KEgYRs/', 'commentsCount': 16, 'firstComment': '', 'latestComments': [], 'dimensionsHeight': 750, 'dimensionsWidth': 750, 'displayUrl': 'https://instagram.fmmx1-1.fna.fbcdn.net/v/t51.2885-15/275291149_1096672227790383_4499790652372869682_n.jpg?stp=dst-jpg_e35&_nc_ht=instagram.fmmx1-1.fna.fbcdn.net&_nc_cat=103&_nc_ohc=vz75CognQScAX-4Xq2c&edm=ABfd0MgBAAAA&ccb=7-4&oh=00_AT-L5n4WzBaP_W_6iF0YTf2IMZfIc2oRgvgsy3NMsCGNnw&oe=6248A2B3&_nc_sid=7bff83', 'images': ['https://instagram.fmmx1-1.fna.fbcdn.net/v/t51.2885-15/275291149_1096672227790383_4499790652372869682_n.jpg?stp=dst-jpg_e35&_nc_ht=instagram.fmmx1-1.fna.fbcdn.net&_nc_cat=103&_nc_ohc=vz75CognQScAX-4Xq2c&edm=ABfd0MgBAAAA&ccb=7-4&oh=00_AT-L5n4WzBaP_W_6iF0YTf2IMZfIc2oRgvgsy3NMsCGNnw&oe=6248A2B3&_nc_sid=7bff83', 'https://instagram.fmmx1-1.fna.fbcdn.net/v/t51.2885-15/275867713_539946857413553_8612572336474696022_n.jpg?stp=dst-jpg_e35_s1080x1080&_nc_ht=instagram.fmmx1-1.fna.fbcdn.net&_nc_cat=105&_nc_ohc=D-HURByJjIQAX_1zPaV&edm=ABfd0MgBAAAA&ccb=7-4&oh=00_AT9mhtOBg3PoQnwj0QrKYWnGKwQUgyN8iXHRN3d4De_rmA&oe=624D250A&_nc_sid=7bff83', 'https://instagram.fmmx1-1.fna.fbcdn.net/v/t51.2885-15/275970452_556177405545721_7154660876612788206_n.jpg?stp=dst-jpg_e35_s1080x1080&_nc_ht=instagram.fmmx1-1.fna.fbcdn.net&_nc_cat=101&_nc_ohc=n_ByJMLxGDsAX_9S21N&edm=ABfd0MgBAAAA&ccb=7-4&oh=00_AT8sexW_Ot0ckBblXU__Q_Gn73H0Bkw3lAtKNFj26jcB2g&oe=624C4D32&_nc_sid=7bff83', 'https://instagram.fmmx1-1.fna.fbcdn.net/v/t51.2885-15/275852909_932578504094861_3869660771493467673_n.jpg?stp=dst-jpg_e35_s1080x1080&_nc_ht=instagram.fmmx1-1.fna.fbcdn.net&_nc_cat=105&_nc_ohc=q8t3y50-NTMAX-iqM6N&edm=ABfd0MgBAAAA&ccb=7-4&oh=00_AT9IXW_gXfU3KO3siGAWrBLJdpJkz-9WRsKO4hu0X0syhA&oe=624D923B&_nc_sid=7bff83'], 'alt': None, 'likesCount': 70, 'timestamp': '2022-03-17T16:10:32.000Z', 'childPosts': [{'id': '2796035381101897857', 'type': 'Video', 'shortCode': 'CbNg112AKiB', 'caption': '', 'hashtags': [], 'mentions': [], 'url': 'https://www.instagram.com/p/CbNg112AKiB/', 'commentsCount': 0, 'firstComment': '', 'latestComments': [], 'dimensionsHeight': 750, 'dimensionsWidth': 750, 'displayUrl': 'https://instagram.fmmx1-1.fna.fbcdn.net/v/t51.2885-15/275291149_1096672227790383_4499790652372869682_n.jpg?stp=dst-jpg_e35&_nc_ht=instagram.fmmx1-1.fna.fbcdn.net&_nc_cat=103&_nc_ohc=vz75CognQScAX-4Xq2c&edm=ABfd0MgBAAAA&ccb=7-4&oh=00_AT-L5n4WzBaP_W_6iF0YTf2IMZfIc2oRgvgsy3NMsCGNnw&oe=6248A2B3&_nc_sid=7bff83', 'images': [], 'videoUrl': 'https://instagram.fmmx1-1.fna.fbcdn.net/v/t50.2886-16/276037224_1107084493357999_1799560855561213681_n.mp4?_nc_ht=instagram.fmmx1-1.fna.fbcdn.net&_nc_cat=107&_nc_ohc=bKt5y-bjulkAX-aO3Kr&edm=ABfd0MgBAAAA&ccb=7-4&oe=6248B380&oh=00_AT_UmCMWI3Fmh3nxFCGu-1eeerNt2qgNk-fKgU7gAPa-Tg&_nc_sid=7bff83', 'alt': None, 'likesCount': None, 'videoViewCount': 1969, 'timestamp': None, 'childPosts': [], 'locationName': None, 'locationId': None, 'ownerFullName': None, 'ownerUsername': 'freshly', 'ownerId': '1478278542'}, {'id': '2796035535402148135', 'type': 'Image', 'shortCode': 'CbNg4FjA6En', 'caption': '', 'hashtags': [], 'mentions': [], 'url': 'https://www.instagram.com/p/CbNg4FjA6En/', 'commentsCount': 0, 'firstComment': '', 'latestComments': [], 'dimensionsHeight': 1080, 'dimensionsWidth': 1080, 'displayUrl': 'https://instagram.fmmx1-1.fna.fbcdn.net/v/t51.2885-15/275867713_539946857413553_8612572336474696022_n.jpg?stp=dst-jpg_e35_s1080x1080&_nc_ht=instagram.fmmx1-1.fna.fbcdn.net&_nc_cat=105&_nc_ohc=D-HURByJjIQAX_1zPaV&edm=ABfd0MgBAAAA&ccb=7-4&oh=00_AT9mhtOBg3PoQnwj0QrKYWnGKwQUgyN8iXHRN3d4De_rmA&oe=624D250A&_nc_sid=7bff83', 'images': [], 'alt': \"Photo by Freshly on March 17, 2022. May be an image of food and text that says 'chef's special Succulent and seared to perfection, this premium top- blade steak sure to please.'.\", 'likesCount': None, 'timestamp': None, 'childPosts': [], 'locationName': None, 'locationId': None, 'ownerFullName': None, 'ownerUsername': 'freshly', 'ownerId': '1478278542'}, {'id': '2796035535385245220', 'type': 'Image', 'shortCode': 'CbNg4FiAbYk', 'caption': '', 'hashtags': [], 'mentions': [], 'url': 'https://www.instagram.com/p/CbNg4FiAbYk/', 'commentsCount': 0, 'firstComment': '', 'latestComments': [], 'dimensionsHeight': 1080, 'dimensionsWidth': 1080, 'displayUrl': 'https://instagram.fmmx1-1.fna.fbcdn.net/v/t51.2885-15/275970452_556177405545721_7154660876612788206_n.jpg?stp=dst-jpg_e35_s1080x1080&_nc_ht=instagram.fmmx1-1.fna.fbcdn.net&_nc_cat=101&_nc_ohc=n_ByJMLxGDsAX_9S21N&edm=ABfd0MgBAAAA&ccb=7-4&oh=00_AT8sexW_Ot0ckBblXU__Q_Gn73H0Bkw3lAtKNFj26jcB2g&oe=624C4D32&_nc_sid=7bff83', 'images': [], 'alt': \"Photo by Freshly on March 17, 2022. May be an image of food and text that says 'P. chef's special Premium cut of top-blade steak Herbed green pea risotto Sautéed spinach, kale cabbage, and carrots Creamy parmesan sauce Sharp cheesy crumble'.\", 'likesCount': None, 'timestamp': None, 'childPosts': [], 'locationName': None, 'locationId': None, 'ownerFullName': None, 'ownerUsername': 'freshly', 'ownerId': '1478278542'}, {'id': '2796035535469028151', 'type': 'Image', 'shortCode': 'CbNg4FnACM3', 'caption': '', 'hashtags': [], 'mentions': [], 'url': 'https://www.instagram.com/p/CbNg4FnACM3/', 'commentsCount': 0, 'firstComment': '', 'latestComments': [], 'dimensionsHeight': 1080, 'dimensionsWidth': 1080, 'displayUrl': 'https://instagram.fmmx1-1.fna.fbcdn.net/v/t51.2885-15/275852909_932578504094861_3869660771493467673_n.jpg?stp=dst-jpg_e35_s1080x1080&_nc_ht=instagram.fmmx1-1.fna.fbcdn.net&_nc_cat=105&_nc_ohc=q8t3y50-NTMAX-iqM6N&edm=ABfd0MgBAAAA&ccb=7-4&oh=00_AT9IXW_gXfU3KO3siGAWrBLJdpJkz-9WRsKO4hu0X0syhA&oe=624D923B&_nc_sid=7bff83', 'images': [], 'alt': \"Photo by Freshly on March 17, 2022. May be an image of drink and text that says 'P. chef's special The Perfect Pairing Drink: A full-bodied Malbec Dessert: Decadent dark chocolate mousse'.\", 'likesCount': None, 'timestamp': None, 'childPosts': [], 'locationName': None, 'locationId': None, 'ownerFullName': None, 'ownerUsername': 'freshly', 'ownerId': '1478278542'}], 'locationName': None, 'locationId': None, 'ownerFullName': None, 'ownerUsername': 'freshly', 'ownerId': '1478278542'}, {'id': '2795251269567116754', 'type': 'Video', 'shortCode': 'CbKujhEgfXS', 'caption': 'Foods that give you energy! 🔋 #freshly #energy #daylightsavings', 'hashtags': ['freshly', 'energy', 'daylightsavings'], 'mentions': [], 'url': 'https://www.instagram.com/p/CbKujhEgfXS/', 'commentsCount': 4, 'firstComment': '', 'latestComments': [], 'dimensionsHeight': 1919, 'dimensionsWidth': 1080, 'displayUrl': 'https://instagram.fmmx1-1.fna.fbcdn.net/v/t51.2885-15/275846631_504706871061337_7856479730393967435_n.jpg?stp=dst-jpg_e35_p1080x1080_sh0.08&_nc_ht=instagram.fmmx1-1.fna.fbcdn.net&_nc_cat=101&_nc_ohc=d4EQ8WkN3UcAX_vYgT_&edm=ABfd0MgBAAAA&ccb=7-4&oh=00_AT8sKUpW5tHPb3AK0TxBrdB2ClF2Ogflj_HoWBPafAYPyQ&oe=62488BFB&_nc_sid=7bff83', 'images': [], 'videoUrl': 'https://instagram.fmmx1-1.fna.fbcdn.net/v/t50.2886-16/275854507_1386766948413200_2152537547035437304_n.mp4?_nc_ht=instagram.fmmx1-1.fna.fbcdn.net&_nc_cat=108&_nc_ohc=7gRt03MPYP4AX--01qN&edm=ABfd0MgBAAAA&ccb=7-4&oe=6248721E&oh=00_AT8e6gBqMRKAx0lmySS2FoiQrEHkoMEwYxX7sWmkRa-3kw&_nc_sid=7bff83', 'alt': None, 'likesCount': 97, 'videoViewCount': 2238, 'timestamp': '2022-03-16T14:12:40.000Z', 'childPosts': [], 'locationName': None, 'locationId': None, 'ownerFullName': None, 'ownerUsername': 'freshly', 'ownerId': '1478278542', 'productType': 'clips'}, {'id': '2794701557007804561', 'type': 'Image', 'shortCode': 'CbIxkJWrmiR', 'caption': '\"With all of the chaos and constant snacks and meals being made around here @freshly has made life so much easier.\" \\n\\n📸: @dani_wahlstrom', 'hashtags': [], 'mentions': ['freshly', 'dani_wahlstrom'], 'url': 'https://www.instagram.com/p/CbIxkJWrmiR/', 'commentsCount': 0, 'firstComment': '', 'latestComments': [], 'dimensionsHeight': 1080, 'dimensionsWidth': 1080, 'displayUrl': 'https://instagram.fmmx1-1.fna.fbcdn.net/v/t51.2885-15/275935700_640091590621887_3713627274914145187_n.jpg?stp=dst-jpg_e35_s1080x1080&_nc_ht=instagram.fmmx1-1.fna.fbcdn.net&_nc_cat=103&_nc_ohc=2CEbkvkbh9UAX8EqWdL&edm=ABfd0MgBAAAA&ccb=7-4&oh=00_AT_c3MLwu8wSfy6mfYKiZe0PA51uDxz6JPg4ysSXcarm5Q&oe=624CD998&_nc_sid=7bff83', 'images': [], 'alt': \"Photo by Freshly on March 15, 2022. May be an image of 3 people, child, people standing, indoor and text that says 'bưkn freshly Mojo OSF freshly Li- ready meals minutes'.\", 'likesCount': 45, 'timestamp': '2022-03-15T20:00:11.000Z', 'childPosts': [], 'locationName': None, 'locationId': None, 'ownerFullName': None, 'ownerUsername': 'freshly', 'ownerId': '1478278542'}]",
            "count": 1
           }
          ]
         }
        },
        {
         "name": "following",
         "dtype": "object",
         "stats": {
          "unique_count": 1,
          "nan_count": 0,
          "categories": [
           {
            "name": "[]",
            "count": 1
           }
          ]
         }
        },
        {
         "name": "followedBy",
         "dtype": "object",
         "stats": {
          "unique_count": 1,
          "nan_count": 0,
          "categories": [
           {
            "name": "[]",
            "count": 1
           }
          ]
         }
        },
        {
         "name": "taggedPosts",
         "dtype": "object",
         "stats": {
          "unique_count": 1,
          "nan_count": 0,
          "categories": [
           {
            "name": "[]",
            "count": 1
           }
          ]
         }
        },
        {
         "name": "_deepnote_index_column",
         "dtype": "int64"
        }
       ],
       "rows": [
        {
         "id": 1478278542,
         "username": "freshly",
         "fullName": "Freshly",
         "biography": "We do the cooking, you do you. 🍽\nFresh prepared meals ready in minutes.",
         "externalUrl": "https://getfresh.ly/linkinbio",
         "externalUrlShimmed": "https://l.instagram.com/?u=https%3A%2F%2Fgetfresh.ly%2Flinkinbio&e=ATOgEXLnNxq-hJonA0_PtSftFngqM-QKzN39Dij8RUvtUio0ITTz8YpIoeFWxg7bOj9HDxjA9fR27Aka&s=1",
         "followersCount": 326237,
         "followsCount": 15,
         "hasChannel": false,
         "highlightReelCount": 3,
         "isBusinessAccount": true,
         "joinedRecently": false,
         "businessCategoryName": "Restaurants",
         "private": false,
         "verified": true,
         "profilePicUrl": "https://instagram.fmmx1-1.fna.fbcdn.net/v/t51.2885-19/210581067_1422743514778340_6366109231485027222_n.jpg?stp=dst-jpg_s150x150&_nc_ht=instagram.fmmx1-1.fna.fbcdn.net&_nc_cat=1&_nc_ohc=cym3RomlZ1YAX-fQG2b&edm=ABfd0MgBAAAA&ccb=7-4&oh=00_AT_vpEcFgEnRddw9zl9Z2x6VCrRrawJaKRyrBdETkSDYVw&oe=624D7E7D&_nc_sid=7bff83",
         "profilePicUrlHD": "https://instagram.fmmx1-1.fna.fbcdn.net/v/t51.2885-19/210581067_1422743514778340_6366109231485027222_n.jpg?stp=dst-jpg_s320x320&_nc_ht=instagram.fmmx1-1.fna.fbcdn.net&_nc_cat=1&_nc_ohc=cym3RomlZ1YAX-fQG2b&edm=ABfd0MgBAAAA&ccb=7-4&oh=00_AT9HMez6uDcYBMNsXcGNahmnwBLi5qzFCaWfQoNICEfayw&oe=624D7E7D&_nc_sid=7bff83",
         "facebookPage": "nan",
         "igtvVideoCount": 7,
         "relatedProfiles": "[]",
         "latestIgtvVideos": "[{'type': 'Video', 'shortCode': 'CXbUzdzlsVl', 'title': '', 'caption': '“I’m a master trainer, not a master chef…I leave that to @freshly”—celeb personal trainer and our friend @kirastokesfit put together her meal schedule packed with her fave Freshly meals. Want to fuel up like Kira?', 'commentsCount': 5, 'commentsDisabled': False, 'dimensionsHeight': 800, 'dimensionsWidth': 640, 'displayUrl': 'https://instagram.fmmx1-1.fna.fbcdn.net/v/t51.2885-15/266368970_250642603830272_8022123395948343014_n.jpg?stp=dst-jpg_e35&_nc_ht=instagram.fmmx1-1.fna.fbcdn.net&_nc_cat=108&_nc_ohc=OdeiOhkOXwQAX9tdC6g&edm=ABfd0MgBAAAA&ccb=7-4&oh=00_AT8PeDI0rc_4OEoOEyuGwmimjwW0KOjyzMoDXOSL9uLrbg&oe=6248B157&_nc_sid=7bff83', 'likesCount': 77, 'videoDuration': 62.9, 'videoViewCount': 3473}, {'type': 'Video', 'shortCode': 'CXTntGqBSpr', 'title': '', 'caption': 'Chef @kristenlkish has cooked up her ultimate comfort meal. Slow-Cooked Red Wine Beef Brisket is on our menu (for a super limited time)!', 'commentsCount':…",
         "postsCount": 1703,
         "latestPosts": "[{'id': '2806227003505907101', 'type': 'Sidecar', 'shortCode': 'CbxuJd3FBWd', 'caption': 'Bring out the confetti, a new meal just dropped!\\n\\n🎊 Super savory and sweet katsu sauce\\n🎊 Veggie packed basmati rice\\n🎊 28g of protein to keep you full\\n\\nThis perfectly baked panko crusted pork will be your new go-to comfort food!', 'hashtags': [], 'mentions': [], 'url': 'https://www.instagram.com/p/CbxuJd3FBWd/', 'commentsCount': 2, 'firstComment': '', 'latestComments': [], 'dimensionsHeight': 1080, 'dimensionsWidth': 1080, 'displayUrl': 'https://instagram.fmmx1-1.fna.fbcdn.net/v/t51.2885-15/277550469_1176016839893820_2939772455828097383_n.jpg?stp=dst-jpg_e35_s1080x1080&_nc_ht=instagram.fmmx1-1.fna.fbcdn.net&_nc_cat=100&_nc_ohc=bXsf8-dEiFcAX-C9Yc0&edm=ABfd0MgBAAAA&ccb=7-4&oh=00_AT8hGTHsffzeOLN9LeAacu5dcu-YMl0zFSjsT0ens6GWMA&oe=624C3FD4&_nc_sid=7bff83', 'images': ['https://instagram.fmmx1-1.fna.fbcdn.net/v/t51.2885-15/277550469_1176016839893820_2939772455828097383_n.jpg?stp=dst-jpg_e35_s1080x1…",
         "following": "[]",
         "followedBy": "[]",
         "taggedPosts": "[]",
         "_deepnote_index_column": 0
        }
       ]
      },
      "text/plain": "           id username fullName  \\\n0  1478278542  freshly  Freshly   \n\n                                           biography  \\\n0  We do the cooking, you do you. 🍽\\nFresh prepar...   \n\n                     externalUrl  \\\n0  https://getfresh.ly/linkinbio   \n\n                                  externalUrlShimmed  followersCount  \\\n0  https://l.instagram.com/?u=https%3A%2F%2Fgetfr...          326237   \n\n   followsCount  hasChannel  highlightReelCount  ...  \\\n0            15       False                   3  ...   \n\n                                     profilePicUrlHD  facebookPage  \\\n0  https://instagram.fmmx1-1.fna.fbcdn.net/v/t51....           NaN   \n\n  igtvVideoCount  relatedProfiles  \\\n0              7               []   \n\n                                    latestIgtvVideos postsCount  \\\n0  [{'type': 'Video', 'shortCode': 'CXbUzdzlsVl',...       1703   \n\n                                         latestPosts  following  followedBy  \\\n0  [{'id': '2806227003505907101', 'type': 'Sideca...         []          []   \n\n  taggedPosts  \n0          []  \n\n[1 rows x 26 columns]",
      "text/html": "<div>\n<style scoped>\n    .dataframe tbody tr th:only-of-type {\n        vertical-align: middle;\n    }\n\n    .dataframe tbody tr th {\n        vertical-align: top;\n    }\n\n    .dataframe thead th {\n        text-align: right;\n    }\n</style>\n<table border=\"1\" class=\"dataframe\">\n  <thead>\n    <tr style=\"text-align: right;\">\n      <th></th>\n      <th>id</th>\n      <th>username</th>\n      <th>fullName</th>\n      <th>biography</th>\n      <th>externalUrl</th>\n      <th>externalUrlShimmed</th>\n      <th>followersCount</th>\n      <th>followsCount</th>\n      <th>hasChannel</th>\n      <th>highlightReelCount</th>\n      <th>...</th>\n      <th>profilePicUrlHD</th>\n      <th>facebookPage</th>\n      <th>igtvVideoCount</th>\n      <th>relatedProfiles</th>\n      <th>latestIgtvVideos</th>\n      <th>postsCount</th>\n      <th>latestPosts</th>\n      <th>following</th>\n      <th>followedBy</th>\n      <th>taggedPosts</th>\n    </tr>\n  </thead>\n  <tbody>\n    <tr>\n      <th>0</th>\n      <td>1478278542</td>\n      <td>freshly</td>\n      <td>Freshly</td>\n      <td>We do the cooking, you do you. 🍽\\nFresh prepar...</td>\n      <td>https://getfresh.ly/linkinbio</td>\n      <td>https://l.instagram.com/?u=https%3A%2F%2Fgetfr...</td>\n      <td>326237</td>\n      <td>15</td>\n      <td>False</td>\n      <td>3</td>\n      <td>...</td>\n      <td>https://instagram.fmmx1-1.fna.fbcdn.net/v/t51....</td>\n      <td>NaN</td>\n      <td>7</td>\n      <td>[]</td>\n      <td>[{'type': 'Video', 'shortCode': 'CXbUzdzlsVl',...</td>\n      <td>1703</td>\n      <td>[{'id': '2806227003505907101', 'type': 'Sideca...</td>\n      <td>[]</td>\n      <td>[]</td>\n      <td>[]</td>\n    </tr>\n  </tbody>\n</table>\n<p>1 rows × 26 columns</p>\n</div>"
     },
     "metadata": {}
    }
   ]
  },
  {
   "cell_type": "markdown",
   "source": "We see there's 2 fields that are important for us: latestIgtvVideos and latestPosts. Let's start with latestPosts.",
   "metadata": {
    "tags": [],
    "is_collapsed": false,
    "cell_id": "00009-4395ba05-9f9f-4fe8-b3f7-cbbc9ea0c327",
    "deepnote_cell_type": "text-cell-p"
   }
  },
  {
   "cell_type": "code",
   "metadata": {
    "tags": [],
    "deepnote_to_be_reexecuted": false,
    "source_hash": "99e0ffd9",
    "execution_start": 1651441490530,
    "execution_millis": 98,
    "cell_id": "00010-da804487-5ada-4f06-a801-61fcbe600f74",
    "deepnote_cell_type": "code",
    "deepnote_cell_height": 618
   },
   "source": "data = df[\"latestPosts\"][0]\npd.DataFrame.from_dict(data)",
   "execution_count": null,
   "outputs": [
    {
     "output_type": "execute_result",
     "execution_count": 3,
     "data": {
      "application/vnd.deepnote.dataframe.v3+json": {
       "column_count": 26,
       "row_count": 12,
       "columns": [
        {
         "name": "id",
         "dtype": "object",
         "stats": {
          "unique_count": 12,
          "nan_count": 0,
          "categories": [
           {
            "name": "2806227003505907101",
            "count": 1
           },
           {
            "name": "2805483219601579742",
            "count": 1
           },
           {
            "name": "10 others",
            "count": 10
           }
          ]
         }
        },
        {
         "name": "type",
         "dtype": "object",
         "stats": {
          "unique_count": 3,
          "nan_count": 0,
          "categories": [
           {
            "name": "Image",
            "count": 5
           },
           {
            "name": "Sidecar",
            "count": 4
           },
           {
            "name": "Video",
            "count": 3
           }
          ]
         }
        },
        {
         "name": "shortCode",
         "dtype": "object",
         "stats": {
          "unique_count": 12,
          "nan_count": 0,
          "categories": [
           {
            "name": "CbxuJd3FBWd",
            "count": 1
           },
           {
            "name": "CbvFB_Hq97e",
            "count": 1
           },
           {
            "name": "10 others",
            "count": 10
           }
          ]
         }
        },
        {
         "name": "caption",
         "dtype": "object",
         "stats": {
          "unique_count": 12,
          "nan_count": 0,
          "categories": [
           {
            "name": "Bring out the confetti, a new meal just dropped!\n\n🎊 Super savory and sweet katsu sauce\n🎊 Veggie packed basmati rice\n🎊 28g of protein to keep you full\n\nThis perfectly baked panko crusted pork will be your new go-to comfort food!",
            "count": 1
           },
           {
            "name": "Spring Produce Guide 🛒",
            "count": 1
           },
           {
            "name": "10 others",
            "count": 10
           }
          ]
         }
        },
        {
         "name": "hashtags",
         "dtype": "object",
         "stats": {
          "unique_count": 12,
          "nan_count": 0,
          "categories": [
           {
            "name": "[]",
            "count": 8
           },
           {
            "name": "['freshly', 'wfh', 'homeoffice', 'selfcare', 'tips']",
            "count": 1
           },
           {
            "name": "3 others",
            "count": 3
           }
          ]
         }
        },
        {
         "name": "mentions",
         "dtype": "object",
         "stats": {
          "unique_count": 12,
          "nan_count": 0,
          "categories": [
           {
            "name": "[]",
            "count": 10
           },
           {
            "name": "['cameronandtia']",
            "count": 1
           },
           {
            "name": "['freshly', 'dani_wahlstrom']",
            "count": 1
           }
          ]
         }
        },
        {
         "name": "url",
         "dtype": "object",
         "stats": {
          "unique_count": 12,
          "nan_count": 0,
          "categories": [
           {
            "name": "https://www.instagram.com/p/CbxuJd3FBWd/",
            "count": 1
           },
           {
            "name": "https://www.instagram.com/p/CbvFB_Hq97e/",
            "count": 1
           },
           {
            "name": "10 others",
            "count": 10
           }
          ]
         }
        },
        {
         "name": "commentsCount",
         "dtype": "int64",
         "stats": {
          "unique_count": 9,
          "nan_count": 0,
          "min": "0",
          "max": "16",
          "histogram": [
           {
            "bin_start": 0,
            "bin_end": 1.6,
            "count": 4
           },
           {
            "bin_start": 1.6,
            "bin_end": 3.2,
            "count": 2
           },
           {
            "bin_start": 3.2,
            "bin_end": 4.800000000000001,
            "count": 1
           },
           {
            "bin_start": 4.800000000000001,
            "bin_end": 6.4,
            "count": 1
           },
           {
            "bin_start": 6.4,
            "bin_end": 8,
            "count": 1
           },
           {
            "bin_start": 8,
            "bin_end": 9.600000000000001,
            "count": 0
           },
           {
            "bin_start": 9.600000000000001,
            "bin_end": 11.200000000000001,
            "count": 0
           },
           {
            "bin_start": 11.200000000000001,
            "bin_end": 12.8,
            "count": 2
           },
           {
            "bin_start": 12.8,
            "bin_end": 14.4,
            "count": 0
           },
           {
            "bin_start": 14.4,
            "bin_end": 16,
            "count": 1
           }
          ]
         }
        },
        {
         "name": "firstComment",
         "dtype": "object",
         "stats": {
          "unique_count": 1,
          "nan_count": 0,
          "categories": [
           {
            "name": "",
            "count": 12
           }
          ]
         }
        },
        {
         "name": "latestComments",
         "dtype": "object",
         "stats": {
          "unique_count": 12,
          "nan_count": 0,
          "categories": [
           {
            "name": "[]",
            "count": 12
           }
          ]
         }
        },
        {
         "name": "dimensionsHeight",
         "dtype": "int64",
         "stats": {
          "unique_count": 7,
          "nan_count": 0,
          "min": "718",
          "max": "1920",
          "histogram": [
           {
            "bin_start": 718,
            "bin_end": 838.2,
            "count": 2
           },
           {
            "bin_start": 838.2,
            "bin_end": 958.4,
            "count": 0
           },
           {
            "bin_start": 958.4,
            "bin_end": 1078.6,
            "count": 0
           },
           {
            "bin_start": 1078.6,
            "bin_end": 1198.8,
            "count": 5
           },
           {
            "bin_start": 1198.8,
            "bin_end": 1319,
            "count": 0
           },
           {
            "bin_start": 1319,
            "bin_end": 1439.2,
            "count": 2
           },
           {
            "bin_start": 1439.2,
            "bin_end": 1559.4,
            "count": 0
           },
           {
            "bin_start": 1559.4,
            "bin_end": 1679.6,
            "count": 0
           },
           {
            "bin_start": 1679.6,
            "bin_end": 1799.8,
            "count": 0
           },
           {
            "bin_start": 1799.8,
            "bin_end": 1920,
            "count": 3
           }
          ]
         }
        },
        {
         "name": "dimensionsWidth",
         "dtype": "int64",
         "stats": {
          "unique_count": 2,
          "nan_count": 0,
          "min": "750",
          "max": "1080",
          "histogram": [
           {
            "bin_start": 750,
            "bin_end": 783,
            "count": 1
           },
           {
            "bin_start": 783,
            "bin_end": 816,
            "count": 0
           },
           {
            "bin_start": 816,
            "bin_end": 849,
            "count": 0
           },
           {
            "bin_start": 849,
            "bin_end": 882,
            "count": 0
           },
           {
            "bin_start": 882,
            "bin_end": 915,
            "count": 0
           },
           {
            "bin_start": 915,
            "bin_end": 948,
            "count": 0
           },
           {
            "bin_start": 948,
            "bin_end": 981,
            "count": 0
           },
           {
            "bin_start": 981,
            "bin_end": 1014,
            "count": 0
           },
           {
            "bin_start": 1014,
            "bin_end": 1047,
            "count": 0
           },
           {
            "bin_start": 1047,
            "bin_end": 1080,
            "count": 11
           }
          ]
         }
        },
        {
         "name": "displayUrl",
         "dtype": "object",
         "stats": {
          "unique_count": 12,
          "nan_count": 0,
          "categories": [
           {
            "name": "https://instagram.fmmx1-1.fna.fbcdn.net/v/t51.2885-15/277550469_1176016839893820_2939772455828097383_n.jpg?stp=dst-jpg_e35_s1080x1080&_nc_ht=instagram.fmmx1-1.fna.fbcdn.net&_nc_cat=100&_nc_ohc=bXsf8-dEiFcAX-C9Yc0&edm=ABfd0MgBAAAA&ccb=7-4&oh=00_AT8hGTHsffzeOLN9LeAacu5dcu-YMl0zFSjsT0ens6GWMA&oe=624C3FD4&_nc_sid=7bff83",
            "count": 1
           },
           {
            "name": "https://instagram.fmmx1-1.fna.fbcdn.net/v/t51.2885-15/277452248_947765979237244_8748339227002893892_n.jpg?stp=dst-jpg_e35_p1080x1080_sh0.08&_nc_ht=instagram.fmmx1-1.fna.fbcdn.net&_nc_cat=104&_nc_ohc=0LVqIjVAwXYAX-7a2Lm&edm=ABfd0MgBAAAA&ccb=7-4&oh=00_AT-OQPLR6-WnL1P2gscFMqlW87ZD2O9ANCX3vc_VoNuFBQ&oe=6248B1F4&_nc_sid=7bff83",
            "count": 1
           },
           {
            "name": "10 others",
            "count": 10
           }
          ]
         }
        },
        {
         "name": "images",
         "dtype": "object",
         "stats": {
          "unique_count": 12,
          "nan_count": 0,
          "categories": [
           {
            "name": "[]",
            "count": 8
           },
           {
            "name": "['https://instagram.fmmx1-1.fna.fbcdn.net/v/t51.2885-15/277550469_1176016839893820_2939772455828097383_n.jpg?stp=dst-jpg_e35_s1080x1080&_nc_ht=instagram.fmmx1-1.fna.fbcdn.net&_nc_cat=100&_nc_ohc=bXsf8-dEiFcAX-C9Yc0&edm=ABfd0MgBAAAA&ccb=7-4&oh=00_AT8hGTHsffzeOLN9LeAacu5dcu-YMl0zFSjsT0ens6GWMA&oe=624C3FD4&_nc_sid=7bff83', 'https://instagram.fmmx1-1.fna.fbcdn.net/v/t51.2885-15/277596429_135796435678328_8104310365598160706_n.jpg?stp=dst-jpg_e35_s1080x1080&_nc_ht=instagram.fmmx1-1.fna.fbcdn.net&_nc_cat=108&_nc_ohc=ygM_XU5Ie28AX9fcMgw&edm=ABfd0MgBAAAA&ccb=7-4&oh=00_AT_q_MUFD0eRqA16TDU-4z7ZaEkTMKkOzpm8xcIyyhQcLw&oe=624D7D0A&_nc_sid=7bff83', 'https://instagram.fmmx1-1.fna.fbcdn.net/v/t51.2885-15/277552725_1848191882046043_8386684138083097417_n.jpg?stp=dst-jpg_e35_s1080x1080&_nc_ht=instagram.fmmx1-1.fna.fbcdn.net&_nc_cat=107&_nc_ohc=ISo6pJ-0tjAAX9m1tJd&edm=ABfd0MgBAAAA&ccb=7-4&oh=00_AT-XggSvfSUV2TxCriDkW03nxWorP7Enm0PNTDu7s9vocw&oe=624C77D8&_nc_sid=7bff83', 'https://instagram.fmmx1-1.fna.fbcdn.net/v/t51.2885-15/277700197_116992714126404_8233046701678407597_n.jpg?stp=dst-jpg_e35_s1080x1080&_nc_ht=instagram.fmmx1-1.fna.fbcdn.net&_nc_cat=100&_nc_ohc=rCrh7RaQ0qAAX882IwF&edm=ABfd0MgBAAAA&ccb=7-4&oh=00_AT8EJfDY5n5VRSVhQOfktvjz5_8nqGl-zaDS9YpDmGSgBw&oe=624CB0E1&_nc_sid=7bff83']",
            "count": 1
           },
           {
            "name": "3 others",
            "count": 3
           }
          ]
         }
        },
        {
         "name": "alt",
         "dtype": "object",
         "stats": {
          "unique_count": 8,
          "nan_count": 4,
          "categories": [
           {
            "name": "Photo by Freshly on March 31, 2022. May be an image of food and text that says 'Japanese-Style Pork Katsu with Katsu Sauce & Confetti Rice'.",
            "count": 1
           },
           {
            "name": "7 others",
            "count": 7
           },
           {
            "name": "Missing",
            "count": 4
           }
          ]
         }
        },
        {
         "name": "likesCount",
         "dtype": "int64",
         "stats": {
          "unique_count": 11,
          "nan_count": 0,
          "min": "23",
          "max": "103",
          "histogram": [
           {
            "bin_start": 23,
            "bin_end": 31,
            "count": 2
           },
           {
            "bin_start": 31,
            "bin_end": 39,
            "count": 1
           },
           {
            "bin_start": 39,
            "bin_end": 47,
            "count": 3
           },
           {
            "bin_start": 47,
            "bin_end": 55,
            "count": 1
           },
           {
            "bin_start": 55,
            "bin_end": 63,
            "count": 0
           },
           {
            "bin_start": 63,
            "bin_end": 71,
            "count": 2
           },
           {
            "bin_start": 71,
            "bin_end": 79,
            "count": 0
           },
           {
            "bin_start": 79,
            "bin_end": 87,
            "count": 0
           },
           {
            "bin_start": 87,
            "bin_end": 95,
            "count": 1
           },
           {
            "bin_start": 95,
            "bin_end": 103,
            "count": 2
           }
          ]
         }
        },
        {
         "name": "timestamp",
         "dtype": "object",
         "stats": {
          "unique_count": 12,
          "nan_count": 0,
          "categories": [
           {
            "name": "2022-03-31T17:39:09.000Z",
            "count": 1
           },
           {
            "name": "2022-03-30T17:01:45.000Z",
            "count": 1
           },
           {
            "name": "10 others",
            "count": 10
           }
          ]
         }
        },
        {
         "name": "childPosts",
         "dtype": "object",
         "stats": {
          "unique_count": 12,
          "nan_count": 0,
          "categories": [
           {
            "name": "[]",
            "count": 8
           },
           {
            "name": "[{'id': '2806226999999496942', 'type': 'Image', 'shortCode': 'CbxuJamFILu', 'caption': '', 'hashtags': [], 'mentions': [], 'url': 'https://www.instagram.com/p/CbxuJamFILu/', 'commentsCount': 0, 'firstComment': '', 'latestComments': [], 'dimensionsHeight': 1080, 'dimensionsWidth': 1080, 'displayUrl': 'https://instagram.fmmx1-1.fna.fbcdn.net/v/t51.2885-15/277550469_1176016839893820_2939772455828097383_n.jpg?stp=dst-jpg_e35_s1080x1080&_nc_ht=instagram.fmmx1-1.fna.fbcdn.net&_nc_cat=100&_nc_ohc=bXsf8-dEiFcAX-C9Yc0&edm=ABfd0MgBAAAA&ccb=7-4&oh=00_AT8hGTHsffzeOLN9LeAacu5dcu-YMl0zFSjsT0ens6GWMA&oe=624C3FD4&_nc_sid=7bff83', 'images': [], 'alt': \"Photo by Freshly on March 31, 2022. May be an image of food and text that says 'Japanese-Style Pork Katsu with Katsu Sauce & Confetti Rice'.\", 'likesCount': None, 'timestamp': None, 'childPosts': [], 'locationName': None, 'locationId': None, 'ownerFullName': None, 'ownerUsername': 'freshly', 'ownerId': '1478278542'}, {'id': '2806227000016270213', 'type': 'Image', 'shortCode': 'CbxuJanFHOF', 'caption': '', 'hashtags': [], 'mentions': [], 'url': 'https://www.instagram.com/p/CbxuJanFHOF/', 'commentsCount': 0, 'firstComment': '', 'latestComments': [], 'dimensionsHeight': 1080, 'dimensionsWidth': 1080, 'displayUrl': 'https://instagram.fmmx1-1.fna.fbcdn.net/v/t51.2885-15/277596429_135796435678328_8104310365598160706_n.jpg?stp=dst-jpg_e35_s1080x1080&_nc_ht=instagram.fmmx1-1.fna.fbcdn.net&_nc_cat=108&_nc_ohc=ygM_XU5Ie28AX9fcMgw&edm=ABfd0MgBAAAA&ccb=7-4&oh=00_AT_q_MUFD0eRqA16TDU-4z7ZaEkTMKkOzpm8xcIyyhQcLw&oe=624D7D0A&_nc_sid=7bff83', 'images': [], 'alt': 'Photo by Freshly on March 31, 2022. May be an image of food and text.', 'likesCount': None, 'timestamp': None, 'childPosts': [], 'locationName': None, 'locationId': None, 'ownerFullName': None, 'ownerUsername': 'freshly', 'ownerId': '1478278542'}, {'id': '2806227000024779767', 'type': 'Image', 'shortCode': 'CbxuJanlkv3', 'caption': '', 'hashtags': [], 'mentions': [], 'url': 'https://www.instagram.com/p/CbxuJanlkv3/', 'commentsCount': 0, 'firstComment': '', 'latestComments': [], 'dimensionsHeight': 1080, 'dimensionsWidth': 1080, 'displayUrl': 'https://instagram.fmmx1-1.fna.fbcdn.net/v/t51.2885-15/277552725_1848191882046043_8386684138083097417_n.jpg?stp=dst-jpg_e35_s1080x1080&_nc_ht=instagram.fmmx1-1.fna.fbcdn.net&_nc_cat=107&_nc_ohc=ISo6pJ-0tjAAX9m1tJd&edm=ABfd0MgBAAAA&ccb=7-4&oh=00_AT-XggSvfSUV2TxCriDkW03nxWorP7Enm0PNTDu7s9vocw&oe=624C77D8&_nc_sid=7bff83', 'images': [], 'alt': \"Photo by Freshly on March 31, 2022. May be an image of text that says 'Baked panko- crusted pork Savory sweet katsu sauce Sesame-studded basmati rice'.\", 'likesCount': None, 'timestamp': None, 'childPosts': [], 'locationName': None, 'locationId': None, 'ownerFullName': None, 'ownerUsername': 'freshly', 'ownerId': '1478278542'}, {'id': '2806227000108679503', 'type': 'Image', 'shortCode': 'CbxuJasloFP', 'caption': '', 'hashtags': [], 'mentions': [], 'url': 'https://www.instagram.com/p/CbxuJasloFP/', 'commentsCount': 0, 'firstComment': '', 'latestComments': [], 'dimensionsHeight': 1080, 'dimensionsWidth': 1080, 'displayUrl': 'https://instagram.fmmx1-1.fna.fbcdn.net/v/t51.2885-15/277700197_116992714126404_8233046701678407597_n.jpg?stp=dst-jpg_e35_s1080x1080&_nc_ht=instagram.fmmx1-1.fna.fbcdn.net&_nc_cat=100&_nc_ohc=rCrh7RaQ0qAAX882IwF&edm=ABfd0MgBAAAA&ccb=7-4&oh=00_AT8EJfDY5n5VRSVhQOfktvjz5_8nqGl-zaDS9YpDmGSgBw&oe=624CB0E1&_nc_sid=7bff83', 'images': [], 'alt': \"Photo by Freshly on March 31, 2022. May be an image of drink and text that says 'The Perfect Pairing Drink: A velvety Pinot Noir or mango sparkling water Dessert: Fruit cobbler'.\", 'likesCount': None, 'timestamp': None, 'childPosts': [], 'locationName': None, 'locationId': None, 'ownerFullName': None, 'ownerUsername': 'freshly', 'ownerId': '1478278542'}]",
            "count": 1
           },
           {
            "name": "3 others",
            "count": 3
           }
          ]
         }
        },
        {
         "name": "locationName",
         "dtype": "object",
         "stats": {
          "unique_count": 0,
          "nan_count": 12,
          "categories": [
           {
            "name": "Missing",
            "count": 12
           }
          ]
         }
        },
        {
         "name": "locationId",
         "dtype": "object",
         "stats": {
          "unique_count": 0,
          "nan_count": 12,
          "categories": [
           {
            "name": "Missing",
            "count": 12
           }
          ]
         }
        },
        {
         "name": "ownerFullName",
         "dtype": "object",
         "stats": {
          "unique_count": 0,
          "nan_count": 12,
          "categories": [
           {
            "name": "Missing",
            "count": 12
           }
          ]
         }
        },
        {
         "name": "ownerUsername",
         "dtype": "object",
         "stats": {
          "unique_count": 1,
          "nan_count": 0,
          "categories": [
           {
            "name": "freshly",
            "count": 12
           }
          ]
         }
        },
        {
         "name": "ownerId",
         "dtype": "object",
         "stats": {
          "unique_count": 1,
          "nan_count": 0,
          "categories": [
           {
            "name": "1478278542",
            "count": 12
           }
          ]
         }
        },
        {
         "name": "videoUrl",
         "dtype": "object",
         "stats": {
          "unique_count": 3,
          "nan_count": 9,
          "categories": [
           {
            "name": "https://instagram.fmmx1-1.fna.fbcdn.net/v/t50.2886-16/277697890_3358720404355356_346425622049357873_n.mp4?_nc_ht=instagram.fmmx1-1.fna.fbcdn.net&_nc_cat=100&_nc_ohc=q35s2zGot_AAX-g1E5p&edm=ABfd0MgBAAAA&ccb=7-4&oe=6248BFCF&oh=00_AT_mgq_omir38HZHAle9t_3DTWm-yEGs7LEGfRZluC78Cw&_nc_sid=7bff83",
            "count": 1
           },
           {
            "name": "2 others",
            "count": 2
           },
           {
            "name": "Missing",
            "count": 9
           }
          ]
         }
        },
        {
         "name": "videoViewCount",
         "dtype": "float64",
         "stats": {
          "unique_count": 3,
          "nan_count": 9,
          "min": "971.0",
          "max": "3098.0",
          "histogram": [
           {
            "bin_start": 971,
            "bin_end": 1183.7,
            "count": 1
           },
           {
            "bin_start": 1183.7,
            "bin_end": 1396.4,
            "count": 0
           },
           {
            "bin_start": 1396.4,
            "bin_end": 1609.1,
            "count": 0
           },
           {
            "bin_start": 1609.1,
            "bin_end": 1821.8,
            "count": 0
           },
           {
            "bin_start": 1821.8,
            "bin_end": 2034.5,
            "count": 0
           },
           {
            "bin_start": 2034.5,
            "bin_end": 2247.2,
            "count": 1
           },
           {
            "bin_start": 2247.2,
            "bin_end": 2459.8999999999996,
            "count": 0
           },
           {
            "bin_start": 2459.8999999999996,
            "bin_end": 2672.6,
            "count": 0
           },
           {
            "bin_start": 2672.6,
            "bin_end": 2885.3,
            "count": 0
           },
           {
            "bin_start": 2885.3,
            "bin_end": 3098,
            "count": 1
           }
          ]
         }
        },
        {
         "name": "productType",
         "dtype": "object",
         "stats": {
          "unique_count": 1,
          "nan_count": 9,
          "categories": [
           {
            "name": "clips",
            "count": 3
           },
           {
            "name": "Missing",
            "count": 9
           }
          ]
         }
        },
        {
         "name": "_deepnote_index_column",
         "dtype": "int64"
        }
       ],
       "rows": [
        {
         "id": "2806227003505907101",
         "type": "Sidecar",
         "shortCode": "CbxuJd3FBWd",
         "caption": "Bring out the confetti, a new meal just dropped!\n\n🎊 Super savory and sweet katsu sauce\n🎊 Veggie packed basmati rice\n🎊 28g of protein to keep you full\n\nThis perfectly baked panko crusted pork will be your new go-to comfort food!",
         "hashtags": "[]",
         "mentions": "[]",
         "url": "https://www.instagram.com/p/CbxuJd3FBWd/",
         "commentsCount": 2,
         "firstComment": "",
         "latestComments": "[]",
         "dimensionsHeight": 1080,
         "dimensionsWidth": 1080,
         "displayUrl": "https://instagram.fmmx1-1.fna.fbcdn.net/v/t51.2885-15/277550469_1176016839893820_2939772455828097383_n.jpg?stp=dst-jpg_e35_s1080x1080&_nc_ht=instagram.fmmx1-1.fna.fbcdn.net&_nc_cat=100&_nc_ohc=bXsf8-dEiFcAX-C9Yc0&edm=ABfd0MgBAAAA&ccb=7-4&oh=00_AT8hGTHsffzeOLN9LeAacu5dcu-YMl0zFSjsT0ens6GWMA&oe=624C3FD4&_nc_sid=7bff83",
         "images": "['https://instagram.fmmx1-1.fna.fbcdn.net/v/t51.2885-15/277550469_1176016839893820_2939772455828097383_n.jpg?stp=dst-jpg_e35_s1080x1080&_nc_ht=instagram.fmmx1-1.fna.fbcdn.net&_nc_cat=100&_nc_ohc=bXsf8-dEiFcAX-C9Yc0&edm=ABfd0MgBAAAA&ccb=7-4&oh=00_AT8hGTHsffzeOLN9LeAacu5dcu-YMl0zFSjsT0ens6GWMA&oe=624C3FD4&_nc_sid=7bff83', 'https://instagram.fmmx1-1.fna.fbcdn.net/v/t51.2885-15/277596429_135796435678328_8104310365598160706_n.jpg?stp=dst-jpg_e35_s1080x1080&_nc_ht=instagram.fmmx1-1.fna.fbcdn.net&_nc_cat=108&_nc_ohc=ygM_XU5Ie28AX9fcMgw&edm=ABfd0MgBAAAA&ccb=7-4&oh=00_AT_q_MUFD0eRqA16TDU-4z7ZaEkTMKkOzpm8xcIyyhQcLw&oe=624D7D0A&_nc_sid=7bff83', 'https://instagram.fmmx1-1.fna.fbcdn.net/v/t51.2885-15/277552725_1848191882046043_8386684138083097417_n.jpg?stp=dst-jpg_e35_s1080x1080&_nc_ht=instagram.fmmx1-1.fna.fbcdn.net&_nc_cat=107&_nc_ohc=ISo6pJ-0tjAAX9m1tJd&edm=ABfd0MgBAAAA&ccb=7-4&oh=00_AT-XggSvfSUV2TxCriDkW03nxWorP7Enm0PNTDu7s9vocw&oe=624C77D8&_nc_sid=7bff83', 'https://instagram.fmmx1-1.fna.fbcdn…",
         "alt": "Photo by Freshly on March 31, 2022. May be an image of food and text that says 'Japanese-Style Pork Katsu with Katsu Sauce & Confetti Rice'.",
         "likesCount": 34,
         "timestamp": "2022-03-31T17:39:09.000Z",
         "childPosts": "[{'id': '2806226999999496942', 'type': 'Image', 'shortCode': 'CbxuJamFILu', 'caption': '', 'hashtags': [], 'mentions': [], 'url': 'https://www.instagram.com/p/CbxuJamFILu/', 'commentsCount': 0, 'firstComment': '', 'latestComments': [], 'dimensionsHeight': 1080, 'dimensionsWidth': 1080, 'displayUrl': 'https://instagram.fmmx1-1.fna.fbcdn.net/v/t51.2885-15/277550469_1176016839893820_2939772455828097383_n.jpg?stp=dst-jpg_e35_s1080x1080&_nc_ht=instagram.fmmx1-1.fna.fbcdn.net&_nc_cat=100&_nc_ohc=bXsf8-dEiFcAX-C9Yc0&edm=ABfd0MgBAAAA&ccb=7-4&oh=00_AT8hGTHsffzeOLN9LeAacu5dcu-YMl0zFSjsT0ens6GWMA&oe=624C3FD4&_nc_sid=7bff83', 'images': [], 'alt': \"Photo by Freshly on March 31, 2022. May be an image of food and text that says 'Japanese-Style Pork Katsu with Katsu Sauce & Confetti Rice'.\", 'likesCount': None, 'timestamp': None, 'childPosts': [], 'locationName': None, 'locationId': None, 'ownerFullName': None, 'ownerUsername': 'freshly', 'ownerId': '1478278542'}, {'id': '2806227000016270213', 'type'…",
         "locationName": "None",
         "locationId": "None",
         "ownerFullName": "None",
         "ownerUsername": "freshly",
         "ownerId": "1478278542",
         "videoUrl": "nan",
         "videoViewCount": "nan",
         "productType": "nan",
         "_deepnote_index_column": 0
        },
        {
         "id": "2805483219601579742",
         "type": "Video",
         "shortCode": "CbvFB_Hq97e",
         "caption": "Spring Produce Guide 🛒",
         "hashtags": "[]",
         "mentions": "[]",
         "url": "https://www.instagram.com/p/CbvFB_Hq97e/",
         "commentsCount": 1,
         "firstComment": "",
         "latestComments": "[]",
         "dimensionsHeight": 1920,
         "dimensionsWidth": 1080,
         "displayUrl": "https://instagram.fmmx1-1.fna.fbcdn.net/v/t51.2885-15/277452248_947765979237244_8748339227002893892_n.jpg?stp=dst-jpg_e35_p1080x1080_sh0.08&_nc_ht=instagram.fmmx1-1.fna.fbcdn.net&_nc_cat=104&_nc_ohc=0LVqIjVAwXYAX-7a2Lm&edm=ABfd0MgBAAAA&ccb=7-4&oh=00_AT-OQPLR6-WnL1P2gscFMqlW87ZD2O9ANCX3vc_VoNuFBQ&oe=6248B1F4&_nc_sid=7bff83",
         "images": "[]",
         "alt": "None",
         "likesCount": 23,
         "timestamp": "2022-03-30T17:01:45.000Z",
         "childPosts": "[]",
         "locationName": "None",
         "locationId": "None",
         "ownerFullName": "None",
         "ownerUsername": "freshly",
         "ownerId": "1478278542",
         "videoUrl": "https://instagram.fmmx1-1.fna.fbcdn.net/v/t50.2886-16/277697890_3358720404355356_346425622049357873_n.mp4?_nc_ht=instagram.fmmx1-1.fna.fbcdn.net&_nc_cat=100&_nc_ohc=q35s2zGot_AAX-g1E5p&edm=ABfd0MgBAAAA&ccb=7-4&oe=6248BFCF&oh=00_AT_mgq_omir38HZHAle9t_3DTWm-yEGs7LEGfRZluC78Cw&_nc_sid=7bff83",
         "videoViewCount": 971,
         "productType": "clips",
         "_deepnote_index_column": 1
        },
        {
         "id": "2805433332194829923",
         "type": "Sidecar",
         "shortCode": "Cbu5sB2g2Zj",
         "caption": "The list is in! Based on our customer ratings, here are this month's favorite meals! Did your go-to meal make it in the top 5?\n\n🏆  Chicken & Spring Pea Risotto\n🔅  BBQ Bison Burger\n🔅  Sausage Baked Penne\n🔅  Hearty Chipotle-Chicken Stew\n🔅  Bistro French Onion Chicken\n\nLink in bio to browse our menu and newest additions!",
         "hashtags": "[]",
         "mentions": "[]",
         "url": "https://www.instagram.com/p/Cbu5sB2g2Zj/",
         "commentsCount": 6,
         "firstComment": "",
         "latestComments": "[]",
         "dimensionsHeight": 718,
         "dimensionsWidth": 1080,
         "displayUrl": "https://instagram.fmmx1-1.fna.fbcdn.net/v/t51.2885-15/277619037_286036666884880_3835160978861956980_n.jpg?stp=dst-jpg_e35_s1080x1080&_nc_ht=instagram.fmmx1-1.fna.fbcdn.net&_nc_cat=104&_nc_ohc=Vey0mYivNj0AX_HtJzO&edm=ABfd0MgBAAAA&ccb=7-4&oh=00_AT9fdeHrffOXJ1bU_QUsEFIMaCrffyEQvrIVWi3dntLO7g&oe=624C87B3&_nc_sid=7bff83",
         "images": "['https://instagram.fmmx1-1.fna.fbcdn.net/v/t51.2885-15/277619037_286036666884880_3835160978861956980_n.jpg?stp=dst-jpg_e35_s1080x1080&_nc_ht=instagram.fmmx1-1.fna.fbcdn.net&_nc_cat=104&_nc_ohc=Vey0mYivNj0AX_HtJzO&edm=ABfd0MgBAAAA&ccb=7-4&oh=00_AT9fdeHrffOXJ1bU_QUsEFIMaCrffyEQvrIVWi3dntLO7g&oe=624C87B3&_nc_sid=7bff83', 'https://instagram.fmmx1-1.fna.fbcdn.net/v/t51.2885-15/277476830_1600802230291475_4261041305001350464_n.jpg?stp=dst-jpg_e35_s1080x1080&_nc_ht=instagram.fmmx1-1.fna.fbcdn.net&_nc_cat=111&_nc_ohc=o2-ChLbxm1QAX_B-DzE&edm=ABfd0MgBAAAA&ccb=7-4&oh=00_AT_a_Ou5InVTYLhbBM_9sUSbFBOciqbNN_tO2TqFKtlkUA&oe=624C960B&_nc_sid=7bff83', 'https://instagram.fmmx1-1.fna.fbcdn.net/v/t51.2885-15/277474131_116729960964197_1753397551822868533_n.jpg?stp=dst-jpg_e35_s1080x1080&_nc_ht=instagram.fmmx1-1.fna.fbcdn.net&_nc_cat=105&_nc_ohc=1NBSKOVmmlEAX8BtXmc&edm=ABfd0MgBAAAA&ccb=7-4&oh=00_AT8a5jg0ZWn7M8s-JEs9zTpAd00zeWxUh9Msp7ACMcjlRw&oe=624DCB19&_nc_sid=7bff83', 'https://instagram.fmmx1-1.fna.fbcdn.…",
         "alt": "Photo by Freshly on March 30, 2022. May be an image of food.",
         "likesCount": 44,
         "timestamp": "2022-03-30T15:22:16.000Z",
         "childPosts": "[{'id': '2805433327069412471', 'type': 'Image', 'shortCode': 'Cbu5r9FA7x3', 'caption': '', 'hashtags': [], 'mentions': [], 'url': 'https://www.instagram.com/p/Cbu5r9FA7x3/', 'commentsCount': 0, 'firstComment': '', 'latestComments': [], 'dimensionsHeight': 718, 'dimensionsWidth': 1080, 'displayUrl': 'https://instagram.fmmx1-1.fna.fbcdn.net/v/t51.2885-15/277619037_286036666884880_3835160978861956980_n.jpg?stp=dst-jpg_e35_s1080x1080&_nc_ht=instagram.fmmx1-1.fna.fbcdn.net&_nc_cat=104&_nc_ohc=Vey0mYivNj0AX_HtJzO&edm=ABfd0MgBAAAA&ccb=7-4&oh=00_AT9fdeHrffOXJ1bU_QUsEFIMaCrffyEQvrIVWi3dntLO7g&oe=624C87B3&_nc_sid=7bff83', 'images': [], 'alt': 'Photo by Freshly on March 30, 2022. May be an image of food.', 'likesCount': None, 'timestamp': None, 'childPosts': [], 'locationName': None, 'locationId': None, 'ownerFullName': None, 'ownerUsername': 'freshly', 'ownerId': '1478278542'}, {'id': '2805433327136414138', 'type': 'Image', 'shortCode': 'Cbu5r9JAhm6', 'caption': '', 'hashtags': [], 'mentions': …",
         "locationName": "None",
         "locationId": "None",
         "ownerFullName": "None",
         "ownerUsername": "freshly",
         "ownerId": "1478278542",
         "videoUrl": "nan",
         "videoViewCount": "nan",
         "productType": "nan",
         "_deepnote_index_column": 2
        },
        {
         "id": "2804772895831984874",
         "type": "Image",
         "shortCode": "CbsjhajtYrq",
         "caption": "\"Freshly completely eliminates the hassle of cooking for lunch with convenient meals. They are chef-cooked meals delivered straight to our door that arrive fresh, not frozen.\"\n\n📸: @cameronandtia",
         "hashtags": "[]",
         "mentions": "['cameronandtia']",
         "url": "https://www.instagram.com/p/CbsjhajtYrq/",
         "commentsCount": 0,
         "firstComment": "",
         "latestComments": "[]",
         "dimensionsHeight": 1350,
         "dimensionsWidth": 1080,
         "displayUrl": "https://instagram.fmmx1-1.fna.fbcdn.net/v/t51.2885-15/277573349_389893962627671_1604158333599353786_n.jpg?stp=dst-jpg_e35_p1080x1080&_nc_ht=instagram.fmmx1-1.fna.fbcdn.net&_nc_cat=111&_nc_ohc=WiRy7fXtvZoAX8Rl2vI&edm=ABfd0MgBAAAA&ccb=7-4&oh=00_AT81fvonCUIPW2sMxQ4QAonk7ToRt8ByHRa2gLAOVyjlfQ&oe=624D2FE4&_nc_sid=7bff83",
         "images": "[]",
         "alt": "Photo by Freshly on March 29, 2022. May be an image of 1 person, food, indoor and text that says 'Carb Swap Cauli- Cauli-Sausage Bake - a Homestyle Chicken G 2 Citrus-Kissed Kissed OrangeChicken Orange Chicken む Tlwer Rutabaga Rutabaga_Alla Alla Vodka Sausage Baked BakedPenne Penne Cheeses Oven-Baked Oven- Baked Chicken Florenting'.",
         "likesCount": 103,
         "timestamp": "2022-03-29T17:30:08.000Z",
         "childPosts": "[]",
         "locationName": "None",
         "locationId": "None",
         "ownerFullName": "None",
         "ownerUsername": "freshly",
         "ownerId": "1478278542",
         "videoUrl": "nan",
         "videoViewCount": "nan",
         "productType": "nan",
         "_deepnote_index_column": 3
        },
        {
         "id": "2803989551876644350",
         "type": "Image",
         "shortCode": "CbpxaQpg53-",
         "caption": "Are you in a work from home rut? 🏠 💻 Start trying to implement these tips next week! \n\n1️⃣ Make time for lunch away from your desk\n2️⃣ Get up and stretch and hydrate\n3️⃣ Clean up and organize your workspace at the end of the week\n4️⃣ Work & life balance is so important! Set a time to \"clock out\" and close your computer\n\n#freshly #wfh #homeoffice #selfcare #tips",
         "hashtags": "['freshly', 'wfh', 'homeoffice', 'selfcare', 'tips']",
         "mentions": "[]",
         "url": "https://www.instagram.com/p/CbpxaQpg53-/",
         "commentsCount": 12,
         "firstComment": "",
         "latestComments": "[]",
         "dimensionsHeight": 1350,
         "dimensionsWidth": 1080,
         "displayUrl": "https://instagram.fmmx1-1.fna.fbcdn.net/v/t51.2885-15/277405046_1128974854622860_6095093485756139277_n.jpg?stp=dst-jpg_e35_p1080x1080&_nc_ht=instagram.fmmx1-1.fna.fbcdn.net&_nc_cat=104&_nc_ohc=MvR1tRFwLi8AX_PS6St&edm=ABfd0MgBAAAA&ccb=7-4&oh=00_AT-Zst--RF1N6ywinz52-PREsyoIwq2RChC8CInTonIfBg&oe=624C6AA4&_nc_sid=7bff83",
         "images": "[]",
         "alt": "Photo by Freshly on March 28, 2022. May be an image of food and indoor.",
         "likesCount": 51,
         "timestamp": "2022-03-28T15:33:44.000Z",
         "childPosts": "[]",
         "locationName": "None",
         "locationId": "None",
         "ownerFullName": "None",
         "ownerUsername": "freshly",
         "ownerId": "1478278542",
         "videoUrl": "nan",
         "videoViewCount": "nan",
         "productType": "nan",
         "_deepnote_index_column": 4
        },
        {
         "id": "2802523190057320595",
         "type": "Image",
         "shortCode": "Cbkj_4yKUCT",
         "caption": "Spinach is the mealtime super hero you didn't know you needed. Or maybe you're one of the few (looking @ you Popeye) that's always had a deep love for spinach and all its vitamins.\n\n🍃 Support bone health (calcium & vitamin K)\n🍃 Lower blood pressure (potassium)\n🍃 Lead to healthier skin and hair (vitamin A)\n🍃 Protect your eyesight (vitamin C)\n🍃 Fight free radicals (chlorophyll)\n🍃 Help with energy levels (fiber and iron)\n\n#freshly #nationalspinachday #spinach",
         "hashtags": "['freshly', 'nationalspinachday', 'spinach']",
         "mentions": "[]",
         "url": "https://www.instagram.com/p/Cbkj_4yKUCT/",
         "commentsCount": 0,
         "firstComment": "",
         "latestComments": "[]",
         "dimensionsHeight": 1080,
         "dimensionsWidth": 1080,
         "displayUrl": "https://instagram.fmmx1-1.fna.fbcdn.net/v/t51.2885-15/277289266_340179681403837_4843703769006953944_n.jpg?stp=dst-jpg_e35&_nc_ht=instagram.fmmx1-1.fna.fbcdn.net&_nc_cat=101&_nc_ohc=rnIomYFTTewAX-UGvLM&edm=ABfd0MgBAAAA&ccb=7-4&oh=00_AT-OucuUgd0XeCa-GIQWLJbtSQr-Y1uFPpIwlLPoljNxow&oe=624CC965&_nc_sid=7bff83",
         "images": "[]",
         "alt": "Photo by Freshly on March 26, 2022. May be an image of text that says 'N A V L S B R Î T o c S A U R B N K H P N E N D A T I I O N z L A R L N F P X Y D J E A L E T H S P R c V F R z B Y E H N I E R'.",
         "likesCount": 26,
         "timestamp": "2022-03-26T15:00:25.000Z",
         "childPosts": "[]",
         "locationName": "None",
         "locationId": "None",
         "ownerFullName": "None",
         "ownerUsername": "freshly",
         "ownerId": "1478278542",
         "videoUrl": "nan",
         "videoViewCount": "nan",
         "productType": "nan",
         "_deepnote_index_column": 5
        },
        {
         "id": "2801254234745980695",
         "type": "Sidecar",
         "shortCode": "CbgDeKDl8cX",
         "caption": "🗣️Calling all cheese heads! Our Cheesy Vegetable Gratin is for you!\n\n 🧀  Veggie packed with all your favs including broccoli, cauliflower, Parisian carrots, and onions\n 🧀  Drizzled with creamy cheese sauce \n 🧀  Less than 500 calories\n\nTo finish it off, the dish is sprinkled with *extra* shredded cheddar and toasted almonds.",
         "hashtags": "[]",
         "mentions": "[]",
         "url": "https://www.instagram.com/p/CbgDeKDl8cX/",
         "commentsCount": 7,
         "firstComment": "",
         "latestComments": "[]",
         "dimensionsHeight": 1080,
         "dimensionsWidth": 1080,
         "displayUrl": "https://instagram.fmmx1-1.fna.fbcdn.net/v/t51.2885-15/277151048_1345043752637254_2212061328652584229_n.jpg?stp=dst-jpg_e35_s1080x1080&_nc_ht=instagram.fmmx1-1.fna.fbcdn.net&_nc_cat=110&_nc_ohc=vVKXC3RKcbQAX9LxaHv&edm=ABfd0MgBAAAA&ccb=7-4&oh=00_AT-joETJCIhmVa-pa4BuBG08tMK6naF11SwTEouxh0aIow&oe=624D967E&_nc_sid=7bff83",
         "images": "['https://instagram.fmmx1-1.fna.fbcdn.net/v/t51.2885-15/277151048_1345043752637254_2212061328652584229_n.jpg?stp=dst-jpg_e35_s1080x1080&_nc_ht=instagram.fmmx1-1.fna.fbcdn.net&_nc_cat=110&_nc_ohc=vVKXC3RKcbQAX9LxaHv&edm=ABfd0MgBAAAA&ccb=7-4&oh=00_AT-joETJCIhmVa-pa4BuBG08tMK6naF11SwTEouxh0aIow&oe=624D967E&_nc_sid=7bff83', 'https://instagram.fmmx1-1.fna.fbcdn.net/v/t51.2885-15/276271549_677571016812710_7665254521385186398_n.jpg?stp=dst-jpg_e35_s1080x1080&_nc_ht=instagram.fmmx1-1.fna.fbcdn.net&_nc_cat=102&_nc_ohc=ZFXf8eIzK3AAX-9kr5I&edm=ABfd0MgBAAAA&ccb=7-4&oh=00_AT9-X9KSIhiocUfjbIyJ28y9jnAwy-wxHJNe-_nr7SXveg&oe=624D6BB9&_nc_sid=7bff83', 'https://instagram.fmmx1-1.fna.fbcdn.net/v/t51.2885-15/277217213_492972639198563_8496384490752737113_n.jpg?stp=dst-jpg_e35_s1080x1080&_nc_ht=instagram.fmmx1-1.fna.fbcdn.net&_nc_cat=111&_nc_ohc=8gGffmBvm5IAX8pZ_eD&edm=ABfd0MgBAAAA&ccb=7-4&oh=00_AT_FRBu-EJ_v1n5z1-mjTkZ4n9x6JJegmTJ3cwHB0oM6jw&oe=624D7EF0&_nc_sid=7bff83', 'https://instagram.fmmx1-1.fna.fbcdn.…",
         "alt": "Photo by Freshly on March 24, 2022. May be an image of food and text that says 'Cheesy Vegetable Gratin with Toasted Almonds & Oats'.",
         "likesCount": 68,
         "timestamp": "2022-03-24T20:59:08.000Z",
         "childPosts": "[{'id': '2801254231323346185', 'type': 'Image', 'shortCode': 'CbgDeG3loUJ', 'caption': '', 'hashtags': [], 'mentions': [], 'url': 'https://www.instagram.com/p/CbgDeG3loUJ/', 'commentsCount': 0, 'firstComment': '', 'latestComments': [], 'dimensionsHeight': 1080, 'dimensionsWidth': 1080, 'displayUrl': 'https://instagram.fmmx1-1.fna.fbcdn.net/v/t51.2885-15/277151048_1345043752637254_2212061328652584229_n.jpg?stp=dst-jpg_e35_s1080x1080&_nc_ht=instagram.fmmx1-1.fna.fbcdn.net&_nc_cat=110&_nc_ohc=vVKXC3RKcbQAX9LxaHv&edm=ABfd0MgBAAAA&ccb=7-4&oh=00_AT-joETJCIhmVa-pa4BuBG08tMK6naF11SwTEouxh0aIow&oe=624D967E&_nc_sid=7bff83', 'images': [], 'alt': \"Photo by Freshly on March 24, 2022. May be an image of food and text that says 'Cheesy Vegetable Gratin with Toasted Almonds & Oats'.\", 'likesCount': None, 'timestamp': None, 'childPosts': [], 'locationName': None, 'locationId': None, 'ownerFullName': None, 'ownerUsername': 'freshly', 'ownerId': '1478278542'}, {'id': '2801254231323323666', 'type': 'Imag…",
         "locationName": "None",
         "locationId": "None",
         "ownerFullName": "None",
         "ownerUsername": "freshly",
         "ownerId": "1478278542",
         "videoUrl": "nan",
         "videoViewCount": "nan",
         "productType": "nan",
         "_deepnote_index_column": 6
        },
        {
         "id": "2800535237717046106",
         "type": "Video",
         "shortCode": "Cbdf_X5FrNa",
         "caption": "BRB falling more and more in love with complex carbs.",
         "hashtags": "[]",
         "mentions": "[]",
         "url": "https://www.instagram.com/p/Cbdf_X5FrNa/",
         "commentsCount": 3,
         "firstComment": "",
         "latestComments": "[]",
         "dimensionsHeight": 1918,
         "dimensionsWidth": 1080,
         "displayUrl": "https://instagram.fmmx1-1.fna.fbcdn.net/v/t51.2885-15/277082007_5080650208645319_6634100861491288320_n.jpg?stp=dst-jpg_e15&_nc_ht=instagram.fmmx1-1.fna.fbcdn.net&_nc_cat=111&_nc_ohc=ymFVfkZ2laMAX-FPxiT&edm=ABfd0MgBAAAA&ccb=7-4&oh=00_AT9fggibz6h2oM8KrlsxoTXfMouSOE-xikOIfGRPuzfjjw&oe=6248B7DB&_nc_sid=7bff83",
         "images": "[]",
         "alt": "None",
         "likesCount": 45,
         "timestamp": "2022-03-23T21:10:46.000Z",
         "childPosts": "[]",
         "locationName": "None",
         "locationId": "None",
         "ownerFullName": "None",
         "ownerUsername": "freshly",
         "ownerId": "1478278542",
         "videoUrl": "https://instagram.fmmx1-1.fna.fbcdn.net/v/t50.2886-16/277010637_819932535593825_2761207551657127999_n.mp4?_nc_ht=instagram.fmmx1-1.fna.fbcdn.net&_nc_cat=105&_nc_ohc=_xu3y6CFZlIAX-fszWR&edm=ABfd0MgBAAAA&ccb=7-4&oe=6248D80D&oh=00_AT9AfcGgaORg6AZLmeJ6S17lW2c0NEFWAlAsUNjmZnod9g&_nc_sid=7bff83",
         "videoViewCount": 3098,
         "productType": "clips",
         "_deepnote_index_column": 7
        },
        {
         "id": "2797630831138189719",
         "type": "Image",
         "shortCode": "CbTLmserDGX",
         "caption": "Things you should know if you LOVE potatoes:\n\n🥔  They're 80% water\n🥔  They're grown in all 50 states\n🥔  They were first vegetable to be grown in space back in 1995\n#freshly #nationalnutritionmonth #potatoes",
         "hashtags": "['freshly', 'nationalnutritionmonth', 'potatoes']",
         "mentions": "[]",
         "url": "https://www.instagram.com/p/CbTLmserDGX/",
         "commentsCount": 12,
         "firstComment": "",
         "latestComments": "[]",
         "dimensionsHeight": 1080,
         "dimensionsWidth": 1080,
         "displayUrl": "https://instagram.fmmx1-1.fna.fbcdn.net/v/t51.2885-15/276983978_723876462353568_3532370863723668774_n.jpg?stp=dst-jpg_e35&_nc_ht=instagram.fmmx1-1.fna.fbcdn.net&_nc_cat=100&_nc_ohc=-vxW9XQc3D8AX_KPcP9&edm=ABfd0MgBAAAA&ccb=7-4&oh=00_AT-ffornwjExQoPiKMe6tt2H1H738lPqFnuzQlyqnTf8Rg&oe=624CB025&_nc_sid=7bff83",
         "images": "[]",
         "alt": "Photo by Freshly on March 19, 2022. May be an image of text that says 'MOST COMMONLY CONSUMED VEGETABLES IN THEU.S. Fresh 60 Canned Frozen Dehydrated Potato Chips 40 20 Potatoes Potatoes Tomatoes Onions Carrots ettuce Corn Head Sweet Lettuce Leaf Romaine Û Decembe'.",
         "likesCount": 93,
         "timestamp": "2022-03-19T21:00:08.000Z",
         "childPosts": "[]",
         "locationName": "None",
         "locationId": "None",
         "ownerFullName": "None",
         "ownerUsername": "freshly",
         "ownerId": "1478278542",
         "videoUrl": "nan",
         "videoViewCount": "nan",
         "productType": "nan",
         "_deepnote_index_column": 8
        },
        {
         "id": "2796035540259013740",
         "type": "Sidecar",
         "shortCode": "CbNg4KEgYRs",
         "caption": "For those nights where you're feelin' fancy in your jammies, try our Flame-Seared Top Blade Steak!\n\n🥩  Premium cut seared steak\n💪  41 grams of protein\n🥬  Fan-favorite green pea risotto \n\nGrab your favorite glass of vino and light some candles for a lavish evening with your next Freshly delivery.",
         "hashtags": "[]",
         "mentions": "[]",
         "url": "https://www.instagram.com/p/CbNg4KEgYRs/",
         "commentsCount": 16,
         "firstComment": "",
         "latestComments": "[]",
         "dimensionsHeight": 750,
         "dimensionsWidth": 750,
         "displayUrl": "https://instagram.fmmx1-1.fna.fbcdn.net/v/t51.2885-15/275291149_1096672227790383_4499790652372869682_n.jpg?stp=dst-jpg_e35&_nc_ht=instagram.fmmx1-1.fna.fbcdn.net&_nc_cat=103&_nc_ohc=vz75CognQScAX-4Xq2c&edm=ABfd0MgBAAAA&ccb=7-4&oh=00_AT-L5n4WzBaP_W_6iF0YTf2IMZfIc2oRgvgsy3NMsCGNnw&oe=6248A2B3&_nc_sid=7bff83",
         "images": "['https://instagram.fmmx1-1.fna.fbcdn.net/v/t51.2885-15/275291149_1096672227790383_4499790652372869682_n.jpg?stp=dst-jpg_e35&_nc_ht=instagram.fmmx1-1.fna.fbcdn.net&_nc_cat=103&_nc_ohc=vz75CognQScAX-4Xq2c&edm=ABfd0MgBAAAA&ccb=7-4&oh=00_AT-L5n4WzBaP_W_6iF0YTf2IMZfIc2oRgvgsy3NMsCGNnw&oe=6248A2B3&_nc_sid=7bff83', 'https://instagram.fmmx1-1.fna.fbcdn.net/v/t51.2885-15/275867713_539946857413553_8612572336474696022_n.jpg?stp=dst-jpg_e35_s1080x1080&_nc_ht=instagram.fmmx1-1.fna.fbcdn.net&_nc_cat=105&_nc_ohc=D-HURByJjIQAX_1zPaV&edm=ABfd0MgBAAAA&ccb=7-4&oh=00_AT9mhtOBg3PoQnwj0QrKYWnGKwQUgyN8iXHRN3d4De_rmA&oe=624D250A&_nc_sid=7bff83', 'https://instagram.fmmx1-1.fna.fbcdn.net/v/t51.2885-15/275970452_556177405545721_7154660876612788206_n.jpg?stp=dst-jpg_e35_s1080x1080&_nc_ht=instagram.fmmx1-1.fna.fbcdn.net&_nc_cat=101&_nc_ohc=n_ByJMLxGDsAX_9S21N&edm=ABfd0MgBAAAA&ccb=7-4&oh=00_AT8sexW_Ot0ckBblXU__Q_Gn73H0Bkw3lAtKNFj26jcB2g&oe=624C4D32&_nc_sid=7bff83', 'https://instagram.fmmx1-1.fna.fbcdn.net/v/t51.2…",
         "alt": "None",
         "likesCount": 70,
         "timestamp": "2022-03-17T16:10:32.000Z",
         "childPosts": "[{'id': '2796035381101897857', 'type': 'Video', 'shortCode': 'CbNg112AKiB', 'caption': '', 'hashtags': [], 'mentions': [], 'url': 'https://www.instagram.com/p/CbNg112AKiB/', 'commentsCount': 0, 'firstComment': '', 'latestComments': [], 'dimensionsHeight': 750, 'dimensionsWidth': 750, 'displayUrl': 'https://instagram.fmmx1-1.fna.fbcdn.net/v/t51.2885-15/275291149_1096672227790383_4499790652372869682_n.jpg?stp=dst-jpg_e35&_nc_ht=instagram.fmmx1-1.fna.fbcdn.net&_nc_cat=103&_nc_ohc=vz75CognQScAX-4Xq2c&edm=ABfd0MgBAAAA&ccb=7-4&oh=00_AT-L5n4WzBaP_W_6iF0YTf2IMZfIc2oRgvgsy3NMsCGNnw&oe=6248A2B3&_nc_sid=7bff83', 'images': [], 'videoUrl': 'https://instagram.fmmx1-1.fna.fbcdn.net/v/t50.2886-16/276037224_1107084493357999_1799560855561213681_n.mp4?_nc_ht=instagram.fmmx1-1.fna.fbcdn.net&_nc_cat=107&_nc_ohc=bKt5y-bjulkAX-aO3Kr&edm=ABfd0MgBAAAA&ccb=7-4&oe=6248B380&oh=00_AT_UmCMWI3Fmh3nxFCGu-1eeerNt2qgNk-fKgU7gAPa-Tg&_nc_sid=7bff83', 'alt': None, 'likesCount': None, 'videoViewCount': 1969, 'timestamp': …",
         "locationName": "None",
         "locationId": "None",
         "ownerFullName": "None",
         "ownerUsername": "freshly",
         "ownerId": "1478278542",
         "videoUrl": "nan",
         "videoViewCount": "nan",
         "productType": "nan",
         "_deepnote_index_column": 9
        }
       ]
      },
      "text/plain": "                     id     type    shortCode  \\\n0   2806227003505907101  Sidecar  CbxuJd3FBWd   \n1   2805483219601579742    Video  CbvFB_Hq97e   \n2   2805433332194829923  Sidecar  Cbu5sB2g2Zj   \n3   2804772895831984874    Image  CbsjhajtYrq   \n4   2803989551876644350    Image  CbpxaQpg53-   \n5   2802523190057320595    Image  Cbkj_4yKUCT   \n6   2801254234745980695  Sidecar  CbgDeKDl8cX   \n7   2800535237717046106    Video  Cbdf_X5FrNa   \n8   2797630831138189719    Image  CbTLmserDGX   \n9   2796035540259013740  Sidecar  CbNg4KEgYRs   \n10  2795251269567116754    Video  CbKujhEgfXS   \n11  2794701557007804561    Image  CbIxkJWrmiR   \n\n                                              caption  \\\n0   Bring out the confetti, a new meal just droppe...   \n1                              Spring Produce Guide 🛒   \n2   The list is in! Based on our customer ratings,...   \n3   \"Freshly completely eliminates the hassle of c...   \n4   Are you in a work from home rut? 🏠 💻 Start try...   \n5   Spinach is the mealtime super hero you didn't ...   \n6   🗣️Calling all cheese heads! Our Cheesy Vegetab...   \n7   BRB falling more and more in love with complex...   \n8   Things you should know if you LOVE potatoes:\\n...   \n9   For those nights where you're feelin' fancy in...   \n10  Foods that give you energy! 🔋 #freshly #energy...   \n11  \"With all of the chaos and constant snacks and...   \n\n                                       hashtags                   mentions  \\\n0                                            []                         []   \n1                                            []                         []   \n2                                            []                         []   \n3                                            []            [cameronandtia]   \n4    [freshly, wfh, homeoffice, selfcare, tips]                         []   \n5        [freshly, nationalspinachday, spinach]                         []   \n6                                            []                         []   \n7                                            []                         []   \n8   [freshly, nationalnutritionmonth, potatoes]                         []   \n9                                            []                         []   \n10           [freshly, energy, daylightsavings]                         []   \n11                                           []  [freshly, dani_wahlstrom]   \n\n                                         url  commentsCount firstComment  \\\n0   https://www.instagram.com/p/CbxuJd3FBWd/              2                \n1   https://www.instagram.com/p/CbvFB_Hq97e/              1                \n2   https://www.instagram.com/p/Cbu5sB2g2Zj/              6                \n3   https://www.instagram.com/p/CbsjhajtYrq/              0                \n4   https://www.instagram.com/p/CbpxaQpg53-/             12                \n5   https://www.instagram.com/p/Cbkj_4yKUCT/              0                \n6   https://www.instagram.com/p/CbgDeKDl8cX/              7                \n7   https://www.instagram.com/p/Cbdf_X5FrNa/              3                \n8   https://www.instagram.com/p/CbTLmserDGX/             12                \n9   https://www.instagram.com/p/CbNg4KEgYRs/             16                \n10  https://www.instagram.com/p/CbKujhEgfXS/              4                \n11  https://www.instagram.com/p/CbIxkJWrmiR/              0                \n\n   latestComments  ...                 timestamp  \\\n0              []  ...  2022-03-31T17:39:09.000Z   \n1              []  ...  2022-03-30T17:01:45.000Z   \n2              []  ...  2022-03-30T15:22:16.000Z   \n3              []  ...  2022-03-29T17:30:08.000Z   \n4              []  ...  2022-03-28T15:33:44.000Z   \n5              []  ...  2022-03-26T15:00:25.000Z   \n6              []  ...  2022-03-24T20:59:08.000Z   \n7              []  ...  2022-03-23T21:10:46.000Z   \n8              []  ...  2022-03-19T21:00:08.000Z   \n9              []  ...  2022-03-17T16:10:32.000Z   \n10             []  ...  2022-03-16T14:12:40.000Z   \n11             []  ...  2022-03-15T20:00:11.000Z   \n\n                                           childPosts locationName locationId  \\\n0   [{'id': '2806226999999496942', 'type': 'Image'...         None       None   \n1                                                  []         None       None   \n2   [{'id': '2805433327069412471', 'type': 'Image'...         None       None   \n3                                                  []         None       None   \n4                                                  []         None       None   \n5                                                  []         None       None   \n6   [{'id': '2801254231323346185', 'type': 'Image'...         None       None   \n7                                                  []         None       None   \n8                                                  []         None       None   \n9   [{'id': '2796035381101897857', 'type': 'Video'...         None       None   \n10                                                 []         None       None   \n11                                                 []         None       None   \n\n   ownerFullName  ownerUsername     ownerId  \\\n0           None        freshly  1478278542   \n1           None        freshly  1478278542   \n2           None        freshly  1478278542   \n3           None        freshly  1478278542   \n4           None        freshly  1478278542   \n5           None        freshly  1478278542   \n6           None        freshly  1478278542   \n7           None        freshly  1478278542   \n8           None        freshly  1478278542   \n9           None        freshly  1478278542   \n10          None        freshly  1478278542   \n11          None        freshly  1478278542   \n\n                                             videoUrl videoViewCount  \\\n0                                                 NaN            NaN   \n1   https://instagram.fmmx1-1.fna.fbcdn.net/v/t50....          971.0   \n2                                                 NaN            NaN   \n3                                                 NaN            NaN   \n4                                                 NaN            NaN   \n5                                                 NaN            NaN   \n6                                                 NaN            NaN   \n7   https://instagram.fmmx1-1.fna.fbcdn.net/v/t50....         3098.0   \n8                                                 NaN            NaN   \n9                                                 NaN            NaN   \n10  https://instagram.fmmx1-1.fna.fbcdn.net/v/t50....         2238.0   \n11                                                NaN            NaN   \n\n   productType  \n0          NaN  \n1        clips  \n2          NaN  \n3          NaN  \n4          NaN  \n5          NaN  \n6          NaN  \n7        clips  \n8          NaN  \n9          NaN  \n10       clips  \n11         NaN  \n\n[12 rows x 26 columns]",
      "text/html": "<div>\n<style scoped>\n    .dataframe tbody tr th:only-of-type {\n        vertical-align: middle;\n    }\n\n    .dataframe tbody tr th {\n        vertical-align: top;\n    }\n\n    .dataframe thead th {\n        text-align: right;\n    }\n</style>\n<table border=\"1\" class=\"dataframe\">\n  <thead>\n    <tr style=\"text-align: right;\">\n      <th></th>\n      <th>id</th>\n      <th>type</th>\n      <th>shortCode</th>\n      <th>caption</th>\n      <th>hashtags</th>\n      <th>mentions</th>\n      <th>url</th>\n      <th>commentsCount</th>\n      <th>firstComment</th>\n      <th>latestComments</th>\n      <th>...</th>\n      <th>timestamp</th>\n      <th>childPosts</th>\n      <th>locationName</th>\n      <th>locationId</th>\n      <th>ownerFullName</th>\n      <th>ownerUsername</th>\n      <th>ownerId</th>\n      <th>videoUrl</th>\n      <th>videoViewCount</th>\n      <th>productType</th>\n    </tr>\n  </thead>\n  <tbody>\n    <tr>\n      <th>0</th>\n      <td>2806227003505907101</td>\n      <td>Sidecar</td>\n      <td>CbxuJd3FBWd</td>\n      <td>Bring out the confetti, a new meal just droppe...</td>\n      <td>[]</td>\n      <td>[]</td>\n      <td>https://www.instagram.com/p/CbxuJd3FBWd/</td>\n      <td>2</td>\n      <td></td>\n      <td>[]</td>\n      <td>...</td>\n      <td>2022-03-31T17:39:09.000Z</td>\n      <td>[{'id': '2806226999999496942', 'type': 'Image'...</td>\n      <td>None</td>\n      <td>None</td>\n      <td>None</td>\n      <td>freshly</td>\n      <td>1478278542</td>\n      <td>NaN</td>\n      <td>NaN</td>\n      <td>NaN</td>\n    </tr>\n    <tr>\n      <th>1</th>\n      <td>2805483219601579742</td>\n      <td>Video</td>\n      <td>CbvFB_Hq97e</td>\n      <td>Spring Produce Guide 🛒</td>\n      <td>[]</td>\n      <td>[]</td>\n      <td>https://www.instagram.com/p/CbvFB_Hq97e/</td>\n      <td>1</td>\n      <td></td>\n      <td>[]</td>\n      <td>...</td>\n      <td>2022-03-30T17:01:45.000Z</td>\n      <td>[]</td>\n      <td>None</td>\n      <td>None</td>\n      <td>None</td>\n      <td>freshly</td>\n      <td>1478278542</td>\n      <td>https://instagram.fmmx1-1.fna.fbcdn.net/v/t50....</td>\n      <td>971.0</td>\n      <td>clips</td>\n    </tr>\n    <tr>\n      <th>2</th>\n      <td>2805433332194829923</td>\n      <td>Sidecar</td>\n      <td>Cbu5sB2g2Zj</td>\n      <td>The list is in! Based on our customer ratings,...</td>\n      <td>[]</td>\n      <td>[]</td>\n      <td>https://www.instagram.com/p/Cbu5sB2g2Zj/</td>\n      <td>6</td>\n      <td></td>\n      <td>[]</td>\n      <td>...</td>\n      <td>2022-03-30T15:22:16.000Z</td>\n      <td>[{'id': '2805433327069412471', 'type': 'Image'...</td>\n      <td>None</td>\n      <td>None</td>\n      <td>None</td>\n      <td>freshly</td>\n      <td>1478278542</td>\n      <td>NaN</td>\n      <td>NaN</td>\n      <td>NaN</td>\n    </tr>\n    <tr>\n      <th>3</th>\n      <td>2804772895831984874</td>\n      <td>Image</td>\n      <td>CbsjhajtYrq</td>\n      <td>\"Freshly completely eliminates the hassle of c...</td>\n      <td>[]</td>\n      <td>[cameronandtia]</td>\n      <td>https://www.instagram.com/p/CbsjhajtYrq/</td>\n      <td>0</td>\n      <td></td>\n      <td>[]</td>\n      <td>...</td>\n      <td>2022-03-29T17:30:08.000Z</td>\n      <td>[]</td>\n      <td>None</td>\n      <td>None</td>\n      <td>None</td>\n      <td>freshly</td>\n      <td>1478278542</td>\n      <td>NaN</td>\n      <td>NaN</td>\n      <td>NaN</td>\n    </tr>\n    <tr>\n      <th>4</th>\n      <td>2803989551876644350</td>\n      <td>Image</td>\n      <td>CbpxaQpg53-</td>\n      <td>Are you in a work from home rut? 🏠 💻 Start try...</td>\n      <td>[freshly, wfh, homeoffice, selfcare, tips]</td>\n      <td>[]</td>\n      <td>https://www.instagram.com/p/CbpxaQpg53-/</td>\n      <td>12</td>\n      <td></td>\n      <td>[]</td>\n      <td>...</td>\n      <td>2022-03-28T15:33:44.000Z</td>\n      <td>[]</td>\n      <td>None</td>\n      <td>None</td>\n      <td>None</td>\n      <td>freshly</td>\n      <td>1478278542</td>\n      <td>NaN</td>\n      <td>NaN</td>\n      <td>NaN</td>\n    </tr>\n    <tr>\n      <th>5</th>\n      <td>2802523190057320595</td>\n      <td>Image</td>\n      <td>Cbkj_4yKUCT</td>\n      <td>Spinach is the mealtime super hero you didn't ...</td>\n      <td>[freshly, nationalspinachday, spinach]</td>\n      <td>[]</td>\n      <td>https://www.instagram.com/p/Cbkj_4yKUCT/</td>\n      <td>0</td>\n      <td></td>\n      <td>[]</td>\n      <td>...</td>\n      <td>2022-03-26T15:00:25.000Z</td>\n      <td>[]</td>\n      <td>None</td>\n      <td>None</td>\n      <td>None</td>\n      <td>freshly</td>\n      <td>1478278542</td>\n      <td>NaN</td>\n      <td>NaN</td>\n      <td>NaN</td>\n    </tr>\n    <tr>\n      <th>6</th>\n      <td>2801254234745980695</td>\n      <td>Sidecar</td>\n      <td>CbgDeKDl8cX</td>\n      <td>🗣️Calling all cheese heads! Our Cheesy Vegetab...</td>\n      <td>[]</td>\n      <td>[]</td>\n      <td>https://www.instagram.com/p/CbgDeKDl8cX/</td>\n      <td>7</td>\n      <td></td>\n      <td>[]</td>\n      <td>...</td>\n      <td>2022-03-24T20:59:08.000Z</td>\n      <td>[{'id': '2801254231323346185', 'type': 'Image'...</td>\n      <td>None</td>\n      <td>None</td>\n      <td>None</td>\n      <td>freshly</td>\n      <td>1478278542</td>\n      <td>NaN</td>\n      <td>NaN</td>\n      <td>NaN</td>\n    </tr>\n    <tr>\n      <th>7</th>\n      <td>2800535237717046106</td>\n      <td>Video</td>\n      <td>Cbdf_X5FrNa</td>\n      <td>BRB falling more and more in love with complex...</td>\n      <td>[]</td>\n      <td>[]</td>\n      <td>https://www.instagram.com/p/Cbdf_X5FrNa/</td>\n      <td>3</td>\n      <td></td>\n      <td>[]</td>\n      <td>...</td>\n      <td>2022-03-23T21:10:46.000Z</td>\n      <td>[]</td>\n      <td>None</td>\n      <td>None</td>\n      <td>None</td>\n      <td>freshly</td>\n      <td>1478278542</td>\n      <td>https://instagram.fmmx1-1.fna.fbcdn.net/v/t50....</td>\n      <td>3098.0</td>\n      <td>clips</td>\n    </tr>\n    <tr>\n      <th>8</th>\n      <td>2797630831138189719</td>\n      <td>Image</td>\n      <td>CbTLmserDGX</td>\n      <td>Things you should know if you LOVE potatoes:\\n...</td>\n      <td>[freshly, nationalnutritionmonth, potatoes]</td>\n      <td>[]</td>\n      <td>https://www.instagram.com/p/CbTLmserDGX/</td>\n      <td>12</td>\n      <td></td>\n      <td>[]</td>\n      <td>...</td>\n      <td>2022-03-19T21:00:08.000Z</td>\n      <td>[]</td>\n      <td>None</td>\n      <td>None</td>\n      <td>None</td>\n      <td>freshly</td>\n      <td>1478278542</td>\n      <td>NaN</td>\n      <td>NaN</td>\n      <td>NaN</td>\n    </tr>\n    <tr>\n      <th>9</th>\n      <td>2796035540259013740</td>\n      <td>Sidecar</td>\n      <td>CbNg4KEgYRs</td>\n      <td>For those nights where you're feelin' fancy in...</td>\n      <td>[]</td>\n      <td>[]</td>\n      <td>https://www.instagram.com/p/CbNg4KEgYRs/</td>\n      <td>16</td>\n      <td></td>\n      <td>[]</td>\n      <td>...</td>\n      <td>2022-03-17T16:10:32.000Z</td>\n      <td>[{'id': '2796035381101897857', 'type': 'Video'...</td>\n      <td>None</td>\n      <td>None</td>\n      <td>None</td>\n      <td>freshly</td>\n      <td>1478278542</td>\n      <td>NaN</td>\n      <td>NaN</td>\n      <td>NaN</td>\n    </tr>\n    <tr>\n      <th>10</th>\n      <td>2795251269567116754</td>\n      <td>Video</td>\n      <td>CbKujhEgfXS</td>\n      <td>Foods that give you energy! 🔋 #freshly #energy...</td>\n      <td>[freshly, energy, daylightsavings]</td>\n      <td>[]</td>\n      <td>https://www.instagram.com/p/CbKujhEgfXS/</td>\n      <td>4</td>\n      <td></td>\n      <td>[]</td>\n      <td>...</td>\n      <td>2022-03-16T14:12:40.000Z</td>\n      <td>[]</td>\n      <td>None</td>\n      <td>None</td>\n      <td>None</td>\n      <td>freshly</td>\n      <td>1478278542</td>\n      <td>https://instagram.fmmx1-1.fna.fbcdn.net/v/t50....</td>\n      <td>2238.0</td>\n      <td>clips</td>\n    </tr>\n    <tr>\n      <th>11</th>\n      <td>2794701557007804561</td>\n      <td>Image</td>\n      <td>CbIxkJWrmiR</td>\n      <td>\"With all of the chaos and constant snacks and...</td>\n      <td>[]</td>\n      <td>[freshly, dani_wahlstrom]</td>\n      <td>https://www.instagram.com/p/CbIxkJWrmiR/</td>\n      <td>0</td>\n      <td></td>\n      <td>[]</td>\n      <td>...</td>\n      <td>2022-03-15T20:00:11.000Z</td>\n      <td>[]</td>\n      <td>None</td>\n      <td>None</td>\n      <td>None</td>\n      <td>freshly</td>\n      <td>1478278542</td>\n      <td>NaN</td>\n      <td>NaN</td>\n      <td>NaN</td>\n    </tr>\n  </tbody>\n</table>\n<p>12 rows × 26 columns</p>\n</div>"
     },
     "metadata": {}
    }
   ]
  },
  {
   "cell_type": "markdown",
   "source": "Next few blocks below involve messing around with data (EDA)",
   "metadata": {
    "tags": [],
    "cell_id": "00011-23947832-e228-434f-bde6-74f1c489a457",
    "deepnote_cell_type": "markdown",
    "deepnote_cell_height": 52.390625
   }
  },
  {
   "cell_type": "code",
   "metadata": {
    "tags": [],
    "deepnote_to_be_reexecuted": false,
    "source_hash": "e7ad12df",
    "execution_start": 1651441490641,
    "execution_millis": 5,
    "cell_id": "00012-f38750ee-0ee3-436d-818e-23ffbb4567e7",
    "deepnote_cell_type": "code",
    "deepnote_cell_height": 610.3125
   },
   "source": "post_attributes = df[\"latestPosts\"][0][0]\n\nfor attribute in post_attributes:\n    print(attribute)",
   "execution_count": null,
   "outputs": [
    {
     "name": "stdout",
     "text": "id\ntype\nshortCode\ncaption\nhashtags\nmentions\nurl\ncommentsCount\nfirstComment\nlatestComments\ndimensionsHeight\ndimensionsWidth\ndisplayUrl\nimages\nalt\nlikesCount\ntimestamp\nchildPosts\nlocationName\nlocationId\nownerFullName\nownerUsername\nownerId\n",
     "output_type": "stream"
    }
   ]
  },
  {
   "cell_type": "code",
   "metadata": {
    "tags": [],
    "deepnote_to_be_reexecuted": false,
    "source_hash": "29ccf272",
    "execution_start": 1651441490642,
    "execution_millis": 7,
    "cell_id": "00013-a8213aa8-f0fc-4765-80bd-dc507545e268",
    "deepnote_cell_type": "code",
    "deepnote_cell_height": 388.25
   },
   "source": "posts = df[\"latestPosts\"][0]\n\nfor post in posts:\n    print(post['timestamp'])",
   "execution_count": null,
   "outputs": [
    {
     "name": "stdout",
     "text": "2022-03-31T17:39:09.000Z\n2022-03-30T17:01:45.000Z\n2022-03-30T15:22:16.000Z\n2022-03-29T17:30:08.000Z\n2022-03-28T15:33:44.000Z\n2022-03-26T15:00:25.000Z\n2022-03-24T20:59:08.000Z\n2022-03-23T21:10:46.000Z\n2022-03-19T21:00:08.000Z\n2022-03-17T16:10:32.000Z\n2022-03-16T14:12:40.000Z\n2022-03-15T20:00:11.000Z\n",
     "output_type": "stream"
    }
   ]
  },
  {
   "cell_type": "code",
   "metadata": {
    "tags": [],
    "deepnote_to_be_reexecuted": false,
    "source_hash": "2b2ef6",
    "execution_start": 1651441490647,
    "execution_millis": 29,
    "cell_id": "00014-e4ec02d9-f133-4217-8446-7cc77099cb2c",
    "deepnote_cell_type": "code",
    "deepnote_cell_height": 690
   },
   "source": "likes = [post[\"likesCount\"] for post in posts]\ncomments = [post[\"commentsCount\"] for post in posts]\ntimes = [pd.to_datetime(post[\"timestamp\"]) for post in posts]\npost_data = {'likes': likes, 'comments': comments, 'time': times}\npost_df = pd.DataFrame(post_data)\npost_df",
   "execution_count": null,
   "outputs": [
    {
     "output_type": "execute_result",
     "execution_count": 6,
     "data": {
      "application/vnd.deepnote.dataframe.v3+json": {
       "column_count": 3,
       "row_count": 12,
       "columns": [
        {
         "name": "likes",
         "dtype": "int64",
         "stats": {
          "unique_count": 11,
          "nan_count": 0,
          "min": "23",
          "max": "103",
          "histogram": [
           {
            "bin_start": 23,
            "bin_end": 31,
            "count": 2
           },
           {
            "bin_start": 31,
            "bin_end": 39,
            "count": 1
           },
           {
            "bin_start": 39,
            "bin_end": 47,
            "count": 3
           },
           {
            "bin_start": 47,
            "bin_end": 55,
            "count": 1
           },
           {
            "bin_start": 55,
            "bin_end": 63,
            "count": 0
           },
           {
            "bin_start": 63,
            "bin_end": 71,
            "count": 2
           },
           {
            "bin_start": 71,
            "bin_end": 79,
            "count": 0
           },
           {
            "bin_start": 79,
            "bin_end": 87,
            "count": 0
           },
           {
            "bin_start": 87,
            "bin_end": 95,
            "count": 1
           },
           {
            "bin_start": 95,
            "bin_end": 103,
            "count": 2
           }
          ]
         }
        },
        {
         "name": "comments",
         "dtype": "int64",
         "stats": {
          "unique_count": 9,
          "nan_count": 0,
          "min": "0",
          "max": "16",
          "histogram": [
           {
            "bin_start": 0,
            "bin_end": 1.6,
            "count": 4
           },
           {
            "bin_start": 1.6,
            "bin_end": 3.2,
            "count": 2
           },
           {
            "bin_start": 3.2,
            "bin_end": 4.800000000000001,
            "count": 1
           },
           {
            "bin_start": 4.800000000000001,
            "bin_end": 6.4,
            "count": 1
           },
           {
            "bin_start": 6.4,
            "bin_end": 8,
            "count": 1
           },
           {
            "bin_start": 8,
            "bin_end": 9.600000000000001,
            "count": 0
           },
           {
            "bin_start": 9.600000000000001,
            "bin_end": 11.200000000000001,
            "count": 0
           },
           {
            "bin_start": 11.200000000000001,
            "bin_end": 12.8,
            "count": 2
           },
           {
            "bin_start": 12.8,
            "bin_end": 14.4,
            "count": 0
           },
           {
            "bin_start": 14.4,
            "bin_end": 16,
            "count": 1
           }
          ]
         }
        },
        {
         "name": "time",
         "dtype": "datetime64[ns, UTC]",
         "stats": {
          "unique_count": 12,
          "nan_count": 0,
          "min": "2022-03-15 20:00:11+00:00",
          "max": "2022-03-31 17:39:09+00:00",
          "histogram": [
           {
            "bin_start": 1647374411000000000,
            "bin_end": 1647511804800000000,
            "count": 2
           },
           {
            "bin_start": 1647511804800000000,
            "bin_end": 1647649198600000000,
            "count": 1
           },
           {
            "bin_start": 1647649198600000000,
            "bin_end": 1647786592400000000,
            "count": 1
           },
           {
            "bin_start": 1647786592400000000,
            "bin_end": 1647923986200000000,
            "count": 0
           },
           {
            "bin_start": 1647923986200000000,
            "bin_end": 1648061380000000000,
            "count": 0
           },
           {
            "bin_start": 1648061380000000000,
            "bin_end": 1648198773800000000,
            "count": 2
           },
           {
            "bin_start": 1648198773800000000,
            "bin_end": 1648336167600000000,
            "count": 1
           },
           {
            "bin_start": 1648336167600000000,
            "bin_end": 1648473561400000000,
            "count": 0
           },
           {
            "bin_start": 1648473561400000000,
            "bin_end": 1648610955200000000,
            "count": 2
           },
           {
            "bin_start": 1648610955200000000,
            "bin_end": 1648748349000000000,
            "count": 3
           }
          ]
         }
        },
        {
         "name": "_deepnote_index_column",
         "dtype": "int64"
        }
       ],
       "rows": [
        {
         "likes": 34,
         "comments": 2,
         "time": "2022-03-31T17:39:09.000000",
         "_deepnote_index_column": 0
        },
        {
         "likes": 23,
         "comments": 1,
         "time": "2022-03-30T17:01:45.000000",
         "_deepnote_index_column": 1
        },
        {
         "likes": 44,
         "comments": 6,
         "time": "2022-03-30T15:22:16.000000",
         "_deepnote_index_column": 2
        },
        {
         "likes": 103,
         "comments": 0,
         "time": "2022-03-29T17:30:08.000000",
         "_deepnote_index_column": 3
        },
        {
         "likes": 51,
         "comments": 12,
         "time": "2022-03-28T15:33:44.000000",
         "_deepnote_index_column": 4
        },
        {
         "likes": 26,
         "comments": 0,
         "time": "2022-03-26T15:00:25.000000",
         "_deepnote_index_column": 5
        },
        {
         "likes": 68,
         "comments": 7,
         "time": "2022-03-24T20:59:08.000000",
         "_deepnote_index_column": 6
        },
        {
         "likes": 45,
         "comments": 3,
         "time": "2022-03-23T21:10:46.000000",
         "_deepnote_index_column": 7
        },
        {
         "likes": 93,
         "comments": 12,
         "time": "2022-03-19T21:00:08.000000",
         "_deepnote_index_column": 8
        },
        {
         "likes": 70,
         "comments": 16,
         "time": "2022-03-17T16:10:32.000000",
         "_deepnote_index_column": 9
        }
       ]
      },
      "text/plain": "    likes  comments                      time\n0      34         2 2022-03-31 17:39:09+00:00\n1      23         1 2022-03-30 17:01:45+00:00\n2      44         6 2022-03-30 15:22:16+00:00\n3     103         0 2022-03-29 17:30:08+00:00\n4      51        12 2022-03-28 15:33:44+00:00\n5      26         0 2022-03-26 15:00:25+00:00\n6      68         7 2022-03-24 20:59:08+00:00\n7      45         3 2022-03-23 21:10:46+00:00\n8      93        12 2022-03-19 21:00:08+00:00\n9      70        16 2022-03-17 16:10:32+00:00\n10     97         4 2022-03-16 14:12:40+00:00\n11     45         0 2022-03-15 20:00:11+00:00",
      "text/html": "<div>\n<style scoped>\n    .dataframe tbody tr th:only-of-type {\n        vertical-align: middle;\n    }\n\n    .dataframe tbody tr th {\n        vertical-align: top;\n    }\n\n    .dataframe thead th {\n        text-align: right;\n    }\n</style>\n<table border=\"1\" class=\"dataframe\">\n  <thead>\n    <tr style=\"text-align: right;\">\n      <th></th>\n      <th>likes</th>\n      <th>comments</th>\n      <th>time</th>\n    </tr>\n  </thead>\n  <tbody>\n    <tr>\n      <th>0</th>\n      <td>34</td>\n      <td>2</td>\n      <td>2022-03-31 17:39:09+00:00</td>\n    </tr>\n    <tr>\n      <th>1</th>\n      <td>23</td>\n      <td>1</td>\n      <td>2022-03-30 17:01:45+00:00</td>\n    </tr>\n    <tr>\n      <th>2</th>\n      <td>44</td>\n      <td>6</td>\n      <td>2022-03-30 15:22:16+00:00</td>\n    </tr>\n    <tr>\n      <th>3</th>\n      <td>103</td>\n      <td>0</td>\n      <td>2022-03-29 17:30:08+00:00</td>\n    </tr>\n    <tr>\n      <th>4</th>\n      <td>51</td>\n      <td>12</td>\n      <td>2022-03-28 15:33:44+00:00</td>\n    </tr>\n    <tr>\n      <th>5</th>\n      <td>26</td>\n      <td>0</td>\n      <td>2022-03-26 15:00:25+00:00</td>\n    </tr>\n    <tr>\n      <th>6</th>\n      <td>68</td>\n      <td>7</td>\n      <td>2022-03-24 20:59:08+00:00</td>\n    </tr>\n    <tr>\n      <th>7</th>\n      <td>45</td>\n      <td>3</td>\n      <td>2022-03-23 21:10:46+00:00</td>\n    </tr>\n    <tr>\n      <th>8</th>\n      <td>93</td>\n      <td>12</td>\n      <td>2022-03-19 21:00:08+00:00</td>\n    </tr>\n    <tr>\n      <th>9</th>\n      <td>70</td>\n      <td>16</td>\n      <td>2022-03-17 16:10:32+00:00</td>\n    </tr>\n    <tr>\n      <th>10</th>\n      <td>97</td>\n      <td>4</td>\n      <td>2022-03-16 14:12:40+00:00</td>\n    </tr>\n    <tr>\n      <th>11</th>\n      <td>45</td>\n      <td>0</td>\n      <td>2022-03-15 20:00:11+00:00</td>\n    </tr>\n  </tbody>\n</table>\n</div>"
     },
     "metadata": {}
    }
   ]
  },
  {
   "cell_type": "code",
   "metadata": {
    "tags": [],
    "deepnote_to_be_reexecuted": false,
    "source_hash": "c1f276c9",
    "execution_start": 1651441490671,
    "execution_millis": 24,
    "deepnote_table_state": {
     "pageSize": 10,
     "pageIndex": 0,
     "filters": [],
     "sortBy": []
    },
    "deepnote_table_loading": false,
    "cell_id": "00015-4dfd0477-5bb3-46c0-8303-a966e67de2ae",
    "deepnote_cell_type": "code",
    "deepnote_cell_height": 600
   },
   "source": "post_df.sort_values(by=\"time\")",
   "execution_count": null,
   "outputs": [
    {
     "output_type": "execute_result",
     "execution_count": 7,
     "data": {
      "application/vnd.deepnote.dataframe.v3+json": {
       "column_count": 3,
       "row_count": 12,
       "columns": [
        {
         "name": "likes",
         "dtype": "int64",
         "stats": {
          "unique_count": 11,
          "nan_count": 0,
          "min": "23",
          "max": "103",
          "histogram": [
           {
            "bin_start": 23,
            "bin_end": 31,
            "count": 2
           },
           {
            "bin_start": 31,
            "bin_end": 39,
            "count": 1
           },
           {
            "bin_start": 39,
            "bin_end": 47,
            "count": 3
           },
           {
            "bin_start": 47,
            "bin_end": 55,
            "count": 1
           },
           {
            "bin_start": 55,
            "bin_end": 63,
            "count": 0
           },
           {
            "bin_start": 63,
            "bin_end": 71,
            "count": 2
           },
           {
            "bin_start": 71,
            "bin_end": 79,
            "count": 0
           },
           {
            "bin_start": 79,
            "bin_end": 87,
            "count": 0
           },
           {
            "bin_start": 87,
            "bin_end": 95,
            "count": 1
           },
           {
            "bin_start": 95,
            "bin_end": 103,
            "count": 2
           }
          ]
         }
        },
        {
         "name": "comments",
         "dtype": "int64",
         "stats": {
          "unique_count": 9,
          "nan_count": 0,
          "min": "0",
          "max": "16",
          "histogram": [
           {
            "bin_start": 0,
            "bin_end": 1.6,
            "count": 4
           },
           {
            "bin_start": 1.6,
            "bin_end": 3.2,
            "count": 2
           },
           {
            "bin_start": 3.2,
            "bin_end": 4.800000000000001,
            "count": 1
           },
           {
            "bin_start": 4.800000000000001,
            "bin_end": 6.4,
            "count": 1
           },
           {
            "bin_start": 6.4,
            "bin_end": 8,
            "count": 1
           },
           {
            "bin_start": 8,
            "bin_end": 9.600000000000001,
            "count": 0
           },
           {
            "bin_start": 9.600000000000001,
            "bin_end": 11.200000000000001,
            "count": 0
           },
           {
            "bin_start": 11.200000000000001,
            "bin_end": 12.8,
            "count": 2
           },
           {
            "bin_start": 12.8,
            "bin_end": 14.4,
            "count": 0
           },
           {
            "bin_start": 14.4,
            "bin_end": 16,
            "count": 1
           }
          ]
         }
        },
        {
         "name": "time",
         "dtype": "datetime64[ns, UTC]",
         "stats": {
          "unique_count": 12,
          "nan_count": 0,
          "min": "2022-03-15 20:00:11+00:00",
          "max": "2022-03-31 17:39:09+00:00",
          "histogram": [
           {
            "bin_start": 1647374411000000000,
            "bin_end": 1647511804800000000,
            "count": 2
           },
           {
            "bin_start": 1647511804800000000,
            "bin_end": 1647649198600000000,
            "count": 1
           },
           {
            "bin_start": 1647649198600000000,
            "bin_end": 1647786592400000000,
            "count": 1
           },
           {
            "bin_start": 1647786592400000000,
            "bin_end": 1647923986200000000,
            "count": 0
           },
           {
            "bin_start": 1647923986200000000,
            "bin_end": 1648061380000000000,
            "count": 0
           },
           {
            "bin_start": 1648061380000000000,
            "bin_end": 1648198773800000000,
            "count": 2
           },
           {
            "bin_start": 1648198773800000000,
            "bin_end": 1648336167600000000,
            "count": 1
           },
           {
            "bin_start": 1648336167600000000,
            "bin_end": 1648473561400000000,
            "count": 0
           },
           {
            "bin_start": 1648473561400000000,
            "bin_end": 1648610955200000000,
            "count": 2
           },
           {
            "bin_start": 1648610955200000000,
            "bin_end": 1648748349000000000,
            "count": 3
           }
          ]
         }
        },
        {
         "name": "_deepnote_index_column",
         "dtype": "int64"
        }
       ],
       "rows": [
        {
         "likes": 45,
         "comments": 0,
         "time": "2022-03-15T20:00:11.000000",
         "_deepnote_index_column": 11
        },
        {
         "likes": 97,
         "comments": 4,
         "time": "2022-03-16T14:12:40.000000",
         "_deepnote_index_column": 10
        },
        {
         "likes": 70,
         "comments": 16,
         "time": "2022-03-17T16:10:32.000000",
         "_deepnote_index_column": 9
        },
        {
         "likes": 93,
         "comments": 12,
         "time": "2022-03-19T21:00:08.000000",
         "_deepnote_index_column": 8
        },
        {
         "likes": 45,
         "comments": 3,
         "time": "2022-03-23T21:10:46.000000",
         "_deepnote_index_column": 7
        },
        {
         "likes": 68,
         "comments": 7,
         "time": "2022-03-24T20:59:08.000000",
         "_deepnote_index_column": 6
        },
        {
         "likes": 26,
         "comments": 0,
         "time": "2022-03-26T15:00:25.000000",
         "_deepnote_index_column": 5
        },
        {
         "likes": 51,
         "comments": 12,
         "time": "2022-03-28T15:33:44.000000",
         "_deepnote_index_column": 4
        },
        {
         "likes": 103,
         "comments": 0,
         "time": "2022-03-29T17:30:08.000000",
         "_deepnote_index_column": 3
        },
        {
         "likes": 44,
         "comments": 6,
         "time": "2022-03-30T15:22:16.000000",
         "_deepnote_index_column": 2
        }
       ]
      },
      "text/plain": "    likes  comments                      time\n11     45         0 2022-03-15 20:00:11+00:00\n10     97         4 2022-03-16 14:12:40+00:00\n9      70        16 2022-03-17 16:10:32+00:00\n8      93        12 2022-03-19 21:00:08+00:00\n7      45         3 2022-03-23 21:10:46+00:00\n6      68         7 2022-03-24 20:59:08+00:00\n5      26         0 2022-03-26 15:00:25+00:00\n4      51        12 2022-03-28 15:33:44+00:00\n3     103         0 2022-03-29 17:30:08+00:00\n2      44         6 2022-03-30 15:22:16+00:00\n1      23         1 2022-03-30 17:01:45+00:00\n0      34         2 2022-03-31 17:39:09+00:00",
      "text/html": "<div>\n<style scoped>\n    .dataframe tbody tr th:only-of-type {\n        vertical-align: middle;\n    }\n\n    .dataframe tbody tr th {\n        vertical-align: top;\n    }\n\n    .dataframe thead th {\n        text-align: right;\n    }\n</style>\n<table border=\"1\" class=\"dataframe\">\n  <thead>\n    <tr style=\"text-align: right;\">\n      <th></th>\n      <th>likes</th>\n      <th>comments</th>\n      <th>time</th>\n    </tr>\n  </thead>\n  <tbody>\n    <tr>\n      <th>11</th>\n      <td>45</td>\n      <td>0</td>\n      <td>2022-03-15 20:00:11+00:00</td>\n    </tr>\n    <tr>\n      <th>10</th>\n      <td>97</td>\n      <td>4</td>\n      <td>2022-03-16 14:12:40+00:00</td>\n    </tr>\n    <tr>\n      <th>9</th>\n      <td>70</td>\n      <td>16</td>\n      <td>2022-03-17 16:10:32+00:00</td>\n    </tr>\n    <tr>\n      <th>8</th>\n      <td>93</td>\n      <td>12</td>\n      <td>2022-03-19 21:00:08+00:00</td>\n    </tr>\n    <tr>\n      <th>7</th>\n      <td>45</td>\n      <td>3</td>\n      <td>2022-03-23 21:10:46+00:00</td>\n    </tr>\n    <tr>\n      <th>6</th>\n      <td>68</td>\n      <td>7</td>\n      <td>2022-03-24 20:59:08+00:00</td>\n    </tr>\n    <tr>\n      <th>5</th>\n      <td>26</td>\n      <td>0</td>\n      <td>2022-03-26 15:00:25+00:00</td>\n    </tr>\n    <tr>\n      <th>4</th>\n      <td>51</td>\n      <td>12</td>\n      <td>2022-03-28 15:33:44+00:00</td>\n    </tr>\n    <tr>\n      <th>3</th>\n      <td>103</td>\n      <td>0</td>\n      <td>2022-03-29 17:30:08+00:00</td>\n    </tr>\n    <tr>\n      <th>2</th>\n      <td>44</td>\n      <td>6</td>\n      <td>2022-03-30 15:22:16+00:00</td>\n    </tr>\n    <tr>\n      <th>1</th>\n      <td>23</td>\n      <td>1</td>\n      <td>2022-03-30 17:01:45+00:00</td>\n    </tr>\n    <tr>\n      <th>0</th>\n      <td>34</td>\n      <td>2</td>\n      <td>2022-03-31 17:39:09+00:00</td>\n    </tr>\n  </tbody>\n</table>\n</div>"
     },
     "metadata": {}
    }
   ]
  },
  {
   "cell_type": "markdown",
   "source": "Too little data, realized API messed up =&gt; decided to tinker around again",
   "metadata": {
    "tags": [],
    "is_collapsed": false,
    "cell_id": "00016-7c08c1ce-3c21-4571-b288-9c7f1edc6e6a",
    "deepnote_cell_type": "text-cell-p"
   }
  },
  {
   "cell_type": "code",
   "metadata": {
    "tags": [],
    "deepnote_to_be_reexecuted": false,
    "source_hash": "60b8db63",
    "execution_start": 1651441490695,
    "execution_millis": 137,
    "cell_id": "00017-0b0ecc92-8d7e-4978-ac84-c10322417fb4",
    "deepnote_cell_type": "code",
    "deepnote_cell_height": 413
   },
   "source": "df = pd.read_json(\"InstagramData/Freshly.json\")\ndf.head()",
   "execution_count": null,
   "outputs": [
    {
     "output_type": "execute_result",
     "execution_count": 8,
     "data": {
      "application/vnd.deepnote.dataframe.v3+json": {
       "column_count": 28,
       "row_count": 5,
       "columns": [
        {
         "name": "queryUsername",
         "dtype": "object",
         "stats": {
          "unique_count": 1,
          "nan_count": 0,
          "categories": [
           {
            "name": "freshly",
            "count": 5
           }
          ]
         }
        },
        {
         "name": "position",
         "dtype": "int64",
         "stats": {
          "unique_count": 5,
          "nan_count": 0,
          "min": "1",
          "max": "5",
          "histogram": [
           {
            "bin_start": 1,
            "bin_end": 1.4,
            "count": 1
           },
           {
            "bin_start": 1.4,
            "bin_end": 1.8,
            "count": 0
           },
           {
            "bin_start": 1.8,
            "bin_end": 2.2,
            "count": 1
           },
           {
            "bin_start": 2.2,
            "bin_end": 2.6,
            "count": 0
           },
           {
            "bin_start": 2.6,
            "bin_end": 3,
            "count": 0
           },
           {
            "bin_start": 3,
            "bin_end": 3.4000000000000004,
            "count": 1
           },
           {
            "bin_start": 3.4000000000000004,
            "bin_end": 3.8000000000000003,
            "count": 0
           },
           {
            "bin_start": 3.8000000000000003,
            "bin_end": 4.2,
            "count": 1
           },
           {
            "bin_start": 4.2,
            "bin_end": 4.6,
            "count": 0
           },
           {
            "bin_start": 4.6,
            "bin_end": 5,
            "count": 1
           }
          ]
         }
        },
        {
         "name": "id",
         "dtype": "int64",
         "stats": {
          "unique_count": 5,
          "nan_count": 0,
          "min": "2803989551876644352",
          "max": "2806227003505907200",
          "histogram": [
           {
            "bin_start": 2803989551876644400,
            "bin_end": 2804213297039570400,
            "count": 1
           },
           {
            "bin_start": 2804213297039570400,
            "bin_end": 2804437042202497000,
            "count": 0
           },
           {
            "bin_start": 2804437042202497000,
            "bin_end": 2804660787365423000,
            "count": 0
           },
           {
            "bin_start": 2804660787365423000,
            "bin_end": 2804884532528349700,
            "count": 1
           },
           {
            "bin_start": 2804884532528349700,
            "bin_end": 2805108277691276000,
            "count": 0
           },
           {
            "bin_start": 2805108277691276000,
            "bin_end": 2805332022854202000,
            "count": 0
           },
           {
            "bin_start": 2805332022854202000,
            "bin_end": 2805555768017128400,
            "count": 2
           },
           {
            "bin_start": 2805555768017128400,
            "bin_end": 2805779513180054500,
            "count": 0
           },
           {
            "bin_start": 2805779513180054500,
            "bin_end": 2806003258342981000,
            "count": 0
           },
           {
            "bin_start": 2806003258342981000,
            "bin_end": 2806227003505907000,
            "count": 1
           }
          ]
         }
        },
        {
         "name": "type",
         "dtype": "object",
         "stats": {
          "unique_count": 3,
          "nan_count": 0,
          "categories": [
           {
            "name": "Sidecar",
            "count": 2
           },
           {
            "name": "Image",
            "count": 2
           },
           {
            "name": "Video",
            "count": 1
           }
          ]
         }
        },
        {
         "name": "shortCode",
         "dtype": "object",
         "stats": {
          "unique_count": 5,
          "nan_count": 0,
          "categories": [
           {
            "name": "CbxuJd3FBWd",
            "count": 1
           },
           {
            "name": "CbvFB_Hq97e",
            "count": 1
           },
           {
            "name": "3 others",
            "count": 3
           }
          ]
         }
        },
        {
         "name": "caption",
         "dtype": "object",
         "stats": {
          "unique_count": 5,
          "nan_count": 0,
          "categories": [
           {
            "name": "Bring out the confetti, a new meal just dropped!\n\n🎊 Super savory and sweet katsu sauce\n🎊 Veggie packed basmati rice\n🎊 28g of protein to keep you full\n\nThis perfectly baked panko crusted pork will be your new go-to comfort food!",
            "count": 1
           },
           {
            "name": "Spring Produce Guide 🛒",
            "count": 1
           },
           {
            "name": "3 others",
            "count": 3
           }
          ]
         }
        },
        {
         "name": "hashtags",
         "dtype": "object",
         "stats": {
          "unique_count": 5,
          "nan_count": 0,
          "categories": [
           {
            "name": "[]",
            "count": 4
           },
           {
            "name": "['freshly', 'wfh', 'homeoffice', 'selfcare', 'tips']",
            "count": 1
           }
          ]
         }
        },
        {
         "name": "mentions",
         "dtype": "object",
         "stats": {
          "unique_count": 5,
          "nan_count": 0,
          "categories": [
           {
            "name": "[]",
            "count": 4
           },
           {
            "name": "['cameronandtia']",
            "count": 1
           }
          ]
         }
        },
        {
         "name": "url",
         "dtype": "object",
         "stats": {
          "unique_count": 5,
          "nan_count": 0,
          "categories": [
           {
            "name": "https://www.instagram.com/p/CbxuJd3FBWd/",
            "count": 1
           },
           {
            "name": "https://www.instagram.com/p/CbvFB_Hq97e/",
            "count": 1
           },
           {
            "name": "3 others",
            "count": 3
           }
          ]
         }
        },
        {
         "name": "commentsCount",
         "dtype": "int64",
         "stats": {
          "unique_count": 5,
          "nan_count": 0,
          "min": "0",
          "max": "12",
          "histogram": [
           {
            "bin_start": 0,
            "bin_end": 1.2,
            "count": 2
           },
           {
            "bin_start": 1.2,
            "bin_end": 2.4,
            "count": 1
           },
           {
            "bin_start": 2.4,
            "bin_end": 3.5999999999999996,
            "count": 0
           },
           {
            "bin_start": 3.5999999999999996,
            "bin_end": 4.8,
            "count": 0
           },
           {
            "bin_start": 4.8,
            "bin_end": 6,
            "count": 0
           },
           {
            "bin_start": 6,
            "bin_end": 7.199999999999999,
            "count": 1
           },
           {
            "bin_start": 7.199999999999999,
            "bin_end": 8.4,
            "count": 0
           },
           {
            "bin_start": 8.4,
            "bin_end": 9.6,
            "count": 0
           },
           {
            "bin_start": 9.6,
            "bin_end": 10.799999999999999,
            "count": 0
           },
           {
            "bin_start": 10.799999999999999,
            "bin_end": 12,
            "count": 1
           }
          ]
         }
        },
        {
         "name": "firstComment",
         "dtype": "object",
         "stats": {
          "unique_count": 1,
          "nan_count": 0,
          "categories": [
           {
            "name": "",
            "count": 5
           }
          ]
         }
        },
        {
         "name": "latestComments",
         "dtype": "object",
         "stats": {
          "unique_count": 5,
          "nan_count": 0,
          "categories": [
           {
            "name": "[]",
            "count": 5
           }
          ]
         }
        },
        {
         "name": "dimensionsHeight",
         "dtype": "int64",
         "stats": {
          "unique_count": 4,
          "nan_count": 0,
          "min": "718",
          "max": "1920",
          "histogram": [
           {
            "bin_start": 718,
            "bin_end": 838.2,
            "count": 1
           },
           {
            "bin_start": 838.2,
            "bin_end": 958.4,
            "count": 0
           },
           {
            "bin_start": 958.4,
            "bin_end": 1078.6,
            "count": 0
           },
           {
            "bin_start": 1078.6,
            "bin_end": 1198.8,
            "count": 1
           },
           {
            "bin_start": 1198.8,
            "bin_end": 1319,
            "count": 0
           },
           {
            "bin_start": 1319,
            "bin_end": 1439.2,
            "count": 2
           },
           {
            "bin_start": 1439.2,
            "bin_end": 1559.4,
            "count": 0
           },
           {
            "bin_start": 1559.4,
            "bin_end": 1679.6,
            "count": 0
           },
           {
            "bin_start": 1679.6,
            "bin_end": 1799.8,
            "count": 0
           },
           {
            "bin_start": 1799.8,
            "bin_end": 1920,
            "count": 1
           }
          ]
         }
        },
        {
         "name": "dimensionsWidth",
         "dtype": "int64",
         "stats": {
          "unique_count": 1,
          "nan_count": 0,
          "min": "1080",
          "max": "1080",
          "histogram": [
           {
            "bin_start": 1079.5,
            "bin_end": 1079.6,
            "count": 0
           },
           {
            "bin_start": 1079.6,
            "bin_end": 1079.7,
            "count": 0
           },
           {
            "bin_start": 1079.7,
            "bin_end": 1079.8,
            "count": 0
           },
           {
            "bin_start": 1079.8,
            "bin_end": 1079.9,
            "count": 0
           },
           {
            "bin_start": 1079.9,
            "bin_end": 1080,
            "count": 0
           },
           {
            "bin_start": 1080,
            "bin_end": 1080.1,
            "count": 5
           },
           {
            "bin_start": 1080.1,
            "bin_end": 1080.2,
            "count": 0
           },
           {
            "bin_start": 1080.2,
            "bin_end": 1080.3,
            "count": 0
           },
           {
            "bin_start": 1080.3,
            "bin_end": 1080.4,
            "count": 0
           },
           {
            "bin_start": 1080.4,
            "bin_end": 1080.5,
            "count": 0
           }
          ]
         }
        },
        {
         "name": "displayUrl",
         "dtype": "object",
         "stats": {
          "unique_count": 5,
          "nan_count": 0,
          "categories": [
           {
            "name": "https://instagram.fkul10-1.fna.fbcdn.net/v/t51.2885-15/277550469_1176016839893820_2939772455828097383_n.jpg?stp=dst-jpg_e35_s1080x1080&_nc_ht=instagram.fkul10-1.fna.fbcdn.net&_nc_cat=100&_nc_ohc=bXsf8-dEiFcAX_GVyQv&edm=ABfd0MgBAAAA&ccb=7-4&oh=00_AT_7mgd1Etkoz8BMSSAYRDAOGXJXyPIGgJhD4IPtlkRWCA&oe=624C3FD4&_nc_sid=7bff83",
            "count": 1
           },
           {
            "name": "https://instagram.fkul10-1.fna.fbcdn.net/v/t51.2885-15/277452248_947765979237244_8748339227002893892_n.jpg?stp=dst-jpg_e35_p1080x1080_sh0.08&_nc_ht=instagram.fkul10-1.fna.fbcdn.net&_nc_cat=104&_nc_ohc=0LVqIjVAwXYAX9O_MQs&edm=ABfd0MgBAAAA&ccb=7-4&oh=00_AT-1NyQq9hKGPi30CGXciuEC6E6qbm9sWMrSwrPfZxRQPQ&oe=6248B1F4&_nc_sid=7bff83",
            "count": 1
           },
           {
            "name": "3 others",
            "count": 3
           }
          ]
         }
        },
        {
         "name": "images",
         "dtype": "object",
         "stats": {
          "unique_count": 5,
          "nan_count": 0,
          "categories": [
           {
            "name": "[]",
            "count": 3
           },
           {
            "name": "['https://instagram.fkul10-1.fna.fbcdn.net/v/t51.2885-15/277550469_1176016839893820_2939772455828097383_n.jpg?stp=dst-jpg_e35_s1080x1080&_nc_ht=instagram.fkul10-1.fna.fbcdn.net&_nc_cat=100&_nc_ohc=bXsf8-dEiFcAX_GVyQv&edm=ABfd0MgBAAAA&ccb=7-4&oh=00_AT_7mgd1Etkoz8BMSSAYRDAOGXJXyPIGgJhD4IPtlkRWCA&oe=624C3FD4&_nc_sid=7bff83', 'https://instagram.fkul10-1.fna.fbcdn.net/v/t51.2885-15/277596429_135796435678328_8104310365598160706_n.jpg?stp=dst-jpg_e35_s1080x1080&_nc_ht=instagram.fkul10-1.fna.fbcdn.net&_nc_cat=108&_nc_ohc=ygM_XU5Ie28AX-y9Iom&edm=ABfd0MgBAAAA&ccb=7-4&oh=00_AT91AafDcGF8nNEePiun0XsGryh7JAIYHvn64PNk9wuo-g&oe=624D7D0A&_nc_sid=7bff83', 'https://instagram.fkul10-1.fna.fbcdn.net/v/t51.2885-15/277552725_1848191882046043_8386684138083097417_n.jpg?stp=dst-jpg_e35_s1080x1080&_nc_ht=instagram.fkul10-1.fna.fbcdn.net&_nc_cat=107&_nc_ohc=ISo6pJ-0tjAAX-wwdR1&edm=ABfd0MgBAAAA&ccb=7-4&oh=00_AT8iRoSxk97Zy_kp4i-dq9REQQYx2RPSh9HJHmKMhGU1HQ&oe=624C77D8&_nc_sid=7bff83', 'https://instagram.fkul10-1.fna.fbcdn.net/v/t51.2885-15/277700197_116992714126404_8233046701678407597_n.jpg?stp=dst-jpg_e35_s1080x1080&_nc_ht=instagram.fkul10-1.fna.fbcdn.net&_nc_cat=100&_nc_ohc=rCrh7RaQ0qAAX-HTNHv&edm=ABfd0MgBAAAA&ccb=7-4&oh=00_AT-ee9ZDXAnNttaCdKnKdy6oDABYT3Tn-76_fPpp6-M3qA&oe=624CB0E1&_nc_sid=7bff83']",
            "count": 1
           },
           {
            "name": "['https://instagram.fkul10-1.fna.fbcdn.net/v/t51.2885-15/277619037_286036666884880_3835160978861956980_n.jpg?stp=dst-jpg_e35_s1080x1080&_nc_ht=instagram.fkul10-1.fna.fbcdn.net&_nc_cat=104&_nc_ohc=Vey0mYivNj0AX9A_Q35&edm=ABfd0MgBAAAA&ccb=7-4&oh=00_AT_AZ2GtB-9humYSzHlXdvJeQ7BEL1cRC9o4toxkKmoUUA&oe=624C87B3&_nc_sid=7bff83', 'https://instagram.fkul10-1.fna.fbcdn.net/v/t51.2885-15/277476830_1600802230291475_4261041305001350464_n.jpg?stp=dst-jpg_e35_s1080x1080&_nc_ht=instagram.fkul10-1.fna.fbcdn.net&_nc_cat=111&_nc_ohc=o2-ChLbxm1QAX8wIvgf&edm=ABfd0MgBAAAA&ccb=7-4&oh=00_AT_j39khV2VDdmmTsvFsqRT1XfuZ_YHYzMxYoZbLRMhVsQ&oe=624C960B&_nc_sid=7bff83', 'https://instagram.fkul10-1.fna.fbcdn.net/v/t51.2885-15/277474131_116729960964197_1753397551822868533_n.jpg?stp=dst-jpg_e35_s1080x1080&_nc_ht=instagram.fkul10-1.fna.fbcdn.net&_nc_cat=105&_nc_ohc=1NBSKOVmmlEAX920eU6&edm=ABfd0MgBAAAA&ccb=7-4&oh=00_AT_tbonUrnokac0af_bT6hp3JcyvtsqRxbfPn_yld0Cvsg&oe=624DCB19&_nc_sid=7bff83', 'https://instagram.fkul10-1.fna.fbcdn.net/v/t51.2885-15/277615938_135529799007579_6071148533801849046_n.jpg?stp=dst-jpg_e35_s1080x1080&_nc_ht=instagram.fkul10-1.fna.fbcdn.net&_nc_cat=103&_nc_ohc=yaln54-8IywAX-mLhQg&edm=ABfd0MgBAAAA&ccb=7-4&oh=00_AT9tswUu9RiVHTKvGVo7ssEz-pjZIFNbh7F1RsiHzbHLUA&oe=624D17E2&_nc_sid=7bff83', 'https://instagram.fkul10-1.fna.fbcdn.net/v/t51.2885-15/277546641_347832180472439_8320917277891613824_n.jpg?stp=dst-jpg_e35_s1080x1080&_nc_ht=instagram.fkul10-1.fna.fbcdn.net&_nc_cat=111&_nc_ohc=LpIAu12FUT0AX-o_DYQ&edm=ABfd0MgBAAAA&ccb=7-4&oh=00_AT_x_PRA8OQ1nqYHClAqQsN9huWvDLS3bUBS1fkdax8IXw&oe=624CB626&_nc_sid=7bff83']",
            "count": 1
           }
          ]
         }
        },
        {
         "name": "alt",
         "dtype": "object",
         "stats": {
          "unique_count": 4,
          "nan_count": 1,
          "categories": [
           {
            "name": "Photo by Freshly on March 31, 2022. May be an image of food and text that says 'Japanese-Style Pork Katsu with Katsu Sauce & Confetti Rice'.",
            "count": 1
           },
           {
            "name": "3 others",
            "count": 3
           },
           {
            "name": "Missing",
            "count": 1
           }
          ]
         }
        },
        {
         "name": "likesCount",
         "dtype": "int64",
         "stats": {
          "unique_count": 5,
          "nan_count": 0,
          "min": "23",
          "max": "103",
          "histogram": [
           {
            "bin_start": 23,
            "bin_end": 31,
            "count": 1
           },
           {
            "bin_start": 31,
            "bin_end": 39,
            "count": 1
           },
           {
            "bin_start": 39,
            "bin_end": 47,
            "count": 1
           },
           {
            "bin_start": 47,
            "bin_end": 55,
            "count": 1
           },
           {
            "bin_start": 55,
            "bin_end": 63,
            "count": 0
           },
           {
            "bin_start": 63,
            "bin_end": 71,
            "count": 0
           },
           {
            "bin_start": 71,
            "bin_end": 79,
            "count": 0
           },
           {
            "bin_start": 79,
            "bin_end": 87,
            "count": 0
           },
           {
            "bin_start": 87,
            "bin_end": 95,
            "count": 0
           },
           {
            "bin_start": 95,
            "bin_end": 103,
            "count": 1
           }
          ]
         }
        },
        {
         "name": "timestamp",
         "dtype": "datetime64[ns, UTC]",
         "stats": {
          "unique_count": 5,
          "nan_count": 0,
          "min": "2022-03-28 15:33:44+00:00",
          "max": "2022-03-31 17:39:09+00:00",
          "histogram": [
           {
            "bin_start": 1648481624000000000,
            "bin_end": 1648508296500000000,
            "count": 1
           },
           {
            "bin_start": 1648508296500000000,
            "bin_end": 1648534969000000000,
            "count": 0
           },
           {
            "bin_start": 1648534969000000000,
            "bin_end": 1648561641500000000,
            "count": 0
           },
           {
            "bin_start": 1648561641500000000,
            "bin_end": 1648588314000000000,
            "count": 1
           },
           {
            "bin_start": 1648588314000000000,
            "bin_end": 1648614986500000000,
            "count": 0
           },
           {
            "bin_start": 1648614986500000000,
            "bin_end": 1648641659000000000,
            "count": 0
           },
           {
            "bin_start": 1648641659000000000,
            "bin_end": 1648668331500000000,
            "count": 2
           },
           {
            "bin_start": 1648668331500000000,
            "bin_end": 1648695004000000000,
            "count": 0
           },
           {
            "bin_start": 1648695004000000000,
            "bin_end": 1648721676500000000,
            "count": 0
           },
           {
            "bin_start": 1648721676500000000,
            "bin_end": 1648748349000000000,
            "count": 1
           }
          ]
         }
        },
        {
         "name": "childPosts",
         "dtype": "object",
         "stats": {
          "unique_count": 5,
          "nan_count": 0,
          "categories": [
           {
            "name": "[]",
            "count": 3
           },
           {
            "name": "[{'id': '2806226999999496942', 'type': 'Image', 'shortCode': 'CbxuJamFILu', 'caption': '', 'hashtags': [], 'mentions': [], 'url': 'https://www.instagram.com/p/CbxuJamFILu/', 'commentsCount': 0, 'firstComment': '', 'latestComments': [], 'dimensionsHeight': 1080, 'dimensionsWidth': 1080, 'displayUrl': 'https://instagram.fkul10-1.fna.fbcdn.net/v/t51.2885-15/277550469_1176016839893820_2939772455828097383_n.jpg?stp=dst-jpg_e35_s1080x1080&_nc_ht=instagram.fkul10-1.fna.fbcdn.net&_nc_cat=100&_nc_ohc=bXsf8-dEiFcAX_GVyQv&edm=ABfd0MgBAAAA&ccb=7-4&oh=00_AT_7mgd1Etkoz8BMSSAYRDAOGXJXyPIGgJhD4IPtlkRWCA&oe=624C3FD4&_nc_sid=7bff83', 'images': [], 'alt': \"Photo by Freshly on March 31, 2022. May be an image of food and text that says 'Japanese-Style Pork Katsu with Katsu Sauce & Confetti Rice'.\", 'likesCount': None, 'timestamp': None, 'childPosts': [], 'locationName': None, 'locationId': None, 'ownerFullName': None, 'ownerUsername': 'freshly', 'ownerId': '1478278542'}, {'id': '2806227000016270213', 'type': 'Image', 'shortCode': 'CbxuJanFHOF', 'caption': '', 'hashtags': [], 'mentions': [], 'url': 'https://www.instagram.com/p/CbxuJanFHOF/', 'commentsCount': 0, 'firstComment': '', 'latestComments': [], 'dimensionsHeight': 1080, 'dimensionsWidth': 1080, 'displayUrl': 'https://instagram.fkul10-1.fna.fbcdn.net/v/t51.2885-15/277596429_135796435678328_8104310365598160706_n.jpg?stp=dst-jpg_e35_s1080x1080&_nc_ht=instagram.fkul10-1.fna.fbcdn.net&_nc_cat=108&_nc_ohc=ygM_XU5Ie28AX-y9Iom&edm=ABfd0MgBAAAA&ccb=7-4&oh=00_AT91AafDcGF8nNEePiun0XsGryh7JAIYHvn64PNk9wuo-g&oe=624D7D0A&_nc_sid=7bff83', 'images': [], 'alt': 'Photo by Freshly on March 31, 2022. May be an image of food and text.', 'likesCount': None, 'timestamp': None, 'childPosts': [], 'locationName': None, 'locationId': None, 'ownerFullName': None, 'ownerUsername': 'freshly', 'ownerId': '1478278542'}, {'id': '2806227000024779767', 'type': 'Image', 'shortCode': 'CbxuJanlkv3', 'caption': '', 'hashtags': [], 'mentions': [], 'url': 'https://www.instagram.com/p/CbxuJanlkv3/', 'commentsCount': 0, 'firstComment': '', 'latestComments': [], 'dimensionsHeight': 1080, 'dimensionsWidth': 1080, 'displayUrl': 'https://instagram.fkul10-1.fna.fbcdn.net/v/t51.2885-15/277552725_1848191882046043_8386684138083097417_n.jpg?stp=dst-jpg_e35_s1080x1080&_nc_ht=instagram.fkul10-1.fna.fbcdn.net&_nc_cat=107&_nc_ohc=ISo6pJ-0tjAAX-wwdR1&edm=ABfd0MgBAAAA&ccb=7-4&oh=00_AT8iRoSxk97Zy_kp4i-dq9REQQYx2RPSh9HJHmKMhGU1HQ&oe=624C77D8&_nc_sid=7bff83', 'images': [], 'alt': \"Photo by Freshly on March 31, 2022. May be an image of text that says 'Baked panko- crusted pork Savory sweet katsu sauce Sesame-studded basmati rice'.\", 'likesCount': None, 'timestamp': None, 'childPosts': [], 'locationName': None, 'locationId': None, 'ownerFullName': None, 'ownerUsername': 'freshly', 'ownerId': '1478278542'}, {'id': '2806227000108679503', 'type': 'Image', 'shortCode': 'CbxuJasloFP', 'caption': '', 'hashtags': [], 'mentions': [], 'url': 'https://www.instagram.com/p/CbxuJasloFP/', 'commentsCount': 0, 'firstComment': '', 'latestComments': [], 'dimensionsHeight': 1080, 'dimensionsWidth': 1080, 'displayUrl': 'https://instagram.fkul10-1.fna.fbcdn.net/v/t51.2885-15/277700197_116992714126404_8233046701678407597_n.jpg?stp=dst-jpg_e35_s1080x1080&_nc_ht=instagram.fkul10-1.fna.fbcdn.net&_nc_cat=100&_nc_ohc=rCrh7RaQ0qAAX-HTNHv&edm=ABfd0MgBAAAA&ccb=7-4&oh=00_AT-ee9ZDXAnNttaCdKnKdy6oDABYT3Tn-76_fPpp6-M3qA&oe=624CB0E1&_nc_sid=7bff83', 'images': [], 'alt': \"Photo by Freshly on March 31, 2022. May be an image of drink and text that says 'The Perfect Pairing Drink: A velvety Pinot Noir or mango sparkling water Dessert: Fruit cobbler'.\", 'likesCount': None, 'timestamp': None, 'childPosts': [], 'locationName': None, 'locationId': None, 'ownerFullName': None, 'ownerUsername': 'freshly', 'ownerId': '1478278542'}]",
            "count": 1
           },
           {
            "name": "[{'id': '2805433327069412471', 'type': 'Image', 'shortCode': 'Cbu5r9FA7x3', 'caption': '', 'hashtags': [], 'mentions': [], 'url': 'https://www.instagram.com/p/Cbu5r9FA7x3/', 'commentsCount': 0, 'firstComment': '', 'latestComments': [], 'dimensionsHeight': 718, 'dimensionsWidth': 1080, 'displayUrl': 'https://instagram.fkul10-1.fna.fbcdn.net/v/t51.2885-15/277619037_286036666884880_3835160978861956980_n.jpg?stp=dst-jpg_e35_s1080x1080&_nc_ht=instagram.fkul10-1.fna.fbcdn.net&_nc_cat=104&_nc_ohc=Vey0mYivNj0AX9A_Q35&edm=ABfd0MgBAAAA&ccb=7-4&oh=00_AT_AZ2GtB-9humYSzHlXdvJeQ7BEL1cRC9o4toxkKmoUUA&oe=624C87B3&_nc_sid=7bff83', 'images': [], 'alt': 'Photo by Freshly on March 30, 2022. May be an image of food.', 'likesCount': None, 'timestamp': None, 'childPosts': [], 'locationName': None, 'locationId': None, 'ownerFullName': None, 'ownerUsername': 'freshly', 'ownerId': '1478278542'}, {'id': '2805433327136414138', 'type': 'Image', 'shortCode': 'Cbu5r9JAhm6', 'caption': '', 'hashtags': [], 'mentions': [], 'url': 'https://www.instagram.com/p/Cbu5r9JAhm6/', 'commentsCount': 0, 'firstComment': '', 'latestComments': [], 'dimensionsHeight': 718, 'dimensionsWidth': 1080, 'displayUrl': 'https://instagram.fkul10-1.fna.fbcdn.net/v/t51.2885-15/277476830_1600802230291475_4261041305001350464_n.jpg?stp=dst-jpg_e35_s1080x1080&_nc_ht=instagram.fkul10-1.fna.fbcdn.net&_nc_cat=111&_nc_ohc=o2-ChLbxm1QAX8wIvgf&edm=ABfd0MgBAAAA&ccb=7-4&oh=00_AT_j39khV2VDdmmTsvFsqRT1XfuZ_YHYzMxYoZbLRMhVsQ&oe=624C960B&_nc_sid=7bff83', 'images': [], 'alt': 'Photo by Freshly on March 30, 2022. May be an image of food and indoor.', 'likesCount': None, 'timestamp': None, 'childPosts': [], 'locationName': None, 'locationId': None, 'ownerFullName': None, 'ownerUsername': 'freshly', 'ownerId': '1478278542'}, {'id': '2805433327379636632', 'type': 'Image', 'shortCode': 'Cbu5r9XgWGY', 'caption': '', 'hashtags': [], 'mentions': [], 'url': 'https://www.instagram.com/p/Cbu5r9XgWGY/', 'commentsCount': 0, 'firstComment': '', 'latestComments': [], 'dimensionsHeight': 720, 'dimensionsWidth': 1080, 'displayUrl': 'https://instagram.fkul10-1.fna.fbcdn.net/v/t51.2885-15/277474131_116729960964197_1753397551822868533_n.jpg?stp=dst-jpg_e35_s1080x1080&_nc_ht=instagram.fkul10-1.fna.fbcdn.net&_nc_cat=105&_nc_ohc=1NBSKOVmmlEAX920eU6&edm=ABfd0MgBAAAA&ccb=7-4&oh=00_AT_tbonUrnokac0af_bT6hp3JcyvtsqRxbfPn_yld0Cvsg&oe=624DCB19&_nc_sid=7bff83', 'images': [], 'alt': 'Photo by Freshly on March 30, 2022. May be an image of food and indoor.', 'likesCount': None, 'timestamp': None, 'childPosts': [], 'locationName': None, 'locationId': None, 'ownerFullName': None, 'ownerUsername': 'freshly', 'ownerId': '1478278542'}, {'id': '2805433327052641337', 'type': 'Image', 'shortCode': 'Cbu5r9EA9Q5', 'caption': '', 'hashtags': [], 'mentions': [], 'url': 'https://www.instagram.com/p/Cbu5r9EA9Q5/', 'commentsCount': 0, 'firstComment': '', 'latestComments': [], 'dimensionsHeight': 718, 'dimensionsWidth': 1080, 'displayUrl': 'https://instagram.fkul10-1.fna.fbcdn.net/v/t51.2885-15/277615938_135529799007579_6071148533801849046_n.jpg?stp=dst-jpg_e35_s1080x1080&_nc_ht=instagram.fkul10-1.fna.fbcdn.net&_nc_cat=103&_nc_ohc=yaln54-8IywAX-mLhQg&edm=ABfd0MgBAAAA&ccb=7-4&oh=00_AT9tswUu9RiVHTKvGVo7ssEz-pjZIFNbh7F1RsiHzbHLUA&oe=624D17E2&_nc_sid=7bff83', 'images': [], 'alt': 'Photo by Freshly on March 30, 2022. May be an image of food and indoor.', 'likesCount': None, 'timestamp': None, 'childPosts': [], 'locationName': None, 'locationId': None, 'ownerFullName': None, 'ownerUsername': 'freshly', 'ownerId': '1478278542'}, {'id': '2805433327144908130', 'type': 'Image', 'shortCode': 'Cbu5r9Jg7Vi', 'caption': '', 'hashtags': [], 'mentions': [], 'url': 'https://www.instagram.com/p/Cbu5r9Jg7Vi/', 'commentsCount': 0, 'firstComment': '', 'latestComments': [], 'dimensionsHeight': 718, 'dimensionsWidth': 1080, 'displayUrl': 'https://instagram.fkul10-1.fna.fbcdn.net/v/t51.2885-15/277546641_347832180472439_8320917277891613824_n.jpg?stp=dst-jpg_e35_s1080x1080&_nc_ht=instagram.fkul10-1.fna.fbcdn.net&_nc_cat=111&_nc_ohc=LpIAu12FUT0AX-o_DYQ&edm=ABfd0MgBAAAA&ccb=7-4&oh=00_AT_x_PRA8OQ1nqYHClAqQsN9huWvDLS3bUBS1fkdax8IXw&oe=624CB626&_nc_sid=7bff83', 'images': [], 'alt': 'Photo by Freshly on March 30, 2022. May be an image of food.', 'likesCount': None, 'timestamp': None, 'childPosts': [], 'locationName': None, 'locationId': None, 'ownerFullName': None, 'ownerUsername': 'freshly', 'ownerId': '1478278542'}]",
            "count": 1
           }
          ]
         }
        },
        {
         "name": "locationName",
         "dtype": "float64",
         "stats": {
          "unique_count": 0,
          "nan_count": 5,
          "min": null,
          "max": null,
          "histogram": [
           {
            "bin_start": 0,
            "bin_end": 0.1,
            "count": 0
           },
           {
            "bin_start": 0.1,
            "bin_end": 0.2,
            "count": 0
           },
           {
            "bin_start": 0.2,
            "bin_end": 0.30000000000000004,
            "count": 0
           },
           {
            "bin_start": 0.30000000000000004,
            "bin_end": 0.4,
            "count": 0
           },
           {
            "bin_start": 0.4,
            "bin_end": 0.5,
            "count": 0
           },
           {
            "bin_start": 0.5,
            "bin_end": 0.6000000000000001,
            "count": 0
           },
           {
            "bin_start": 0.6000000000000001,
            "bin_end": 0.7000000000000001,
            "count": 0
           },
           {
            "bin_start": 0.7000000000000001,
            "bin_end": 0.8,
            "count": 0
           },
           {
            "bin_start": 0.8,
            "bin_end": 0.9,
            "count": 0
           },
           {
            "bin_start": 0.9,
            "bin_end": 1,
            "count": 0
           }
          ]
         }
        },
        {
         "name": "locationId",
         "dtype": "float64",
         "stats": {
          "unique_count": 0,
          "nan_count": 5,
          "min": null,
          "max": null,
          "histogram": [
           {
            "bin_start": 0,
            "bin_end": 0.1,
            "count": 0
           },
           {
            "bin_start": 0.1,
            "bin_end": 0.2,
            "count": 0
           },
           {
            "bin_start": 0.2,
            "bin_end": 0.30000000000000004,
            "count": 0
           },
           {
            "bin_start": 0.30000000000000004,
            "bin_end": 0.4,
            "count": 0
           },
           {
            "bin_start": 0.4,
            "bin_end": 0.5,
            "count": 0
           },
           {
            "bin_start": 0.5,
            "bin_end": 0.6000000000000001,
            "count": 0
           },
           {
            "bin_start": 0.6000000000000001,
            "bin_end": 0.7000000000000001,
            "count": 0
           },
           {
            "bin_start": 0.7000000000000001,
            "bin_end": 0.8,
            "count": 0
           },
           {
            "bin_start": 0.8,
            "bin_end": 0.9,
            "count": 0
           },
           {
            "bin_start": 0.9,
            "bin_end": 1,
            "count": 0
           }
          ]
         }
        },
        {
         "name": "ownerFullName",
         "dtype": "float64",
         "stats": {
          "unique_count": 0,
          "nan_count": 5,
          "min": null,
          "max": null,
          "histogram": [
           {
            "bin_start": 0,
            "bin_end": 0.1,
            "count": 0
           },
           {
            "bin_start": 0.1,
            "bin_end": 0.2,
            "count": 0
           },
           {
            "bin_start": 0.2,
            "bin_end": 0.30000000000000004,
            "count": 0
           },
           {
            "bin_start": 0.30000000000000004,
            "bin_end": 0.4,
            "count": 0
           },
           {
            "bin_start": 0.4,
            "bin_end": 0.5,
            "count": 0
           },
           {
            "bin_start": 0.5,
            "bin_end": 0.6000000000000001,
            "count": 0
           },
           {
            "bin_start": 0.6000000000000001,
            "bin_end": 0.7000000000000001,
            "count": 0
           },
           {
            "bin_start": 0.7000000000000001,
            "bin_end": 0.8,
            "count": 0
           },
           {
            "bin_start": 0.8,
            "bin_end": 0.9,
            "count": 0
           },
           {
            "bin_start": 0.9,
            "bin_end": 1,
            "count": 0
           }
          ]
         }
        },
        {
         "name": "ownerUsername",
         "dtype": "object",
         "stats": {
          "unique_count": 1,
          "nan_count": 0,
          "categories": [
           {
            "name": "freshly",
            "count": 5
           }
          ]
         }
        },
        {
         "name": "ownerId",
         "dtype": "int64",
         "stats": {
          "unique_count": 1,
          "nan_count": 0,
          "min": "1478278542",
          "max": "1478278542",
          "histogram": [
           {
            "bin_start": 1478278541.5,
            "bin_end": 1478278541.6,
            "count": 0
           },
           {
            "bin_start": 1478278541.6,
            "bin_end": 1478278541.7,
            "count": 0
           },
           {
            "bin_start": 1478278541.7,
            "bin_end": 1478278541.8,
            "count": 0
           },
           {
            "bin_start": 1478278541.8,
            "bin_end": 1478278541.9,
            "count": 0
           },
           {
            "bin_start": 1478278541.9,
            "bin_end": 1478278542,
            "count": 0
           },
           {
            "bin_start": 1478278542,
            "bin_end": 1478278542.1,
            "count": 5
           },
           {
            "bin_start": 1478278542.1,
            "bin_end": 1478278542.2,
            "count": 0
           },
           {
            "bin_start": 1478278542.2,
            "bin_end": 1478278542.3,
            "count": 0
           },
           {
            "bin_start": 1478278542.3,
            "bin_end": 1478278542.4,
            "count": 0
           },
           {
            "bin_start": 1478278542.4,
            "bin_end": 1478278542.5,
            "count": 0
           }
          ]
         }
        },
        {
         "name": "videoUrl",
         "dtype": "object",
         "stats": {
          "unique_count": 1,
          "nan_count": 4,
          "categories": [
           {
            "name": "https://instagram.fkul10-1.fna.fbcdn.net/v/t50.2886-16/277697890_3358720404355356_346425622049357873_n.mp4?_nc_ht=instagram.fkul10-1.fna.fbcdn.net&_nc_cat=100&_nc_ohc=q35s2zGot_AAX_tyEJf&edm=ABfd0MgBAAAA&ccb=7-4&oe=6248BFCF&oh=00_AT9zV0eNNUWwxMr0mMrY3n1RI8OHaQTDGhoZMX-ju8UEcg&_nc_sid=7bff83",
            "count": 1
           },
           {
            "name": "Missing",
            "count": 4
           }
          ]
         }
        },
        {
         "name": "videoViewCount",
         "dtype": "float64",
         "stats": {
          "unique_count": 1,
          "nan_count": 4,
          "min": "990.0",
          "max": "990.0",
          "histogram": [
           {
            "bin_start": 989.5,
            "bin_end": 989.6,
            "count": 0
           },
           {
            "bin_start": 989.6,
            "bin_end": 989.7,
            "count": 0
           },
           {
            "bin_start": 989.7,
            "bin_end": 989.8,
            "count": 0
           },
           {
            "bin_start": 989.8,
            "bin_end": 989.9,
            "count": 0
           },
           {
            "bin_start": 989.9,
            "bin_end": 990,
            "count": 0
           },
           {
            "bin_start": 990,
            "bin_end": 990.1,
            "count": 1
           },
           {
            "bin_start": 990.1,
            "bin_end": 990.2,
            "count": 0
           },
           {
            "bin_start": 990.2,
            "bin_end": 990.3,
            "count": 0
           },
           {
            "bin_start": 990.3,
            "bin_end": 990.4,
            "count": 0
           },
           {
            "bin_start": 990.4,
            "bin_end": 990.5,
            "count": 0
           }
          ]
         }
        },
        {
         "name": "productType",
         "dtype": "object",
         "stats": {
          "unique_count": 1,
          "nan_count": 4,
          "categories": [
           {
            "name": "clips",
            "count": 1
           },
           {
            "name": "Missing",
            "count": 4
           }
          ]
         }
        },
        {
         "name": "_deepnote_index_column",
         "dtype": "int64"
        }
       ],
       "rows": [
        {
         "queryUsername": "freshly",
         "position": 1,
         "id": 2806227003505907000,
         "type": "Sidecar",
         "shortCode": "CbxuJd3FBWd",
         "caption": "Bring out the confetti, a new meal just dropped!\n\n🎊 Super savory and sweet katsu sauce\n🎊 Veggie packed basmati rice\n🎊 28g of protein to keep you full\n\nThis perfectly baked panko crusted pork will be your new go-to comfort food!",
         "hashtags": "[]",
         "mentions": "[]",
         "url": "https://www.instagram.com/p/CbxuJd3FBWd/",
         "commentsCount": 2,
         "firstComment": "",
         "latestComments": "[]",
         "dimensionsHeight": 1080,
         "dimensionsWidth": 1080,
         "displayUrl": "https://instagram.fkul10-1.fna.fbcdn.net/v/t51.2885-15/277550469_1176016839893820_2939772455828097383_n.jpg?stp=dst-jpg_e35_s1080x1080&_nc_ht=instagram.fkul10-1.fna.fbcdn.net&_nc_cat=100&_nc_ohc=bXsf8-dEiFcAX_GVyQv&edm=ABfd0MgBAAAA&ccb=7-4&oh=00_AT_7mgd1Etkoz8BMSSAYRDAOGXJXyPIGgJhD4IPtlkRWCA&oe=624C3FD4&_nc_sid=7bff83",
         "images": "['https://instagram.fkul10-1.fna.fbcdn.net/v/t51.2885-15/277550469_1176016839893820_2939772455828097383_n.jpg?stp=dst-jpg_e35_s1080x1080&_nc_ht=instagram.fkul10-1.fna.fbcdn.net&_nc_cat=100&_nc_ohc=bXsf8-dEiFcAX_GVyQv&edm=ABfd0MgBAAAA&ccb=7-4&oh=00_AT_7mgd1Etkoz8BMSSAYRDAOGXJXyPIGgJhD4IPtlkRWCA&oe=624C3FD4&_nc_sid=7bff83', 'https://instagram.fkul10-1.fna.fbcdn.net/v/t51.2885-15/277596429_135796435678328_8104310365598160706_n.jpg?stp=dst-jpg_e35_s1080x1080&_nc_ht=instagram.fkul10-1.fna.fbcdn.net&_nc_cat=108&_nc_ohc=ygM_XU5Ie28AX-y9Iom&edm=ABfd0MgBAAAA&ccb=7-4&oh=00_AT91AafDcGF8nNEePiun0XsGryh7JAIYHvn64PNk9wuo-g&oe=624D7D0A&_nc_sid=7bff83', 'https://instagram.fkul10-1.fna.fbcdn.net/v/t51.2885-15/277552725_1848191882046043_8386684138083097417_n.jpg?stp=dst-jpg_e35_s1080x1080&_nc_ht=instagram.fkul10-1.fna.fbcdn.net&_nc_cat=107&_nc_ohc=ISo6pJ-0tjAAX-wwdR1&edm=ABfd0MgBAAAA&ccb=7-4&oh=00_AT8iRoSxk97Zy_kp4i-dq9REQQYx2RPSh9HJHmKMhGU1HQ&oe=624C77D8&_nc_sid=7bff83', 'https://instagram.fkul10-1.fn…",
         "alt": "Photo by Freshly on March 31, 2022. May be an image of food and text that says 'Japanese-Style Pork Katsu with Katsu Sauce & Confetti Rice'.",
         "likesCount": 34,
         "timestamp": "2022-03-31T17:39:09.000000",
         "childPosts": "[{'id': '2806226999999496942', 'type': 'Image', 'shortCode': 'CbxuJamFILu', 'caption': '', 'hashtags': [], 'mentions': [], 'url': 'https://www.instagram.com/p/CbxuJamFILu/', 'commentsCount': 0, 'firstComment': '', 'latestComments': [], 'dimensionsHeight': 1080, 'dimensionsWidth': 1080, 'displayUrl': 'https://instagram.fkul10-1.fna.fbcdn.net/v/t51.2885-15/277550469_1176016839893820_2939772455828097383_n.jpg?stp=dst-jpg_e35_s1080x1080&_nc_ht=instagram.fkul10-1.fna.fbcdn.net&_nc_cat=100&_nc_ohc=bXsf8-dEiFcAX_GVyQv&edm=ABfd0MgBAAAA&ccb=7-4&oh=00_AT_7mgd1Etkoz8BMSSAYRDAOGXJXyPIGgJhD4IPtlkRWCA&oe=624C3FD4&_nc_sid=7bff83', 'images': [], 'alt': \"Photo by Freshly on March 31, 2022. May be an image of food and text that says 'Japanese-Style Pork Katsu with Katsu Sauce & Confetti Rice'.\", 'likesCount': None, 'timestamp': None, 'childPosts': [], 'locationName': None, 'locationId': None, 'ownerFullName': None, 'ownerUsername': 'freshly', 'ownerId': '1478278542'}, {'id': '2806227000016270213', 'typ…",
         "locationName": "nan",
         "locationId": "nan",
         "ownerFullName": "nan",
         "ownerUsername": "freshly",
         "ownerId": 1478278542,
         "videoUrl": "nan",
         "videoViewCount": "nan",
         "productType": "nan",
         "_deepnote_index_column": 0
        },
        {
         "queryUsername": "freshly",
         "position": 2,
         "id": 2805483219601579500,
         "type": "Video",
         "shortCode": "CbvFB_Hq97e",
         "caption": "Spring Produce Guide 🛒",
         "hashtags": "[]",
         "mentions": "[]",
         "url": "https://www.instagram.com/p/CbvFB_Hq97e/",
         "commentsCount": 1,
         "firstComment": "",
         "latestComments": "[]",
         "dimensionsHeight": 1920,
         "dimensionsWidth": 1080,
         "displayUrl": "https://instagram.fkul10-1.fna.fbcdn.net/v/t51.2885-15/277452248_947765979237244_8748339227002893892_n.jpg?stp=dst-jpg_e35_p1080x1080_sh0.08&_nc_ht=instagram.fkul10-1.fna.fbcdn.net&_nc_cat=104&_nc_ohc=0LVqIjVAwXYAX9O_MQs&edm=ABfd0MgBAAAA&ccb=7-4&oh=00_AT-1NyQq9hKGPi30CGXciuEC6E6qbm9sWMrSwrPfZxRQPQ&oe=6248B1F4&_nc_sid=7bff83",
         "images": "[]",
         "alt": "None",
         "likesCount": 23,
         "timestamp": "2022-03-30T17:01:45.000000",
         "childPosts": "[]",
         "locationName": "nan",
         "locationId": "nan",
         "ownerFullName": "nan",
         "ownerUsername": "freshly",
         "ownerId": 1478278542,
         "videoUrl": "https://instagram.fkul10-1.fna.fbcdn.net/v/t50.2886-16/277697890_3358720404355356_346425622049357873_n.mp4?_nc_ht=instagram.fkul10-1.fna.fbcdn.net&_nc_cat=100&_nc_ohc=q35s2zGot_AAX_tyEJf&edm=ABfd0MgBAAAA&ccb=7-4&oe=6248BFCF&oh=00_AT9zV0eNNUWwxMr0mMrY3n1RI8OHaQTDGhoZMX-ju8UEcg&_nc_sid=7bff83",
         "videoViewCount": 990,
         "productType": "clips",
         "_deepnote_index_column": 1
        },
        {
         "queryUsername": "freshly",
         "position": 3,
         "id": 2805433332194830000,
         "type": "Sidecar",
         "shortCode": "Cbu5sB2g2Zj",
         "caption": "The list is in! Based on our customer ratings, here are this month's favorite meals! Did your go-to meal make it in the top 5?\n\n🏆  Chicken & Spring Pea Risotto\n🔅  BBQ Bison Burger\n🔅  Sausage Baked Penne\n🔅  Hearty Chipotle-Chicken Stew\n🔅  Bistro French Onion Chicken\n\nLink in bio to browse our menu and newest additions!",
         "hashtags": "[]",
         "mentions": "[]",
         "url": "https://www.instagram.com/p/Cbu5sB2g2Zj/",
         "commentsCount": 6,
         "firstComment": "",
         "latestComments": "[]",
         "dimensionsHeight": 718,
         "dimensionsWidth": 1080,
         "displayUrl": "https://instagram.fkul10-1.fna.fbcdn.net/v/t51.2885-15/277619037_286036666884880_3835160978861956980_n.jpg?stp=dst-jpg_e35_s1080x1080&_nc_ht=instagram.fkul10-1.fna.fbcdn.net&_nc_cat=104&_nc_ohc=Vey0mYivNj0AX9A_Q35&edm=ABfd0MgBAAAA&ccb=7-4&oh=00_AT_AZ2GtB-9humYSzHlXdvJeQ7BEL1cRC9o4toxkKmoUUA&oe=624C87B3&_nc_sid=7bff83",
         "images": "['https://instagram.fkul10-1.fna.fbcdn.net/v/t51.2885-15/277619037_286036666884880_3835160978861956980_n.jpg?stp=dst-jpg_e35_s1080x1080&_nc_ht=instagram.fkul10-1.fna.fbcdn.net&_nc_cat=104&_nc_ohc=Vey0mYivNj0AX9A_Q35&edm=ABfd0MgBAAAA&ccb=7-4&oh=00_AT_AZ2GtB-9humYSzHlXdvJeQ7BEL1cRC9o4toxkKmoUUA&oe=624C87B3&_nc_sid=7bff83', 'https://instagram.fkul10-1.fna.fbcdn.net/v/t51.2885-15/277476830_1600802230291475_4261041305001350464_n.jpg?stp=dst-jpg_e35_s1080x1080&_nc_ht=instagram.fkul10-1.fna.fbcdn.net&_nc_cat=111&_nc_ohc=o2-ChLbxm1QAX8wIvgf&edm=ABfd0MgBAAAA&ccb=7-4&oh=00_AT_j39khV2VDdmmTsvFsqRT1XfuZ_YHYzMxYoZbLRMhVsQ&oe=624C960B&_nc_sid=7bff83', 'https://instagram.fkul10-1.fna.fbcdn.net/v/t51.2885-15/277474131_116729960964197_1753397551822868533_n.jpg?stp=dst-jpg_e35_s1080x1080&_nc_ht=instagram.fkul10-1.fna.fbcdn.net&_nc_cat=105&_nc_ohc=1NBSKOVmmlEAX920eU6&edm=ABfd0MgBAAAA&ccb=7-4&oh=00_AT_tbonUrnokac0af_bT6hp3JcyvtsqRxbfPn_yld0Cvsg&oe=624DCB19&_nc_sid=7bff83', 'https://instagram.fkul10-1.fna…",
         "alt": "Photo by Freshly on March 30, 2022. May be an image of food.",
         "likesCount": 45,
         "timestamp": "2022-03-30T15:22:16.000000",
         "childPosts": "[{'id': '2805433327069412471', 'type': 'Image', 'shortCode': 'Cbu5r9FA7x3', 'caption': '', 'hashtags': [], 'mentions': [], 'url': 'https://www.instagram.com/p/Cbu5r9FA7x3/', 'commentsCount': 0, 'firstComment': '', 'latestComments': [], 'dimensionsHeight': 718, 'dimensionsWidth': 1080, 'displayUrl': 'https://instagram.fkul10-1.fna.fbcdn.net/v/t51.2885-15/277619037_286036666884880_3835160978861956980_n.jpg?stp=dst-jpg_e35_s1080x1080&_nc_ht=instagram.fkul10-1.fna.fbcdn.net&_nc_cat=104&_nc_ohc=Vey0mYivNj0AX9A_Q35&edm=ABfd0MgBAAAA&ccb=7-4&oh=00_AT_AZ2GtB-9humYSzHlXdvJeQ7BEL1cRC9o4toxkKmoUUA&oe=624C87B3&_nc_sid=7bff83', 'images': [], 'alt': 'Photo by Freshly on March 30, 2022. May be an image of food.', 'likesCount': None, 'timestamp': None, 'childPosts': [], 'locationName': None, 'locationId': None, 'ownerFullName': None, 'ownerUsername': 'freshly', 'ownerId': '1478278542'}, {'id': '2805433327136414138', 'type': 'Image', 'shortCode': 'Cbu5r9JAhm6', 'caption': '', 'hashtags': [], 'mentions'…",
         "locationName": "nan",
         "locationId": "nan",
         "ownerFullName": "nan",
         "ownerUsername": "freshly",
         "ownerId": 1478278542,
         "videoUrl": "nan",
         "videoViewCount": "nan",
         "productType": "nan",
         "_deepnote_index_column": 2
        },
        {
         "queryUsername": "freshly",
         "position": 4,
         "id": 2804772895831984600,
         "type": "Image",
         "shortCode": "CbsjhajtYrq",
         "caption": "\"Freshly completely eliminates the hassle of cooking for lunch with convenient meals. They are chef-cooked meals delivered straight to our door that arrive fresh, not frozen.\"\n\n📸: @cameronandtia",
         "hashtags": "[]",
         "mentions": "['cameronandtia']",
         "url": "https://www.instagram.com/p/CbsjhajtYrq/",
         "commentsCount": 0,
         "firstComment": "",
         "latestComments": "[]",
         "dimensionsHeight": 1350,
         "dimensionsWidth": 1080,
         "displayUrl": "https://instagram.fkul10-1.fna.fbcdn.net/v/t51.2885-15/277573349_389893962627671_1604158333599353786_n.jpg?stp=dst-jpg_e35_p1080x1080&_nc_ht=instagram.fkul10-1.fna.fbcdn.net&_nc_cat=111&_nc_ohc=WiRy7fXtvZoAX-mkZ45&edm=ABfd0MgBAAAA&ccb=7-4&oh=00_AT-g4MEi_dnONVz_22rycV3g1y9SAQ_bIORXZz6qegRmoQ&oe=624D2FE4&_nc_sid=7bff83",
         "images": "[]",
         "alt": "Photo by Freshly on March 29, 2022. May be an image of 1 person, food, indoor and text that says 'Carb Swap Cauli- Cauli-Sausage Bake - a Homestyle Chicken G 2 Citrus-Kissed Kissed OrangeChicken Orange Chicken む Tlwer Rutabaga Rutabaga_Alla Alla Vodka Sausage Baked BakedPenne Penne Cheeses Oven-Baked Oven- Baked Chicken Florenting'.",
         "likesCount": 103,
         "timestamp": "2022-03-29T17:30:08.000000",
         "childPosts": "[]",
         "locationName": "nan",
         "locationId": "nan",
         "ownerFullName": "nan",
         "ownerUsername": "freshly",
         "ownerId": 1478278542,
         "videoUrl": "nan",
         "videoViewCount": "nan",
         "productType": "nan",
         "_deepnote_index_column": 3
        },
        {
         "queryUsername": "freshly",
         "position": 5,
         "id": 2803989551876644400,
         "type": "Image",
         "shortCode": "CbpxaQpg53-",
         "caption": "Are you in a work from home rut? 🏠 💻 Start trying to implement these tips next week! \n\n1️⃣ Make time for lunch away from your desk\n2️⃣ Get up and stretch and hydrate\n3️⃣ Clean up and organize your workspace at the end of the week\n4️⃣ Work & life balance is so important! Set a time to \"clock out\" and close your computer\n\n#freshly #wfh #homeoffice #selfcare #tips",
         "hashtags": "['freshly', 'wfh', 'homeoffice', 'selfcare', 'tips']",
         "mentions": "[]",
         "url": "https://www.instagram.com/p/CbpxaQpg53-/",
         "commentsCount": 12,
         "firstComment": "",
         "latestComments": "[]",
         "dimensionsHeight": 1350,
         "dimensionsWidth": 1080,
         "displayUrl": "https://instagram.fkul10-1.fna.fbcdn.net/v/t51.2885-15/277405046_1128974854622860_6095093485756139277_n.jpg?stp=dst-jpg_e35_p1080x1080&_nc_ht=instagram.fkul10-1.fna.fbcdn.net&_nc_cat=104&_nc_ohc=MvR1tRFwLi8AX9qmLmh&edm=ABfd0MgBAAAA&ccb=7-4&oh=00_AT8iHsATJjWmbbS9DCKuVLjJXUJGFQudD50luW49WV_Wnw&oe=624C6AA4&_nc_sid=7bff83",
         "images": "[]",
         "alt": "Photo by Freshly on March 28, 2022. May be an image of food and indoor.",
         "likesCount": 51,
         "timestamp": "2022-03-28T15:33:44.000000",
         "childPosts": "[]",
         "locationName": "nan",
         "locationId": "nan",
         "ownerFullName": "nan",
         "ownerUsername": "freshly",
         "ownerId": 1478278542,
         "videoUrl": "nan",
         "videoViewCount": "nan",
         "productType": "nan",
         "_deepnote_index_column": 4
        }
       ]
      },
      "text/plain": "  queryUsername  position                   id     type    shortCode  \\\n0       freshly         1  2806227003505907200  Sidecar  CbxuJd3FBWd   \n1       freshly         2  2805483219601579520    Video  CbvFB_Hq97e   \n2       freshly         3  2805433332194829824  Sidecar  Cbu5sB2g2Zj   \n3       freshly         4  2804772895831984640    Image  CbsjhajtYrq   \n4       freshly         5  2803989551876644352    Image  CbpxaQpg53-   \n\n                                             caption  \\\n0  Bring out the confetti, a new meal just droppe...   \n1                             Spring Produce Guide 🛒   \n2  The list is in! Based on our customer ratings,...   \n3  \"Freshly completely eliminates the hassle of c...   \n4  Are you in a work from home rut? 🏠 💻 Start try...   \n\n                                     hashtags         mentions  \\\n0                                          []               []   \n1                                          []               []   \n2                                          []               []   \n3                                          []  [cameronandtia]   \n4  [freshly, wfh, homeoffice, selfcare, tips]               []   \n\n                                        url  commentsCount  ...  \\\n0  https://www.instagram.com/p/CbxuJd3FBWd/              2  ...   \n1  https://www.instagram.com/p/CbvFB_Hq97e/              1  ...   \n2  https://www.instagram.com/p/Cbu5sB2g2Zj/              6  ...   \n3  https://www.instagram.com/p/CbsjhajtYrq/              0  ...   \n4  https://www.instagram.com/p/CbpxaQpg53-/             12  ...   \n\n                  timestamp  \\\n0 2022-03-31 17:39:09+00:00   \n1 2022-03-30 17:01:45+00:00   \n2 2022-03-30 15:22:16+00:00   \n3 2022-03-29 17:30:08+00:00   \n4 2022-03-28 15:33:44+00:00   \n\n                                          childPosts  locationName  \\\n0  [{'id': '2806226999999496942', 'type': 'Image'...           NaN   \n1                                                 []           NaN   \n2  [{'id': '2805433327069412471', 'type': 'Image'...           NaN   \n3                                                 []           NaN   \n4                                                 []           NaN   \n\n   locationId ownerFullName ownerUsername     ownerId  \\\n0         NaN           NaN       freshly  1478278542   \n1         NaN           NaN       freshly  1478278542   \n2         NaN           NaN       freshly  1478278542   \n3         NaN           NaN       freshly  1478278542   \n4         NaN           NaN       freshly  1478278542   \n\n                                            videoUrl videoViewCount  \\\n0                                                NaN            NaN   \n1  https://instagram.fkul10-1.fna.fbcdn.net/v/t50...          990.0   \n2                                                NaN            NaN   \n3                                                NaN            NaN   \n4                                                NaN            NaN   \n\n  productType  \n0         NaN  \n1       clips  \n2         NaN  \n3         NaN  \n4         NaN  \n\n[5 rows x 28 columns]",
      "text/html": "<div>\n<style scoped>\n    .dataframe tbody tr th:only-of-type {\n        vertical-align: middle;\n    }\n\n    .dataframe tbody tr th {\n        vertical-align: top;\n    }\n\n    .dataframe thead th {\n        text-align: right;\n    }\n</style>\n<table border=\"1\" class=\"dataframe\">\n  <thead>\n    <tr style=\"text-align: right;\">\n      <th></th>\n      <th>queryUsername</th>\n      <th>position</th>\n      <th>id</th>\n      <th>type</th>\n      <th>shortCode</th>\n      <th>caption</th>\n      <th>hashtags</th>\n      <th>mentions</th>\n      <th>url</th>\n      <th>commentsCount</th>\n      <th>...</th>\n      <th>timestamp</th>\n      <th>childPosts</th>\n      <th>locationName</th>\n      <th>locationId</th>\n      <th>ownerFullName</th>\n      <th>ownerUsername</th>\n      <th>ownerId</th>\n      <th>videoUrl</th>\n      <th>videoViewCount</th>\n      <th>productType</th>\n    </tr>\n  </thead>\n  <tbody>\n    <tr>\n      <th>0</th>\n      <td>freshly</td>\n      <td>1</td>\n      <td>2806227003505907200</td>\n      <td>Sidecar</td>\n      <td>CbxuJd3FBWd</td>\n      <td>Bring out the confetti, a new meal just droppe...</td>\n      <td>[]</td>\n      <td>[]</td>\n      <td>https://www.instagram.com/p/CbxuJd3FBWd/</td>\n      <td>2</td>\n      <td>...</td>\n      <td>2022-03-31 17:39:09+00:00</td>\n      <td>[{'id': '2806226999999496942', 'type': 'Image'...</td>\n      <td>NaN</td>\n      <td>NaN</td>\n      <td>NaN</td>\n      <td>freshly</td>\n      <td>1478278542</td>\n      <td>NaN</td>\n      <td>NaN</td>\n      <td>NaN</td>\n    </tr>\n    <tr>\n      <th>1</th>\n      <td>freshly</td>\n      <td>2</td>\n      <td>2805483219601579520</td>\n      <td>Video</td>\n      <td>CbvFB_Hq97e</td>\n      <td>Spring Produce Guide 🛒</td>\n      <td>[]</td>\n      <td>[]</td>\n      <td>https://www.instagram.com/p/CbvFB_Hq97e/</td>\n      <td>1</td>\n      <td>...</td>\n      <td>2022-03-30 17:01:45+00:00</td>\n      <td>[]</td>\n      <td>NaN</td>\n      <td>NaN</td>\n      <td>NaN</td>\n      <td>freshly</td>\n      <td>1478278542</td>\n      <td>https://instagram.fkul10-1.fna.fbcdn.net/v/t50...</td>\n      <td>990.0</td>\n      <td>clips</td>\n    </tr>\n    <tr>\n      <th>2</th>\n      <td>freshly</td>\n      <td>3</td>\n      <td>2805433332194829824</td>\n      <td>Sidecar</td>\n      <td>Cbu5sB2g2Zj</td>\n      <td>The list is in! Based on our customer ratings,...</td>\n      <td>[]</td>\n      <td>[]</td>\n      <td>https://www.instagram.com/p/Cbu5sB2g2Zj/</td>\n      <td>6</td>\n      <td>...</td>\n      <td>2022-03-30 15:22:16+00:00</td>\n      <td>[{'id': '2805433327069412471', 'type': 'Image'...</td>\n      <td>NaN</td>\n      <td>NaN</td>\n      <td>NaN</td>\n      <td>freshly</td>\n      <td>1478278542</td>\n      <td>NaN</td>\n      <td>NaN</td>\n      <td>NaN</td>\n    </tr>\n    <tr>\n      <th>3</th>\n      <td>freshly</td>\n      <td>4</td>\n      <td>2804772895831984640</td>\n      <td>Image</td>\n      <td>CbsjhajtYrq</td>\n      <td>\"Freshly completely eliminates the hassle of c...</td>\n      <td>[]</td>\n      <td>[cameronandtia]</td>\n      <td>https://www.instagram.com/p/CbsjhajtYrq/</td>\n      <td>0</td>\n      <td>...</td>\n      <td>2022-03-29 17:30:08+00:00</td>\n      <td>[]</td>\n      <td>NaN</td>\n      <td>NaN</td>\n      <td>NaN</td>\n      <td>freshly</td>\n      <td>1478278542</td>\n      <td>NaN</td>\n      <td>NaN</td>\n      <td>NaN</td>\n    </tr>\n    <tr>\n      <th>4</th>\n      <td>freshly</td>\n      <td>5</td>\n      <td>2803989551876644352</td>\n      <td>Image</td>\n      <td>CbpxaQpg53-</td>\n      <td>Are you in a work from home rut? 🏠 💻 Start try...</td>\n      <td>[freshly, wfh, homeoffice, selfcare, tips]</td>\n      <td>[]</td>\n      <td>https://www.instagram.com/p/CbpxaQpg53-/</td>\n      <td>12</td>\n      <td>...</td>\n      <td>2022-03-28 15:33:44+00:00</td>\n      <td>[]</td>\n      <td>NaN</td>\n      <td>NaN</td>\n      <td>NaN</td>\n      <td>freshly</td>\n      <td>1478278542</td>\n      <td>NaN</td>\n      <td>NaN</td>\n      <td>NaN</td>\n    </tr>\n  </tbody>\n</table>\n<p>5 rows × 28 columns</p>\n</div>"
     },
     "metadata": {}
    }
   ]
  },
  {
   "cell_type": "code",
   "metadata": {
    "tags": [],
    "deepnote_to_be_reexecuted": false,
    "source_hash": "3d6b8a3d",
    "execution_start": 1651441490843,
    "execution_millis": 11,
    "cell_id": "00018-02825f8b-2b7d-4288-b21d-e3037606046c",
    "deepnote_cell_type": "code",
    "deepnote_cell_height": 413
   },
   "source": "posts_df = df[['likesCount', 'commentsCount', 'timestamp']]\nposts_df.head()",
   "execution_count": null,
   "outputs": [
    {
     "output_type": "execute_result",
     "execution_count": 9,
     "data": {
      "application/vnd.deepnote.dataframe.v3+json": {
       "column_count": 3,
       "row_count": 5,
       "columns": [
        {
         "name": "likesCount",
         "dtype": "int64",
         "stats": {
          "unique_count": 5,
          "nan_count": 0,
          "min": "23",
          "max": "103",
          "histogram": [
           {
            "bin_start": 23,
            "bin_end": 31,
            "count": 1
           },
           {
            "bin_start": 31,
            "bin_end": 39,
            "count": 1
           },
           {
            "bin_start": 39,
            "bin_end": 47,
            "count": 1
           },
           {
            "bin_start": 47,
            "bin_end": 55,
            "count": 1
           },
           {
            "bin_start": 55,
            "bin_end": 63,
            "count": 0
           },
           {
            "bin_start": 63,
            "bin_end": 71,
            "count": 0
           },
           {
            "bin_start": 71,
            "bin_end": 79,
            "count": 0
           },
           {
            "bin_start": 79,
            "bin_end": 87,
            "count": 0
           },
           {
            "bin_start": 87,
            "bin_end": 95,
            "count": 0
           },
           {
            "bin_start": 95,
            "bin_end": 103,
            "count": 1
           }
          ]
         }
        },
        {
         "name": "commentsCount",
         "dtype": "int64",
         "stats": {
          "unique_count": 5,
          "nan_count": 0,
          "min": "0",
          "max": "12",
          "histogram": [
           {
            "bin_start": 0,
            "bin_end": 1.2,
            "count": 2
           },
           {
            "bin_start": 1.2,
            "bin_end": 2.4,
            "count": 1
           },
           {
            "bin_start": 2.4,
            "bin_end": 3.5999999999999996,
            "count": 0
           },
           {
            "bin_start": 3.5999999999999996,
            "bin_end": 4.8,
            "count": 0
           },
           {
            "bin_start": 4.8,
            "bin_end": 6,
            "count": 0
           },
           {
            "bin_start": 6,
            "bin_end": 7.199999999999999,
            "count": 1
           },
           {
            "bin_start": 7.199999999999999,
            "bin_end": 8.4,
            "count": 0
           },
           {
            "bin_start": 8.4,
            "bin_end": 9.6,
            "count": 0
           },
           {
            "bin_start": 9.6,
            "bin_end": 10.799999999999999,
            "count": 0
           },
           {
            "bin_start": 10.799999999999999,
            "bin_end": 12,
            "count": 1
           }
          ]
         }
        },
        {
         "name": "timestamp",
         "dtype": "datetime64[ns, UTC]",
         "stats": {
          "unique_count": 5,
          "nan_count": 0,
          "min": "2022-03-28 15:33:44+00:00",
          "max": "2022-03-31 17:39:09+00:00",
          "histogram": [
           {
            "bin_start": 1648481624000000000,
            "bin_end": 1648508296500000000,
            "count": 1
           },
           {
            "bin_start": 1648508296500000000,
            "bin_end": 1648534969000000000,
            "count": 0
           },
           {
            "bin_start": 1648534969000000000,
            "bin_end": 1648561641500000000,
            "count": 0
           },
           {
            "bin_start": 1648561641500000000,
            "bin_end": 1648588314000000000,
            "count": 1
           },
           {
            "bin_start": 1648588314000000000,
            "bin_end": 1648614986500000000,
            "count": 0
           },
           {
            "bin_start": 1648614986500000000,
            "bin_end": 1648641659000000000,
            "count": 0
           },
           {
            "bin_start": 1648641659000000000,
            "bin_end": 1648668331500000000,
            "count": 2
           },
           {
            "bin_start": 1648668331500000000,
            "bin_end": 1648695004000000000,
            "count": 0
           },
           {
            "bin_start": 1648695004000000000,
            "bin_end": 1648721676500000000,
            "count": 0
           },
           {
            "bin_start": 1648721676500000000,
            "bin_end": 1648748349000000000,
            "count": 1
           }
          ]
         }
        },
        {
         "name": "_deepnote_index_column",
         "dtype": "int64"
        }
       ],
       "rows": [
        {
         "likesCount": 34,
         "commentsCount": 2,
         "timestamp": "2022-03-31T17:39:09.000000",
         "_deepnote_index_column": 0
        },
        {
         "likesCount": 23,
         "commentsCount": 1,
         "timestamp": "2022-03-30T17:01:45.000000",
         "_deepnote_index_column": 1
        },
        {
         "likesCount": 45,
         "commentsCount": 6,
         "timestamp": "2022-03-30T15:22:16.000000",
         "_deepnote_index_column": 2
        },
        {
         "likesCount": 103,
         "commentsCount": 0,
         "timestamp": "2022-03-29T17:30:08.000000",
         "_deepnote_index_column": 3
        },
        {
         "likesCount": 51,
         "commentsCount": 12,
         "timestamp": "2022-03-28T15:33:44.000000",
         "_deepnote_index_column": 4
        }
       ]
      },
      "text/plain": "   likesCount  commentsCount                 timestamp\n0          34              2 2022-03-31 17:39:09+00:00\n1          23              1 2022-03-30 17:01:45+00:00\n2          45              6 2022-03-30 15:22:16+00:00\n3         103              0 2022-03-29 17:30:08+00:00\n4          51             12 2022-03-28 15:33:44+00:00",
      "text/html": "<div>\n<style scoped>\n    .dataframe tbody tr th:only-of-type {\n        vertical-align: middle;\n    }\n\n    .dataframe tbody tr th {\n        vertical-align: top;\n    }\n\n    .dataframe thead th {\n        text-align: right;\n    }\n</style>\n<table border=\"1\" class=\"dataframe\">\n  <thead>\n    <tr style=\"text-align: right;\">\n      <th></th>\n      <th>likesCount</th>\n      <th>commentsCount</th>\n      <th>timestamp</th>\n    </tr>\n  </thead>\n  <tbody>\n    <tr>\n      <th>0</th>\n      <td>34</td>\n      <td>2</td>\n      <td>2022-03-31 17:39:09+00:00</td>\n    </tr>\n    <tr>\n      <th>1</th>\n      <td>23</td>\n      <td>1</td>\n      <td>2022-03-30 17:01:45+00:00</td>\n    </tr>\n    <tr>\n      <th>2</th>\n      <td>45</td>\n      <td>6</td>\n      <td>2022-03-30 15:22:16+00:00</td>\n    </tr>\n    <tr>\n      <th>3</th>\n      <td>103</td>\n      <td>0</td>\n      <td>2022-03-29 17:30:08+00:00</td>\n    </tr>\n    <tr>\n      <th>4</th>\n      <td>51</td>\n      <td>12</td>\n      <td>2022-03-28 15:33:44+00:00</td>\n    </tr>\n  </tbody>\n</table>\n</div>"
     },
     "metadata": {}
    }
   ]
  },
  {
   "cell_type": "code",
   "metadata": {
    "tags": [],
    "deepnote_to_be_reexecuted": false,
    "source_hash": "1b49872d",
    "execution_start": 1651441490853,
    "execution_millis": 60,
    "deepnote_table_state": {
     "pageSize": 10,
     "pageIndex": 0,
     "filters": [],
     "sortBy": []
    },
    "deepnote_table_loading": false,
    "cell_id": "00019-20d8008b-6850-4c07-9cb6-eacde6374966",
    "deepnote_cell_type": "code",
    "deepnote_cell_height": 600
   },
   "source": "posts_df.sort_values(by=\"timestamp\")",
   "execution_count": null,
   "outputs": [
    {
     "output_type": "execute_result",
     "execution_count": 10,
     "data": {
      "application/vnd.deepnote.dataframe.v3+json": {
       "column_count": 3,
       "row_count": 131,
       "columns": [
        {
         "name": "likesCount",
         "dtype": "int64",
         "stats": {
          "unique_count": 101,
          "nan_count": 0,
          "min": "23",
          "max": "817",
          "histogram": [
           {
            "bin_start": 23,
            "bin_end": 102.4,
            "count": 57
           },
           {
            "bin_start": 102.4,
            "bin_end": 181.8,
            "count": 39
           },
           {
            "bin_start": 181.8,
            "bin_end": 261.20000000000005,
            "count": 14
           },
           {
            "bin_start": 261.20000000000005,
            "bin_end": 340.6,
            "count": 11
           },
           {
            "bin_start": 340.6,
            "bin_end": 420,
            "count": 6
           },
           {
            "bin_start": 420,
            "bin_end": 499.40000000000003,
            "count": 1
           },
           {
            "bin_start": 499.40000000000003,
            "bin_end": 578.8000000000001,
            "count": 0
           },
           {
            "bin_start": 578.8000000000001,
            "bin_end": 658.2,
            "count": 1
           },
           {
            "bin_start": 658.2,
            "bin_end": 737.6,
            "count": 1
           },
           {
            "bin_start": 737.6,
            "bin_end": 817,
            "count": 1
           }
          ]
         }
        },
        {
         "name": "commentsCount",
         "dtype": "int64",
         "stats": {
          "unique_count": 45,
          "nan_count": 0,
          "min": "0",
          "max": "780",
          "histogram": [
           {
            "bin_start": 0,
            "bin_end": 78,
            "count": 127
           },
           {
            "bin_start": 78,
            "bin_end": 156,
            "count": 3
           },
           {
            "bin_start": 156,
            "bin_end": 234,
            "count": 0
           },
           {
            "bin_start": 234,
            "bin_end": 312,
            "count": 0
           },
           {
            "bin_start": 312,
            "bin_end": 390,
            "count": 0
           },
           {
            "bin_start": 390,
            "bin_end": 468,
            "count": 0
           },
           {
            "bin_start": 468,
            "bin_end": 546,
            "count": 0
           },
           {
            "bin_start": 546,
            "bin_end": 624,
            "count": 0
           },
           {
            "bin_start": 624,
            "bin_end": 702,
            "count": 0
           },
           {
            "bin_start": 702,
            "bin_end": 780,
            "count": 1
           }
          ]
         }
        },
        {
         "name": "timestamp",
         "dtype": "datetime64[ns, UTC]",
         "stats": {
          "unique_count": 131,
          "nan_count": 0,
          "min": "2021-06-10 21:05:31+00:00",
          "max": "2022-03-31 17:39:09+00:00",
          "histogram": [
           {
            "bin_start": 1623359131000000000,
            "bin_end": 1625898052800000000,
            "count": 14
           },
           {
            "bin_start": 1625898052800000000,
            "bin_end": 1628436974600000000,
            "count": 15
           },
           {
            "bin_start": 1628436974600000000,
            "bin_end": 1630975896400000000,
            "count": 10
           },
           {
            "bin_start": 1630975896400000000,
            "bin_end": 1633514818200000000,
            "count": 8
           },
           {
            "bin_start": 1633514818200000000,
            "bin_end": 1636053740000000000,
            "count": 12
           },
           {
            "bin_start": 1636053740000000000,
            "bin_end": 1638592661800000000,
            "count": 14
           },
           {
            "bin_start": 1638592661800000000,
            "bin_end": 1641131583600000000,
            "count": 9
           },
           {
            "bin_start": 1641131583600000000,
            "bin_end": 1643670505400000000,
            "count": 16
           },
           {
            "bin_start": 1643670505400000000,
            "bin_end": 1646209427200000000,
            "count": 13
           },
           {
            "bin_start": 1646209427200000000,
            "bin_end": 1648748349000000000,
            "count": 20
           }
          ]
         }
        },
        {
         "name": "_deepnote_index_column",
         "dtype": "int64"
        }
       ],
       "rows": [
        {
         "likesCount": 169,
         "commentsCount": 1,
         "timestamp": "2021-06-10T21:05:31.000000",
         "_deepnote_index_column": 130
        },
        {
         "likesCount": 184,
         "commentsCount": 13,
         "timestamp": "2021-06-15T21:51:47.000000",
         "_deepnote_index_column": 129
        },
        {
         "likesCount": 252,
         "commentsCount": 12,
         "timestamp": "2021-06-16T21:31:06.000000",
         "_deepnote_index_column": 128
        },
        {
         "likesCount": 346,
         "commentsCount": 48,
         "timestamp": "2021-06-17T21:05:45.000000",
         "_deepnote_index_column": 127
        },
        {
         "likesCount": 216,
         "commentsCount": 14,
         "timestamp": "2021-06-18T21:05:32.000000",
         "_deepnote_index_column": 126
        },
        {
         "likesCount": 290,
         "commentsCount": 48,
         "timestamp": "2021-06-21T21:05:07.000000",
         "_deepnote_index_column": 125
        },
        {
         "likesCount": 311,
         "commentsCount": 39,
         "timestamp": "2021-06-24T21:29:31.000000",
         "_deepnote_index_column": 124
        },
        {
         "likesCount": 256,
         "commentsCount": 8,
         "timestamp": "2021-06-25T21:38:57.000000",
         "_deepnote_index_column": 123
        },
        {
         "likesCount": 281,
         "commentsCount": 32,
         "timestamp": "2021-06-26T21:05:55.000000",
         "_deepnote_index_column": 122
        },
        {
         "likesCount": 170,
         "commentsCount": 11,
         "timestamp": "2021-06-29T21:05:14.000000",
         "_deepnote_index_column": 121
        }
       ]
      },
      "text/plain": "     likesCount  commentsCount                 timestamp\n130         169              1 2021-06-10 21:05:31+00:00\n129         184             13 2021-06-15 21:51:47+00:00\n128         252             12 2021-06-16 21:31:06+00:00\n127         346             48 2021-06-17 21:05:45+00:00\n126         216             14 2021-06-18 21:05:32+00:00\n..          ...            ...                       ...\n4            51             12 2022-03-28 15:33:44+00:00\n3           103              0 2022-03-29 17:30:08+00:00\n2            45              6 2022-03-30 15:22:16+00:00\n1            23              1 2022-03-30 17:01:45+00:00\n0            34              2 2022-03-31 17:39:09+00:00\n\n[131 rows x 3 columns]",
      "text/html": "<div>\n<style scoped>\n    .dataframe tbody tr th:only-of-type {\n        vertical-align: middle;\n    }\n\n    .dataframe tbody tr th {\n        vertical-align: top;\n    }\n\n    .dataframe thead th {\n        text-align: right;\n    }\n</style>\n<table border=\"1\" class=\"dataframe\">\n  <thead>\n    <tr style=\"text-align: right;\">\n      <th></th>\n      <th>likesCount</th>\n      <th>commentsCount</th>\n      <th>timestamp</th>\n    </tr>\n  </thead>\n  <tbody>\n    <tr>\n      <th>130</th>\n      <td>169</td>\n      <td>1</td>\n      <td>2021-06-10 21:05:31+00:00</td>\n    </tr>\n    <tr>\n      <th>129</th>\n      <td>184</td>\n      <td>13</td>\n      <td>2021-06-15 21:51:47+00:00</td>\n    </tr>\n    <tr>\n      <th>128</th>\n      <td>252</td>\n      <td>12</td>\n      <td>2021-06-16 21:31:06+00:00</td>\n    </tr>\n    <tr>\n      <th>127</th>\n      <td>346</td>\n      <td>48</td>\n      <td>2021-06-17 21:05:45+00:00</td>\n    </tr>\n    <tr>\n      <th>126</th>\n      <td>216</td>\n      <td>14</td>\n      <td>2021-06-18 21:05:32+00:00</td>\n    </tr>\n    <tr>\n      <th>...</th>\n      <td>...</td>\n      <td>...</td>\n      <td>...</td>\n    </tr>\n    <tr>\n      <th>4</th>\n      <td>51</td>\n      <td>12</td>\n      <td>2022-03-28 15:33:44+00:00</td>\n    </tr>\n    <tr>\n      <th>3</th>\n      <td>103</td>\n      <td>0</td>\n      <td>2022-03-29 17:30:08+00:00</td>\n    </tr>\n    <tr>\n      <th>2</th>\n      <td>45</td>\n      <td>6</td>\n      <td>2022-03-30 15:22:16+00:00</td>\n    </tr>\n    <tr>\n      <th>1</th>\n      <td>23</td>\n      <td>1</td>\n      <td>2022-03-30 17:01:45+00:00</td>\n    </tr>\n    <tr>\n      <th>0</th>\n      <td>34</td>\n      <td>2</td>\n      <td>2022-03-31 17:39:09+00:00</td>\n    </tr>\n  </tbody>\n</table>\n<p>131 rows × 3 columns</p>\n</div>"
     },
     "metadata": {}
    }
   ]
  },
  {
   "cell_type": "code",
   "metadata": {
    "tags": [],
    "deepnote_to_be_reexecuted": false,
    "source_hash": "70032519",
    "execution_start": 1651441490911,
    "execution_millis": 1487,
    "cell_id": "00020-606fdccb-5581-479f-acd2-e903b8719b8a",
    "deepnote_cell_type": "code",
    "deepnote_cell_height": 417.1875,
    "deepnote_output_heights": [
     21.1875,
     250
    ]
   },
   "source": "import matplotlib.pyplot as plt\nplt.plot(posts_df['timestamp'], posts_df['commentsCount'])",
   "execution_count": null,
   "outputs": [
    {
     "output_type": "execute_result",
     "execution_count": 11,
     "data": {
      "text/plain": "[<matplotlib.lines.Line2D at 0x7f3f60bc2f10>]"
     },
     "metadata": {}
    },
    {
     "data": {
      "text/plain": "<Figure size 432x288 with 1 Axes>",
      "image/png": "[encoded data removed]"
     },
     "metadata": {
      "needs_background": "light",
      "image/png": {
       "width": 380,
       "height": 248
      }
     },
     "output_type": "display_data"
    }
   ]
  },
  {
   "cell_type": "code",
   "metadata": {
    "tags": [],
    "deepnote_to_be_reexecuted": false,
    "source_hash": "d8434cde",
    "execution_start": 1651441492441,
    "execution_millis": 3,
    "cell_id": "00021-f05b40ef-77d5-4c97-8dae-f2c960269dec",
    "deepnote_cell_type": "code",
    "deepnote_cell_height": 168.375
   },
   "source": "score = posts_df['likesCount']*posts_df['commentsCount']\nprint(sum(score)/posts_df.shape[0])\nprint(posts_df.shape[0])",
   "execution_count": null,
   "outputs": [
    {
     "name": "stdout",
     "text": "7428.557251908397\n131\n",
     "output_type": "stream"
    }
   ]
  },
  {
   "cell_type": "markdown",
   "source": "Made calcHype function to take in a company name and optional weighted parameters",
   "metadata": {
    "tags": [],
    "cell_id": "00022-131b9554-16cf-499c-824b-5b12666322f0",
    "deepnote_cell_type": "markdown",
    "deepnote_cell_height": 52.390625
   }
  },
  {
   "cell_type": "code",
   "metadata": {
    "tags": [],
    "deepnote_to_be_reexecuted": false,
    "source_hash": "c83eccad",
    "execution_start": 1651441492442,
    "execution_millis": 0,
    "owner_user_id": "8a7dc35f-d556-4189-8bd7-51c0b9a2c294",
    "cell_id": "00023-498e3dea-ef9b-4a47-b674-d0bacca94fd8",
    "deepnote_cell_type": "code",
    "deepnote_cell_height": 243
   },
   "source": "def calcHype(company, a = 0.5, b = 1):\n    path = \"InstagramData/\" + company + \".json\"\n    df = pd.read_json(path)\n    posts_df = df[['timestamp', 'likesCount', 'commentsCount']]\n    posts_df.sort_values(by=\"timestamp\")\n    plt.plot(posts_df['timestamp'], posts_df['likesCount'])\n    print(posts_df.head())\n    score = a * posts_df['likesCount'] + b * posts_df['commentsCount']\n    return sum(score)//posts_df.shape[0]\n",
   "execution_count": null,
   "outputs": []
  },
  {
   "cell_type": "code",
   "metadata": {
    "tags": [],
    "deepnote_to_be_reexecuted": false,
    "source_hash": "549f935e",
    "execution_start": 1651441492443,
    "execution_millis": 227,
    "cell_id": "00024-1cc77c08-23d3-472a-893d-e9f5dc9a2383",
    "deepnote_cell_type": "code",
    "deepnote_cell_height": 546.3125,
    "deepnote_output_heights": [
     null,
     21.1875,
     250
    ]
   },
   "source": "calcHype(\"Freshly\")",
   "execution_count": null,
   "outputs": [
    {
     "name": "stdout",
     "text": "                  timestamp  likesCount  commentsCount\n0 2022-03-31 17:39:09+00:00          34              2\n1 2022-03-30 17:01:45+00:00          23              1\n2 2022-03-30 15:22:16+00:00          45              6\n3 2022-03-29 17:30:08+00:00         103              0\n4 2022-03-28 15:33:44+00:00          51             12\n",
     "output_type": "stream"
    },
    {
     "output_type": "execute_result",
     "execution_count": 14,
     "data": {
      "text/plain": "99.0"
     },
     "metadata": {}
    },
    {
     "data": {
      "text/plain": "<Figure size 432x288 with 1 Axes>",
      "image/png": "[encoded data removed]"
     },
     "metadata": {
      "needs_background": "light",
      "image/png": {
       "width": 380,
       "height": 248
      }
     },
     "output_type": "display_data"
    }
   ]
  },
  {
   "cell_type": "code",
   "metadata": {
    "tags": [],
    "deepnote_to_be_reexecuted": false,
    "source_hash": "b494fec8",
    "execution_start": 1651441492672,
    "execution_millis": 247,
    "cell_id": "00025-f74e1a46-a1a6-4f29-848a-88a56992b02e",
    "deepnote_cell_type": "code",
    "deepnote_cell_height": 546.3125,
    "deepnote_output_heights": [
     null,
     21.1875,
     250
    ]
   },
   "source": "calcHype(\"SakaraLife\")",
   "execution_count": null,
   "outputs": [
    {
     "name": "stdout",
     "text": "                  timestamp  likesCount  commentsCount\n0 2022-04-27 22:31:30+00:00         708             20\n1 2022-04-26 22:14:00+00:00         828             58\n2 2022-04-26 16:21:45+00:00         152              6\n3 2022-04-25 22:21:56+00:00         402             12\n4 2022-04-24 14:20:06+00:00         316             19\n",
     "output_type": "stream"
    },
    {
     "output_type": "execute_result",
     "execution_count": 15,
     "data": {
      "text/plain": "380.0"
     },
     "metadata": {}
    },
    {
     "data": {
      "text/plain": "<Figure size 432x288 with 1 Axes>",
      "image/png": "[encoded data removed]"
     },
     "metadata": {
      "needs_background": "light",
      "image/png": {
       "width": 405,
       "height": 248
      }
     },
     "output_type": "display_data"
    }
   ]
  },
  {
   "cell_type": "code",
   "metadata": {
    "tags": [],
    "deepnote_to_be_reexecuted": false,
    "source_hash": "2fa8ee5",
    "execution_start": 1651441492920,
    "execution_millis": 269,
    "cell_id": "00026-ebc9b1f0-0e59-402a-ab6a-bf225f75cf5c",
    "deepnote_cell_type": "code",
    "deepnote_cell_height": 546.3125,
    "deepnote_output_heights": [
     null,
     21.1875,
     250
    ]
   },
   "source": "calcHype(\"Homechef\")",
   "execution_count": null,
   "outputs": [
    {
     "name": "stdout",
     "text": "                  timestamp  likesCount  commentsCount\n0 2022-04-28 02:06:56+00:00          81              4\n1 2022-04-27 00:03:48+00:00          41              5\n2 2022-04-26 01:05:35+00:00          42              0\n3 2022-04-23 01:00:19+00:00          84              5\n4 2022-04-22 01:06:05+00:00          36              3\n",
     "output_type": "stream"
    },
    {
     "output_type": "execute_result",
     "execution_count": 16,
     "data": {
      "text/plain": "63.0"
     },
     "metadata": {}
    },
    {
     "data": {
      "text/plain": "<Figure size 432x288 with 1 Axes>",
      "image/png": "[encoded data removed]"
     },
     "metadata": {
      "needs_background": "light",
      "image/png": {
       "width": 397,
       "height": 248
      }
     },
     "output_type": "display_data"
    }
   ]
  },
  {
   "cell_type": "code",
   "metadata": {
    "tags": [],
    "deepnote_to_be_reexecuted": false,
    "source_hash": "c9d2f67b",
    "execution_start": 1651441493235,
    "execution_millis": 326,
    "cell_id": "00027-21dcac4a-0d1d-4af0-9e4a-eb3c4f02d377",
    "deepnote_cell_type": "code",
    "deepnote_cell_height": 81
   },
   "source": "import seaborn as sns",
   "execution_count": null,
   "outputs": []
  },
  {
   "cell_type": "code",
   "metadata": {
    "tags": [],
    "deepnote_to_be_reexecuted": false,
    "source_hash": "1a0e0816",
    "execution_start": 1651441493565,
    "execution_millis": 755,
    "cell_id": "00028-0afaa152-4e63-4e7f-80f0-3580e146f885",
    "deepnote_cell_type": "code",
    "deepnote_cell_height": 172.1875,
    "deepnote_output_heights": [
     21.1875
    ]
   },
   "source": "sns.set_theme(style=\"whitegrid\")\ntips = sns.load_dataset(\"tips\")\npd.DataFrame\n#ax = sns.barplot(x=\"Company\", y=\"Hype Score\", data=tips)",
   "execution_count": null,
   "outputs": [
    {
     "output_type": "execute_result",
     "execution_count": 18,
     "data": {
      "text/plain": "pandas.core.frame.DataFrame"
     },
     "metadata": {}
    }
   ]
  },
  {
   "cell_type": "code",
   "metadata": {
    "tags": [],
    "deepnote_to_be_reexecuted": false,
    "source_hash": "5d1216cf",
    "execution_start": 1651441493930,
    "execution_millis": 395,
    "cell_id": "00029-f392f6fd-2b7e-4262-9f8b-726e74f84172",
    "deepnote_cell_type": "code",
    "deepnote_cell_height": 549.3125,
    "deepnote_output_heights": [
     null,
     21.1875,
     253
    ]
   },
   "source": "calcHype(\"Greenchef\")",
   "execution_count": null,
   "outputs": [
    {
     "name": "stdout",
     "text": "                  timestamp  likesCount  commentsCount\n0 2022-04-27 17:00:20+00:00          47              1\n1 2022-04-26 23:00:20+00:00          41              1\n2 2022-04-26 15:00:20+00:00          70              4\n3 2022-04-25 17:00:20+00:00          63              4\n4 2022-04-24 17:00:20+00:00         127             12\n",
     "output_type": "stream"
    },
    {
     "output_type": "execute_result",
     "execution_count": 19,
     "data": {
      "text/plain": "41.0"
     },
     "metadata": {}
    },
    {
     "data": {
      "text/plain": "<Figure size 432x288 with 1 Axes>",
      "image/png": "[encoded data removed]"
     },
     "metadata": {
      "image/png": {
       "width": 407,
       "height": 251
      }
     },
     "output_type": "display_data"
    }
   ]
  },
  {
   "cell_type": "code",
   "metadata": {
    "tags": [],
    "deepnote_to_be_reexecuted": false,
    "source_hash": "fb24bbd6",
    "execution_start": 1651441494293,
    "execution_millis": 685,
    "cell_id": "00030-d26c171c-8092-465d-8b97-d3db052a5bd4",
    "deepnote_cell_type": "code",
    "deepnote_cell_height": 1123.8125,
    "deepnote_output_heights": [
     null,
     21.1875,
     253
    ]
   },
   "source": "companies = ['Freshly', 'Greenchef', 'Homechef', 'SakaraLife', 'Feast&Fettle']\nhype = []\nfor company in companies:\n    hype.append(calcHype(company))\n\nhype",
   "execution_count": null,
   "outputs": [
    {
     "name": "stdout",
     "text": "                  timestamp  likesCount  commentsCount\n0 2022-03-31 17:39:09+00:00          34              2\n1 2022-03-30 17:01:45+00:00          23              1\n2 2022-03-30 15:22:16+00:00          45              6\n3 2022-03-29 17:30:08+00:00         103              0\n4 2022-03-28 15:33:44+00:00          51             12\n                  timestamp  likesCount  commentsCount\n0 2022-04-27 17:00:20+00:00          47              1\n1 2022-04-26 23:00:20+00:00          41              1\n2 2022-04-26 15:00:20+00:00          70              4\n3 2022-04-25 17:00:20+00:00          63              4\n4 2022-04-24 17:00:20+00:00         127             12\n                  timestamp  likesCount  commentsCount\n0 2022-04-28 02:06:56+00:00          81              4\n1 2022-04-27 00:03:48+00:00          41              5\n2 2022-04-26 01:05:35+00:00          42              0\n3 2022-04-23 01:00:19+00:00          84              5\n4 2022-04-22 01:06:05+00:00          36              3\n                  timestamp  likesCount  commentsCount\n0 2022-04-27 22:31:30+00:00         708             20\n1 2022-04-26 22:14:00+00:00         828             58\n2 2022-04-26 16:21:45+00:00         152              6\n3 2022-04-25 22:21:56+00:00         402             12\n4 2022-04-24 14:20:06+00:00         316             19\n                  timestamp  likesCount  commentsCount\n0 2022-04-30 13:38:53+00:00         111              4\n1 2022-04-29 21:14:57+00:00          52              1\n2 2022-04-28 21:26:53+00:00          65             11\n3 2022-04-28 16:06:29+00:00          46              5\n4 2022-04-27 11:51:58+00:00         139             10\n",
     "output_type": "stream"
    },
    {
     "output_type": "execute_result",
     "execution_count": 20,
     "data": {
      "text/plain": "[99.0, 41.0, 63.0, 380.0, 60.0]"
     },
     "metadata": {}
    },
    {
     "data": {
      "text/plain": "<Figure size 432x288 with 1 Axes>",
      "image/png": "[encoded data removed]"
     },
     "metadata": {
      "image/png": {
       "width": 394,
       "height": 251
      }
     },
     "output_type": "display_data"
    }
   ]
  },
  {
   "cell_type": "code",
   "metadata": {
    "tags": [],
    "deepnote_to_be_reexecuted": false,
    "source_hash": "d5b7c1ff",
    "execution_start": 1651441494945,
    "execution_millis": 34,
    "cell_id": "00031-5abb1e75-b513-4090-8cb2-de055a169a63",
    "deepnote_cell_type": "code",
    "deepnote_cell_height": 238.1875
   },
   "source": "import numpy as np\nfrom sklearn import preprocessing\nhype = np.array(hype)\nnormalized_hype = preprocessing.normalize([hype])\nprint(normalized_hype)\n\ncomp_data = {'Company': companies,\n        'Hype': normalized_hype[0]}",
   "execution_count": null,
   "outputs": [
    {
     "name": "stdout",
     "text": "[[0.24487328 0.10141217 0.15582845 0.93991765 0.14840805]]\n",
     "output_type": "stream"
    }
   ]
  },
  {
   "cell_type": "code",
   "metadata": {
    "tags": [],
    "deepnote_to_be_reexecuted": false,
    "source_hash": "ae9b99ba",
    "execution_start": 1651441494946,
    "execution_millis": 101,
    "cell_id": "00032-1c54c0ae-db19-4161-8427-fe43cb5812e1",
    "deepnote_cell_type": "code",
    "deepnote_cell_height": 440,
    "deepnote_output_heights": [
     253
    ]
   },
   "source": "sns.set_theme(style=\"whitegrid\")\ntips = sns.load_dataset(\"tips\")\nax = sns.barplot(x=\"Company\", y=\"Hype\", data=comp_data) \nax.set_ylabel(\"Social Media Reach\")\nsns.despine()\n",
   "execution_count": null,
   "outputs": [
    {
     "data": {
      "text/plain": "<Figure size 432x288 with 1 Axes>",
      "image/png": "[encoded data removed]"
     },
     "metadata": {
      "image/png": {
       "width": 394,
       "height": 251
      }
     },
     "output_type": "display_data"
    }
   ]
  },
  {
   "cell_type": "markdown",
   "source": "# Final Bar Chart generated above using calcHype()",
   "metadata": {
    "tags": [],
    "is_collapsed": false,
    "cell_id": "00033-ec2a970d-aa88-4e79-99f3-4a949f66b7ce",
    "deepnote_cell_type": "text-cell-h1"
   }
  },
  {
   "cell_type": "markdown",
   "source": "",
   "metadata": {
    "tags": [],
    "is_collapsed": false,
    "cell_id": "00034-2c989990-4d20-4592-8351-1aff4cd4f084",
    "deepnote_cell_type": "text-cell-p"
   }
  },
  {
   "cell_type": "markdown",
   "source": "<a style='text-decoration:none;line-height:16px;display:flex;color:#5B5B62;padding:10px;justify-content:end;' href='https://deepnote.com?utm_source=created-in-deepnote-cell&projectId=9e88faaf-ade4-4526-a9d5-3a022b266140' target=\"_blank\">\n<img alt='Created in deepnote.com' style='display:inline;max-height:16px;margin:0px;margin-right:7.5px;' src='data:image/svg+xml;base64,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' > </img>\nCreated in <span style='font-weight:600;margin-left:4px;'>Deepnote</span></a>",
   "metadata": {
    "tags": [],
    "created_in_deepnote_cell": true,
    "deepnote_cell_type": "markdown"
   }
  }
 ],
 "nbformat": 4,
 "nbformat_minor": 2,
 "metadata": {
  "orig_nbformat": 2,
  "deepnote": {
   "is_reactive": false
  },
  "deepnote_notebook_id": "c569460a-728c-4633-8001-faa3f5aa6e08",
  "deepnote_execution_queue": []
 }
}